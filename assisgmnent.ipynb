{
 "cells": [
  {
   "cell_type": "markdown",
   "id": "591f8d15",
   "metadata": {},
   "source": [
    "# FUNCTION ASSISGMENT"
   ]
  },
  {
   "cell_type": "code",
   "execution_count": 4,
   "id": "420dd78d",
   "metadata": {},
   "outputs": [],
   "source": [
    "## Define a function calls addNumber(x, y) that takes in two number and returns the sum of the two numbers."
   ]
  },
  {
   "cell_type": "code",
   "execution_count": 15,
   "id": "1ac17f3a",
   "metadata": {},
   "outputs": [
    {
     "name": "stdout",
     "output_type": "stream",
     "text": [
      "12\n"
     ]
    }
   ],
   "source": [
    "def addNumber(x, y):\n",
    "    return x + y\n",
    "\n",
    "\n",
    "result = addNumber(5, 7)\n",
    "print(result)"
   ]
  },
  {
   "cell_type": "code",
   "execution_count": 10,
   "id": "7168db0b",
   "metadata": {},
   "outputs": [
    {
     "ename": "NameError",
     "evalue": "name 'addnumber' is not defined",
     "output_type": "error",
     "traceback": [
      "\u001b[1;31m---------------------------------------------------------------------------\u001b[0m",
      "\u001b[1;31mNameError\u001b[0m                                 Traceback (most recent call last)",
      "Cell \u001b[1;32mIn[10], line 1\u001b[0m\n\u001b[1;32m----> 1\u001b[0m result \u001b[38;5;241m=\u001b[39m addnumber(\u001b[38;5;241m15\u001b[39m, \u001b[38;5;241m17\u001b[39m)\n\u001b[0;32m      2\u001b[0m \u001b[38;5;28mprint\u001b[39m(\u001b[38;5;124mf\u001b[39m\u001b[38;5;124m\"\u001b[39m\u001b[38;5;124mThe sum is: \u001b[39m\u001b[38;5;132;01m{\u001b[39;00mresult\u001b[38;5;132;01m}\u001b[39;00m\u001b[38;5;124m\"\u001b[39m)\n",
      "\u001b[1;31mNameError\u001b[0m: name 'addnumber' is not defined"
     ]
    }
   ],
   "source": [
    "result = addnumber(15, 17)\n",
    "print(f\"The sum is: {result}\")"
   ]
  },
  {
   "cell_type": "code",
   "execution_count": 11,
   "id": "b9e00398",
   "metadata": {},
   "outputs": [
    {
     "name": "stdout",
     "output_type": "stream",
     "text": [
      "The sum is: 28\n"
     ]
    }
   ],
   "source": [
    "def addNumber(x, y):\n",
    "    \"\"\"\n",
    "    Adds two numbers and returns the sum.\n",
    "\n",
    "    Args:\n",
    "        x (float or int): First number.\n",
    "        y (float or int): Second number.\n",
    "\n",
    "    Returns:\n",
    "        float or int: Sum of x and y.\n",
    "    \"\"\"\n",
    "    return x + y\n",
    "\n",
    "# Example usage:\n",
    "result = addNumber(15, 13)\n",
    "print(f\"The sum is: {result}\")"
   ]
  },
  {
   "cell_type": "code",
   "execution_count": null,
   "id": "a4cd9fa8",
   "metadata": {},
   "outputs": [],
   "source": [
    "# Define a function calls subtractNumber(x, y) that takes in two numbers and returns the difference of the two numbers.\n"
   ]
  },
  {
   "cell_type": "code",
   "execution_count": 14,
   "id": "acd8b467",
   "metadata": {},
   "outputs": [
    {
     "name": "stdout",
     "output_type": "stream",
     "text": [
      "40\n"
     ]
    }
   ],
   "source": [
    "def subtractNumber(x, y):\n",
    "    return x - y\n",
    "\n",
    "\n",
    "result = subtractNumber(45, 5)\n",
    "print(result) "
   ]
  },
  {
   "cell_type": "code",
   "execution_count": null,
   "id": "6b5f2c5a",
   "metadata": {},
   "outputs": [],
   "source": [
    "# Write a function getBiggerNumber(x, y) that takes in two numbers as arguments and returns the bigger number.\n",
    "\n"
   ]
  },
  {
   "cell_type": "code",
   "execution_count": 25,
   "id": "83721f4a",
   "metadata": {},
   "outputs": [
    {
     "name": "stdout",
     "output_type": "stream",
     "text": [
      "12\n"
     ]
    }
   ],
   "source": [
    "def getBiggerNumber(x, y):\n",
    "    if x > y:\n",
    "        return x\n",
    "    else:\n",
    "        return y\n",
    "    \n",
    "    \n",
    "    result = getBiggerNumber(10, 5)\n",
    "print(result)"
   ]
  },
  {
   "cell_type": "code",
   "execution_count": 23,
   "id": "d1e23840",
   "metadata": {},
   "outputs": [
    {
     "name": "stdout",
     "output_type": "stream",
     "text": [
      "12\n"
     ]
    }
   ],
   "source": [
    "def getBiggerNumber(x, y):\n",
    "    if x > y:\n",
    "        return x\n",
    "    else:\n",
    "        return y\n",
    "    \n",
    "    \n",
    "    result = ge\n",
    "    tBiggerNumber(15, 10)\n",
    "print(result)"
   ]
  },
  {
   "cell_type": "code",
   "execution_count": 26,
   "id": "8eb20422",
   "metadata": {},
   "outputs": [
    {
     "name": "stdout",
     "output_type": "stream",
     "text": [
      "10\n"
     ]
    }
   ],
   "source": [
    "def getBiggerNumber(x, y):\n",
    "    if x > y:\n",
    "        return x\n",
    "    else:\n",
    "        return y\n",
    "result = getBiggerNumber(10, 5)\n",
    "print(result)  # This will print 10\n"
   ]
  },
  {
   "cell_type": "code",
   "execution_count": 27,
   "id": "8d05ece3",
   "metadata": {},
   "outputs": [
    {
     "name": "stdout",
     "output_type": "stream",
     "text": [
      "100\n"
     ]
    }
   ],
   "source": [
    "def getBiggerNumber(x, y):\n",
    "    if x > y:\n",
    "        return x\n",
    "    else:\n",
    "        return y\n",
    "result = getBiggerNumber(100, 5)\n",
    "print(result)  # This will print 10\n"
   ]
  },
  {
   "cell_type": "code",
   "execution_count": 30,
   "id": "e5814d11",
   "metadata": {
    "scrolled": true
   },
   "outputs": [
    {
     "name": "stdout",
     "output_type": "stream",
     "text": [
      "200\n"
     ]
    }
   ],
   "source": [
    "def getBiggerNumber(x, y):\n",
    "    if x > y:\n",
    "        return x\n",
    "    else:\n",
    "        return y\n",
    "result = getBiggerNumber(170, 200)\n",
    "print(result)  # This will print 10\n"
   ]
  },
  {
   "cell_type": "markdown",
   "id": "a73664be",
   "metadata": {},
   "source": [
    "# Python provides many built-in modules with many useful functions. \n",
    "# One such module is the math module. The math module provides many useful functions such as sqrt(x), pow(x, y), ceil(x), floor(x) etc. \n",
    "# You will need to do a \"import math\" before you are allowed to use the functions within the math module.\n",
    "\n",
    "\n",
    "# Calculate the square root of 16 and stores it in the variable a\n",
    "\n",
    "\n",
    "# Calculate 3 to the power of 5 and stores it in the variable b\n",
    "\n",
    "\n",
    "# Calculate area of circle with radius = 3.0 by making use of the math.pi constant and store it in the variable c\n",
    "\n"
   ]
  },
  {
   "cell_type": "code",
   "execution_count": 39,
   "id": "e59d2f7c",
   "metadata": {},
   "outputs": [],
   "source": [
    "import math"
   ]
  },
  {
   "cell_type": "markdown",
   "id": "e68e8ee1",
   "metadata": {},
   "source": [
    "#Calculate the square root of 16 and store it in the variable a"
   ]
  },
  {
   "cell_type": "code",
   "execution_count": 33,
   "id": "ba602ccb",
   "metadata": {},
   "outputs": [
    {
     "ename": "NameError",
     "evalue": "name 'math' is not defined",
     "output_type": "error",
     "traceback": [
      "\u001b[1;31m---------------------------------------------------------------------------\u001b[0m",
      "\u001b[1;31mNameError\u001b[0m                                 Traceback (most recent call last)",
      "Cell \u001b[1;32mIn[33], line 1\u001b[0m\n\u001b[1;32m----> 1\u001b[0m a \u001b[38;5;241m=\u001b[39m math\u001b[38;5;241m.\u001b[39msqrt(\u001b[38;5;241m16\u001b[39m)\n",
      "\u001b[1;31mNameError\u001b[0m: name 'math' is not defined"
     ]
    }
   ],
   "source": [
    "a = math.sqrt(16)"
   ]
  },
  {
   "cell_type": "markdown",
   "id": "cb0b40b7",
   "metadata": {},
   "source": [
    "#Calculate 3 to the power of 5 and stores it in the variable b"
   ]
  },
  {
   "cell_type": "code",
   "execution_count": null,
   "id": "69d41dfb",
   "metadata": {},
   "outputs": [],
   "source": [
    "b = math.pow(3, 5)"
   ]
  },
  {
   "cell_type": "markdown",
   "id": "ca594c78",
   "metadata": {},
   "source": [
    "#Calculate the area of a circle with radius = 3.0 using math.pi and store it in the variable c"
   ]
  },
  {
   "cell_type": "code",
   "execution_count": 40,
   "id": "485e3ed2",
   "metadata": {},
   "outputs": [
    {
     "ename": "NameError",
     "evalue": "name 'a' is not defined",
     "output_type": "error",
     "traceback": [
      "\u001b[1;31m---------------------------------------------------------------------------\u001b[0m",
      "\u001b[1;31mNameError\u001b[0m                                 Traceback (most recent call last)",
      "Cell \u001b[1;32mIn[40], line 4\u001b[0m\n\u001b[0;32m      1\u001b[0m radius \u001b[38;5;241m=\u001b[39m \u001b[38;5;241m3.0\u001b[39m\n\u001b[0;32m      2\u001b[0m c \u001b[38;5;241m=\u001b[39m math\u001b[38;5;241m.\u001b[39mpi \u001b[38;5;241m*\u001b[39m math\u001b[38;5;241m.\u001b[39mpow(radius, \u001b[38;5;241m2\u001b[39m)\n\u001b[1;32m----> 4\u001b[0m \u001b[38;5;28mprint\u001b[39m(\u001b[38;5;124m\"\u001b[39m\u001b[38;5;124mSquare root of 16:\u001b[39m\u001b[38;5;124m\"\u001b[39m, a)\n\u001b[0;32m      5\u001b[0m \u001b[38;5;28mprint\u001b[39m(\u001b[38;5;124m\"\u001b[39m\u001b[38;5;124m3 to the power of 5:\u001b[39m\u001b[38;5;124m\"\u001b[39m, b)\n\u001b[0;32m      6\u001b[0m \u001b[38;5;28mprint\u001b[39m(\u001b[38;5;124m\"\u001b[39m\u001b[38;5;124mArea of circle with radius 3.0:\u001b[39m\u001b[38;5;124m\"\u001b[39m, c)\n",
      "\u001b[1;31mNameError\u001b[0m: name 'a' is not defined"
     ]
    }
   ],
   "source": [
    "radius = 3.0\n",
    "c = math.pi * math.pow(radius, 2)\n",
    "\n",
    "print(\"Square root of 16:\", a)\n",
    "print(\"3 to the power of 5:\", b)\n",
    "print(\"Area of circle with radius 3.0:\", c)"
   ]
  },
  {
   "cell_type": "code",
   "execution_count": 41,
   "id": "a83ab66d",
   "metadata": {},
   "outputs": [
    {
     "name": "stdout",
     "output_type": "stream",
     "text": [
      "Square root of 16: 4.0\n",
      "3 to the power of 5: 243.0\n",
      "Area of circle with radius 3.0: 28.27\n"
     ]
    }
   ],
   "source": [
    "import math\n",
    "\n",
    "# Calculate square root of 16\n",
    "a = math.sqrt(16)\n",
    "\n",
    "# Calculate 3 to the power of 5\n",
    "b = math.pow(3, 5)\n",
    "\n",
    "# Calculate area of circle with radius 3.0\n",
    "radius = 3.0\n",
    "c = math.pi * radius**2\n",
    "\n",
    "print(f\"Square root of 16: {a}\")\n",
    "print(f\"3 to the power of 5: {b}\")\n",
    "print(f\"Area of circle with radius 3.0: {c:.2f}\")\n"
   ]
  },
  {
   "cell_type": "code",
   "execution_count": 42,
   "id": "c9580664",
   "metadata": {},
   "outputs": [
    {
     "name": "stdout",
     "output_type": "stream",
     "text": [
      "Square root of 16: 4.0\n",
      "3 to the power of 5: 243.0\n",
      "Area of circle with radius 3.0: 28.274333882308138\n"
     ]
    }
   ],
   "source": [
    "import math\n",
    "\n",
    "# Calculate the square root of 16 and store it in the variable a\n",
    "a = math.sqrt(16)\n",
    "\n",
    "# Calculate 3 to the power of 5 and store it in the variable b\n",
    "b = math.pow(3, 5)\n",
    "\n",
    "# Calculate the area of a circle with radius = 3.0 using math.pi and store it in the variable c\n",
    "radius = 3.0\n",
    "c = math.pi * math.pow(radius, 2)\n",
    "\n",
    "print(\"Square root of 16:\", a)\n",
    "print(\"3 to the power of 5:\", b)\n",
    "print(\"Area of circle with radius 3.0:\", c)\n"
   ]
  },
  {
   "cell_type": "markdown",
   "id": "d8a2cf61",
   "metadata": {},
   "source": [
    "#Write a function to convert temperature from Celsius to Fahrenheit scale.\n",
    "#oC to oF Conversion: Multipy by 9, then divide by 5, then add 32.\n",
    "\n",
    "#Note: Return a string of 2 decimal places.\n",
    "#In - Cel2Fah(28.0)\n",
    " Out - '82.40'\n",
    " In - Cel2Fah(0.00)\n",
    " Out - '32.00'"
   ]
  },
  {
   "cell_type": "code",
   "execution_count": 47,
   "id": "7c413940",
   "metadata": {},
   "outputs": [
    {
     "name": "stdout",
     "output_type": "stream",
     "text": [
      "82.40\n",
      "32.00\n"
     ]
    }
   ],
   "source": [
    "def Cel2Fah(celsius):\n",
    "    fahrenheit = (celsius * 9 / 5) + 32\n",
    "    return '{:.2f}'.format(fahrenheit)\n",
    "\n",
    "\n",
    "\n",
    "\n",
    "print(Cel2Fah(28.0))\n",
    "print(Cel2Fah(0.00))"
   ]
  },
  {
   "cell_type": "markdown",
   "id": "5553c450",
   "metadata": {},
   "source": [
    "## Write a function to compute the BMI of a person.\n",
    "#     BMI = weight(kg)  /  ( height(m)*height(m) )\n",
    "\n",
    "# Note: Return a string of 1 decimal place.\n",
    "# In - BMI(63, 1.7)\n",
    "# Out - '21.8'\n",
    "# In - BMI(110, 2)\n",
    "# Out - '27.5'\n",
    " "
   ]
  },
  {
   "cell_type": "code",
   "execution_count": 51,
   "id": "ab8f8680",
   "metadata": {},
   "outputs": [
    {
     "name": "stdout",
     "output_type": "stream",
     "text": [
      "21.8\n",
      "27.5\n"
     ]
    }
   ],
   "source": [
    "def BMI(weight, height):\n",
    "    bmi = weight / (height * height)\n",
    "    return '{:.1f}'.format(bmi)\n",
    "\n",
    "print(BMI(63, 1.7))  \n",
    "print(BMI(110, 2))\n"
   ]
  },
  {
   "cell_type": "code",
   "execution_count": 1,
   "id": "52337318",
   "metadata": {},
   "outputs": [],
   "source": []
  },
  {
   "cell_type": "markdown",
   "id": "2091d5e6",
   "metadata": {},
   "source": [
    "# Write a function percent(value, total) that takes in two numbers as arguments, and returns the percentage value as an integer.\n",
    "# In - percent(46, 90)\n",
    "# Out - 51\n",
    "# In - percent(51, 51)\n",
    "# Out - 100\n",
    "# In - percent(63, 12)\n",
    "# Out - 525\n",
    "\n"
   ]
  },
  {
   "cell_type": "code",
   "execution_count": 3,
   "id": "4a95c1ae",
   "metadata": {},
   "outputs": [
    {
     "name": "stdout",
     "output_type": "stream",
     "text": [
      "51\n",
      "100\n",
      "525\n"
     ]
    }
   ],
   "source": [
    "def percent(value, total):\n",
    "    return int((value / total) * 100)\n",
    "\n",
    "\n",
    "print(percent(46, 90))  \n",
    "print(percent(51, 51))  \n",
    "print(percent(63, 12))"
   ]
  },
  {
   "cell_type": "markdown",
   "id": "be50be8e",
   "metadata": {},
   "source": [
    "# Write a function to compute the hypotenuse given sides a and b of the triangle.\n",
    "# Hint: You can use math.sqrt(x) to compute the square root of x.\n",
    "# In - hypotenuse(3, 4)\n",
    "# Out - 5\n",
    "# In - hypotenuse(5, 12)\n",
    "# Out - 13"
   ]
  },
  {
   "cell_type": "code",
   "execution_count": 7,
   "id": "617f7a5d",
   "metadata": {},
   "outputs": [],
   "source": [
    "import math"
   ]
  },
  {
   "cell_type": "code",
   "execution_count": 9,
   "id": "2da78145",
   "metadata": {},
   "outputs": [
    {
     "name": "stdout",
     "output_type": "stream",
     "text": [
      "5\n",
      "13\n"
     ]
    }
   ],
   "source": [
    "def hypotenuse(a, b):\n",
    "    return int(math.sqrt(a**2 + b**2))\n",
    "\n",
    "\n",
    "print(hypotenuse(3, 4))  \n",
    "print(hypotenuse(5, 12))  "
   ]
  },
  {
   "cell_type": "code",
   "execution_count": null,
   "id": "1610309c",
   "metadata": {},
   "outputs": [],
   "source": [
    "This function calculates the hypotenuse of a right triangle given the lengths of two sides.\n",
    "\n",
    "  Args:\n",
    "      a: The length of one side of the triangle.\n",
    "      b: The length of another side of the triangle.\n",
    "\n",
    "  Returns:\n",
    "      The length of the hypotenuse of the triangle.\n",
    "\n",
    "  Raises:\n",
    "      ValueError: If either side length is non-positive"
   ]
  },
  {
   "cell_type": "markdown",
   "id": "c949648f",
   "metadata": {},
   "source": [
    "# Write a function getSumOfLastDigits() that takes in a list of positive numbers and returns the sum of all the last digits in the list.\n",
    "# getSumOfLastDigits([2, 3, 4])\n",
    "# 9\n",
    "# getSumOfLastDigits([1, 23, 456])\n",
    "# 10"
   ]
  },
  {
   "cell_type": "code",
   "execution_count": 10,
   "id": "1d89eee0",
   "metadata": {},
   "outputs": [
    {
     "name": "stdout",
     "output_type": "stream",
     "text": [
      "9\n",
      "10\n"
     ]
    }
   ],
   "source": [
    "def getSumOfLastDigits(numbers):\n",
    "    return sum(num % 10 for num in numbers)\n",
    "\n",
    "\n",
    "print(getSumOfLastDigits([2, 3, 4]))   \n",
    "print(getSumOfLastDigits([1, 23, 456])) "
   ]
  },
  {
   "cell_type": "code",
   "execution_count": null,
   "id": "bf6f1c6a",
   "metadata": {},
   "outputs": [],
   "source": [
    "Calculates the sum of the last digits in a list of positive numbers.\n",
    "\n",
    "    Args:\n",
    "        numbers (list of int): List of positive numbers.\n",
    "\n",
    "    Returns:\n",
    "        int: Sum of the last digits."
   ]
  },
  {
   "cell_type": "markdown",
   "id": "9fee0eb6",
   "metadata": {},
   "source": [
    "# Write a function that uses a default value.\n",
    "# In - introduce('Lim', 20)\n",
    "# Out - 'My name is Lim. I am 20 years old.'\n",
    "# In - introduce('Ahmad')\n",
    "# Out - 'My name is Ahmad. My age is secret.'\n",
    "\n"
   ]
  },
  {
   "cell_type": "code",
   "execution_count": 11,
   "id": "9ead562d",
   "metadata": {},
   "outputs": [
    {
     "name": "stdout",
     "output_type": "stream",
     "text": [
      "My name is Lim. I am 20 years old.\n",
      "My name is Ahmad. My age is secret.\n"
     ]
    }
   ],
   "source": [
    "def introduce(name, age='secret'):\n",
    "    if age == 'secret':\n",
    "        return f\"My name is {name}. My age is {age}.\"\n",
    "    else:\n",
    "        return f\"My name is {name}. I am {age} years old.\"\n",
    "\n",
    "# Test cases\n",
    "print(introduce('Lim', 20))   # Output: 'My name is Lim. I am 20 years old.'\n",
    "print(introduce('Ahmad'))     # Output: 'My name is Ahmad. My age is secret.'"
   ]
  },
  {
   "cell_type": "markdown",
   "id": "c8851c71",
   "metadata": {},
   "source": [
    "#In this function, the parameter age is given a default value of 'secret'. If the value of age remains 'secret', the function returns a statement indicating that the age is secret. Otherwise, it includes the provided age in the output."
   ]
  },
  {
   "cell_type": "markdown",
   "id": "d0638a12",
   "metadata": {},
   "source": [
    "# Write a function isEquilateral(x, y, z) that accepts the 3 sides of a triangle as arguments. \n",
    "# The program should return True if it is an equilateral triangle.\n",
    "\n",
    "# In - isEquilateral(2, 4, 3)\n",
    "# False - False\n",
    "# In - isEquilateral(3, 3, 3)\n",
    "# Out - True\n",
    "# In - isEquilateral(-3, -3, -3)\n",
    "# Out - False"
   ]
  },
  {
   "cell_type": "code",
   "execution_count": 13,
   "id": "ccaea698",
   "metadata": {},
   "outputs": [
    {
     "name": "stdout",
     "output_type": "stream",
     "text": [
      "False\n",
      "True\n",
      "False\n"
     ]
    }
   ],
   "source": [
    "def isEquilateral(x, y, z):\n",
    "    return x == y == z and x > 0\n",
    "\n",
    "print(isEquilateral(2, 4, 3))\n",
    "print(isEquilateral(3, 3, 3))\n",
    "print(isEquilateral(-3, -3, -3))\n"
   ]
  },
  {
   "cell_type": "markdown",
   "id": "c851d89f",
   "metadata": {},
   "source": [
    "# For a quadratic equation in the form of ax2+bx+c, the discriminant, D is b2-4ac. Write a function to compute the discriminant, D.\n",
    "# In - quadratic(1, 2, 3)\n",
    "# Out - 'The discriminant is -8.'\n",
    "# In - quadratic(1, 3, 2)\n",
    "# Out - 'The discriminant is 1.'\n",
    "# In - quadratic(1, 4, 4)\n",
    "# Out - 'The discriminant is 0."
   ]
  },
  {
   "cell_type": "code",
   "execution_count": 14,
   "id": "1e0666c5",
   "metadata": {},
   "outputs": [
    {
     "name": "stdout",
     "output_type": "stream",
     "text": [
      "The discriminant is -8.\n",
      "The discriminant is 1.\n",
      "The discriminant is 0.\n"
     ]
    }
   ],
   "source": [
    "def quadratic(a, b, c):\n",
    "    discriminant = b**2 - 4*a*c\n",
    "    return f'The discriminant is {discriminant}.'\n",
    "\n",
    "print(quadratic(1, 2, 3))\n",
    "print(quadratic(1, 3, 2)) \n",
    "print(quadratic(1, 4, 4))"
   ]
  },
  {
   "cell_type": "markdown",
   "id": "d26f3e60",
   "metadata": {},
   "source": [
    "#This function calculates the discriminant using the formula b^2 - 4ac and returns it in the desired format."
   ]
  },
  {
   "cell_type": "markdown",
   "id": "3ffb2502",
   "metadata": {},
   "source": [
    "# Define a function calls addFirstAndLast(x) that takes in a list of numbers and returns the sum of the first and last numbers.\n",
    "# In - addFirstAndLast([])\n",
    "# Out - 0\n",
    "# In - addFirstAndLast([2, 7, 3])\n",
    "# Out - 5\n",
    "# In - addFirstAndLast([10])\n",
    "# Out - 10\n",
    "\n",
    "def addFirstAndLast(lst):\n",
    "    pass\n",
    "\n",
    "## addFirstAndLast([2,7,3])\n",
    "## addFirstAndLast([])\n",
    "## addFirstAndLast([10])"
   ]
  },
  {
   "cell_type": "code",
   "execution_count": 17,
   "id": "698ed1a6",
   "metadata": {},
   "outputs": [
    {
     "name": "stdout",
     "output_type": "stream",
     "text": [
      "0\n",
      "5\n",
      "10\n"
     ]
    }
   ],
   "source": [
    "def addFirstandLast(lst):\n",
    "    if not lst:\n",
    "        return 0\n",
    "    elif len(lst) == 1:\n",
    "        return lst[0]\n",
    "    else:\n",
    "        return lst[0] + lst[-1]\n",
    "\n",
    "print(addFirstAndLast([])) \n",
    "print(addFirstAndLast([2,7,3]))\n",
    "print(addFirstAndLast([10]))"
   ]
  },
  {
   "cell_type": "markdown",
   "id": "e36f5983",
   "metadata": {},
   "source": [
    "#This function checks the length of the list. If the list is empty, it returns 0. If the list has only one element, it returns that element. Otherwise, it returns the sum of the first and last elements of the list."
   ]
  },
  {
   "cell_type": "code",
   "execution_count": null,
   "id": "d3ea80b0",
   "metadata": {},
   "outputs": [],
   "source": []
  },
  {
   "cell_type": "code",
   "execution_count": null,
   "id": "a5eca6c5",
   "metadata": {},
   "outputs": [],
   "source": []
  },
  {
   "cell_type": "code",
   "execution_count": null,
   "id": "0e0084ab",
   "metadata": {},
   "outputs": [],
   "source": []
  },
  {
   "cell_type": "code",
   "execution_count": null,
   "id": "f3d29d68",
   "metadata": {},
   "outputs": [],
   "source": []
  },
  {
   "cell_type": "code",
   "execution_count": null,
   "id": "bbc6531b",
   "metadata": {},
   "outputs": [],
   "source": []
  },
  {
   "cell_type": "code",
   "execution_count": null,
   "id": "e646f379",
   "metadata": {},
   "outputs": [],
   "source": []
  },
  {
   "cell_type": "code",
   "execution_count": null,
   "id": "657333ff",
   "metadata": {},
   "outputs": [],
   "source": []
  },
  {
   "cell_type": "code",
   "execution_count": null,
   "id": "501a5230",
   "metadata": {},
   "outputs": [],
   "source": []
  },
  {
   "cell_type": "code",
   "execution_count": null,
   "id": "a3b63469",
   "metadata": {},
   "outputs": [],
   "source": []
  },
  {
   "cell_type": "code",
   "execution_count": null,
   "id": "d9f2ac51",
   "metadata": {},
   "outputs": [],
   "source": []
  },
  {
   "cell_type": "code",
   "execution_count": null,
   "id": "a45e78f5",
   "metadata": {},
   "outputs": [],
   "source": []
  },
  {
   "cell_type": "code",
   "execution_count": null,
   "id": "be03614f",
   "metadata": {},
   "outputs": [],
   "source": []
  },
  {
   "cell_type": "code",
   "execution_count": null,
   "id": "6817412a",
   "metadata": {},
   "outputs": [],
   "source": []
  },
  {
   "cell_type": "code",
   "execution_count": null,
   "id": "8225c71c",
   "metadata": {},
   "outputs": [],
   "source": []
  }
 ],
 "metadata": {
  "kernelspec": {
   "display_name": "Python 3 (ipykernel)",
   "language": "python",
   "name": "python3"
  },
  "language_info": {
   "codemirror_mode": {
    "name": "ipython",
    "version": 3
   },
   "file_extension": ".py",
   "mimetype": "text/x-python",
   "name": "python",
   "nbconvert_exporter": "python",
   "pygments_lexer": "ipython3",
   "version": "3.11.7"
  }
 },
 "nbformat": 4,
 "nbformat_minor": 5
}
