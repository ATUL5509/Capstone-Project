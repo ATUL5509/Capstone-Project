{
 "cells": [
  {
   "cell_type": "markdown",
   "id": "76d5ba14",
   "metadata": {},
   "source": [
    "A P. which takes one number from 0 to 9 from the user and prints\n",
    "it in the word. And if the word is not from 0 to 9 then\n",
    "it should print that number is outside of the range and program should\n",
    "exit.\n",
    "* For exapmple:-\n",
    "* input = 1\n",
    "* output = one"
   ]
  },
  {
   "cell_type": "code",
   "execution_count": 1,
   "id": "e6b56d4f",
   "metadata": {},
   "outputs": [
    {
     "name": "stdout",
     "output_type": "stream",
     "text": [
      "Enter a number from 0 to 9: 5\n",
      "Output: five\n"
     ]
    }
   ],
   "source": [
    "def print_number_word():\n",
    "    \n",
    "    number_words = {\n",
    "        0: \"zero\",\n",
    "        1: \"one\",\n",
    "        2: \"two\",\n",
    "        3: \"three\",\n",
    "        4: \"four\",\n",
    "        5: \"five\",\n",
    "        6: \"six\",\n",
    "        7: \"seven\",\n",
    "        8: \"eight\",\n",
    "        9: \"nine\"}\n",
    "    \n",
    "\n",
    "    num = int(input(\"Enter a number from 0 to 9: \"))\n",
    "    if num in number_words:\n",
    "        print(\"Output:\", number_words[num])\n",
    "    else:\n",
    "        print(\"Number is outside of the range.\")\n",
    "print_number_word()\n"
   ]
  },
  {
   "cell_type": "markdown",
   "id": "61918fd2",
   "metadata": {},
   "source": [
    "A P. to implement calculator but the operation to be done and two\n",
    "numbers will be taken as input from user:-\n",
    "Operation console should show below:-\n",
    "Please select any one operation from below:-\n",
    "* To add enter 1\n",
    "* to subtract enter 2\n",
    "* To multiply enter 3\n",
    "* To divide enter 4\n",
    "* To divide and find quotient enter 5\n",
    "* To divide and find remainder enter 6\n",
    "* To divide and find num1 to the power of num2 enter 7\n",
    "* To Come out of the program enter 8"
   ]
  },
  {
   "cell_type": "code",
   "execution_count": null,
   "id": "9192948a",
   "metadata": {},
   "outputs": [],
   "source": [
    "def add(num1, num2):\n",
    "    return num1 + num2\n",
    "\n",
    "def subtract(num1, num2):\n",
    "    return num1 - num2\n",
    "\n",
    "def multiply(num1, num2):\n",
    "    return num1 * num2\n",
    "\n",
    "def divide(num1, num2):\n",
    "    if num2 == 0:\n",
    "        return \"Error! Division by zero.\"\n",
    "    return num1 / num2\n",
    "\n",
    "def divide_and_find_quotient(num1, num2):\n",
    "    if num2 == 0:\n",
    "        return \"Error! Division by zero.\"\n",
    "    return num1 // num2\n",
    "\n",
    "def divide_and_find_remainder(num1, num2):\n",
    "    if num2 == 0:\n",
    "        return \"Error! Division by zero.\"\n",
    "    return num1 % num2\n",
    "\n",
    "def power(num1, num2):\n",
    "    return num1 ** num2\n",
    "\n",
    "def calculator():\n",
    "    while True:\n",
    "        print(\"Please select any one operation from below:\")\n",
    "        print(\"* To add enter 1\")\n",
    "        print(\"* To subtract enter 2\")\n",
    "        print(\"* To multiply enter 3\")\n",
    "        print(\"* To divide enter 4\")\n",
    "        print(\"* To divide and find quotient enter 5\")\n",
    "        print(\"* To divide and find remainder enter 6\")\n",
    "        print(\"* To divide and find num1 to the power of num2 enter 7\")\n",
    "        print(\"* To Come out of the program enter 8\")\n",
    "\n",
    "        choice = int(input(\"Enter your choice: \"))\n",
    "\n",
    "        if choice == 8:\n",
    "            print(\"Exiting the program.\")\n",
    "            break\n",
    "\n",
    "        num1 = float(input(\"Enter first number: \"))\n",
    "        num2 = float(input(\"Enter second number: \"))\n",
    "\n",
    "        if choice == 1:\n",
    "            print(\"Result:\", add(num1, num2))\n",
    "        elif choice == 2:\n",
    "            print(\"Result:\", subtract(num1, num2))\n",
    "        elif choice == 3:\n",
    "            print(\"Result:\", multiply(num1, num2))\n",
    "        elif choice == 4:\n",
    "            print(\"Result:\", divide(num1, num2))\n",
    "        elif choice == 5:\n",
    "            print(\"Result:\", divide_and_find_quotient(num1, num2))\n",
    "        elif choice == 6:\n",
    "            print(\"Result:\", divide_and_find_remainder(num1, num2))\n",
    "        elif choice == 7:\n",
    "            print(\"Result:\", power(num1, num2))\n",
    "        else:\n",
    "            print(\"Invalid choice! Please select a valid operation.\")\n",
    "calculator()\n"
   ]
  },
  {
   "cell_type": "code",
   "execution_count": null,
   "id": "c7eb32a8",
   "metadata": {},
   "outputs": [],
   "source": [
    "def add(num1, num2):\n",
    "    return num1 + num2\n",
    "\n",
    "def subtract(num1, num2):\n",
    "    return num1 - num2\n",
    "\n",
    "def multiply(num1, num2):\n",
    "    return num1 * num2\n",
    "\n",
    "def divide(num1, num2):\n",
    "    if num2 == 0:\n",
    "        return \"Error! Division by zero.\"\n",
    "    return num1 / num2\n",
    "\n",
    "def divide_and_find_quotient(num1, num2):\n",
    "    if num2 == 0:\n",
    "        return \"Error! Division by zero.\"\n",
    "    return num1 // num2\n",
    "\n",
    "def divide_and_find_remainder(num1, num2):\n",
    "    if num2 == 0:\n",
    "        return \"Error! Division by zero.\"\n",
    "    return num1 % num2\n",
    "\n",
    "def power(num1, num2):\n",
    "    return num1 ** num2\n",
    "\n",
    "def calculator():\n",
    "    while True:\n",
    "        print(\"Please select any one operation from below:\")\n",
    "        print(\"* To add enter 1\")\n",
    "        print(\"* To subtract enter 2\")\n",
    "        print(\"* To multiply enter 3\")\n",
    "        print(\"* To divide enter 4\")\n",
    "        print(\"* To divide and find quotient enter 5\")\n",
    "        print(\"* To divide and find remainder enter 6\")\n",
    "        print(\"* To divide and find num1 to the power of num2 enter 7\")\n",
    "        print(\"* To Come out of the program enter 8\")\n",
    "\n",
    "        choice = int(input(\"Enter your choice: \"))\n",
    "\n",
    "        if choice == 8:\n",
    "            print(\"Exiting the program.\")\n",
    "            break\n",
    "\n",
    "        num1 = float(input(\"Enter first number: \"))\n",
    "        num2 = float(input(\"Enter second number: \"))\n",
    "\n",
    "        if choice == 1:\n",
    "            print(\"Result:\", add(num1, num2))\n",
    "        elif choice == 2:\n",
    "            print(\"Result:\", subtract(num1, num2))\n",
    "        elif choice == 3:\n",
    "            print(\"Result:\", multiply(num1, num2))\n",
    "        elif choice == 4:\n",
    "            print(\"Result:\", divide(num1, num2))\n",
    "        elif choice == 5:\n",
    "            print(\"Result:\", divide_and_find_quotient(num1, num2))\n",
    "        elif choice == 6:\n",
    "            print(\"Result:\", divide_and_find_remainder(num1, num2))\n",
    "        elif choice == 7:\n",
    "            print(\"Result:\", power(num1, num2))\n",
    "        else:\n",
    "            print(\"Invalid choice! Please select a valid operation.\")\n",
    "calculator()\n"
   ]
  },
  {
   "cell_type": "markdown",
   "id": "290e065a",
   "metadata": {},
   "source": [
    "# A P to check whether a year entered by user is an leap year or not?\n",
    "Check with below input:-\n",
    "\n",
    "* leap year:- 2012, 1968, 2004, 1200, 1600,2400\n",
    "* Non-lear year:- 1971, 2006, 1700,1800,1900"
   ]
  },
  {
   "cell_type": "code",
   "execution_count": null,
   "id": "8c650e79",
   "metadata": {},
   "outputs": [],
   "source": [
    "def is_leap_year(year):\n",
    "    if year % 4 == 0:\n",
    "        if year % 100 == 0:\n",
    "            if year % 400 == 0:\n",
    "                return True\n",
    "            else:\n",
    "                return False\n",
    "        else:\n",
    "            return True\n",
    "    else:\n",
    "        return False\n",
    "\n",
    "leap_years = [2012, 1968, 2004, 1200, 1600, 2400]\n",
    "non_leap_years = [1971, 2006, 1700, 1800, 1900]\n",
    "\n",
    "print(\"Leap years:\")\n",
    "for year in leap_years:\n",
    "    if is_leap_year(year):\n",
    "        print(year)\n",
    "\n",
    "print(\"\\nNon-leap years:\")\n",
    "for year in non_leap_years:\n",
    "    if not is_leap_year(year):\n",
    "        print(year\n",
    "              \n"
   ]
  },
  {
   "cell_type": "code",
   "execution_count": null,
   "id": "08ee7a9e",
   "metadata": {},
   "outputs": [],
   "source": [
    "def is_leap_year(year):\n",
    "    if year % 4 == 0:\n",
    "        if year % 100 == 0:\n",
    "            if year % 400 == 0:\n",
    "                return True\n",
    "            else:\n",
    "                return False\n",
    "        else:\n",
    "            return True\n",
    "    else:\n",
    "        return False\n",
    "\n",
    "leap_years = [2012, 1968, 2004, 1200, 1600, 2400]\n",
    "non_leap_years = [1971, 2006, 1700, 1800, 1900]\n",
    "\n",
    "print(\"Leap years:\")\n",
    "for year in leap_years:\n",
    "    if is_leap_year(year):\n",
    "        print(year)\n",
    "\n",
    "print(\"\\nNon-leap years:\")\n",
    "for year in non_leap_years:\n",
    "    if not is_leap_year(year):\n",
    "   \n",
    "print(year)\n"
   ]
  },
  {
   "cell_type": "markdown",
   "id": "30b5c688",
   "metadata": {},
   "source": [
    "# \n",
    "A P which takes one number from the user and checks whether it is\n",
    "an even or odd number?, If it even then prints number is\n",
    "even number else prints that number is odd number."
   ]
  },
  {
   "cell_type": "code",
   "execution_count": null,
   "id": "ec06ce0e",
   "metadata": {},
   "outputs": [],
   "source": [
    "\n",
    "while True:\n",
    "  try:\n",
    "    user_number = int(input(\"Enter a number: \"))\n",
    "    break\n",
    "  except ValueError:\n",
    "    print(\"Invalid input. Please enter a number.\")\n",
    "if user_number % 2 == 0:\n",
    "  print(f\"{user_number} is an even number.\")\n",
    "else:\n",
    "  print(f\"{user_number} is an odd number.\")"
   ]
  },
  {
   "cell_type": "markdown",
   "id": "1accf595",
   "metadata": {},
   "source": [
    "A P which takes two numbers from the user and prints below output:-\n",
    "1. num1 is greater than num2 if num1 is greater than num2\n",
    "2. num1 is smaller than num2 if num1 is smaller than num2\n",
    "3. num1 is equal to num2 if num1 and num2 are equal\n",
    "Note:- 1. Do this problem using if - else\n",
    "2. Do this using ternary operator"
   ]
  },
  {
   "cell_type": "code",
   "execution_count": null,
   "id": "e09cf9a2",
   "metadata": {},
   "outputs": [],
   "source": [
    "def compare_numbers_if_else(num1, num2):\n",
    "    if num1 > num2:\n",
    "        print(\"num1 is greater than num2\")\n",
    "    elif num1 < num2:\n",
    "        print(\"num1 is smaller than num2\")\n",
    "    else:\n",
    "        print(\"num1 is equal to num2\")\n",
    "\n",
    "num1 = float(input(\"Enter the first number: \"))\n",
    "num2 = float(input(\"Enter the second number: \"))\n",
    "\n",
    "compare_numbers_if_else(num1, num2)\n"
   ]
  },
  {
   "cell_type": "code",
   "execution_count": null,
   "id": "3966a8b9",
   "metadata": {},
   "outputs": [],
   "source": [
    "def compare_numbers_ternary(num1, num2):\n",
    "    result = \"num1 is greater than num2\" if num1 > num2 else \\\n",
    "             \"num1 is smaller than num2\" if num1 < num2 else \\\n",
    "             \"num1 is equal to num2\"\n",
    "    print(result)\n",
    "\n",
    "num1 = float(input(\"Enter the first number: \"))\n",
    "num2 = float(input(\"Enter the second number: \"))\n",
    "\n",
    "compare_numbers_ternary(num1, num2)\n"
   ]
  },
  {
   "cell_type": "code",
   "execution_count": null,
   "id": "b1eec5a7",
   "metadata": {},
   "outputs": [],
   "source": []
  },
  {
   "cell_type": "code",
   "execution_count": null,
   "id": "26e4dae1",
   "metadata": {},
   "outputs": [],
   "source": []
  },
  {
   "cell_type": "code",
   "execution_count": null,
   "id": "3564af9c",
   "metadata": {},
   "outputs": [],
   "source": []
  },
  {
   "cell_type": "code",
   "execution_count": null,
   "id": "f6623d78",
   "metadata": {},
   "outputs": [],
   "source": []
  },
  {
   "cell_type": "code",
   "execution_count": null,
   "id": "006a474e",
   "metadata": {},
   "outputs": [],
   "source": []
  },
  {
   "cell_type": "code",
   "execution_count": null,
   "id": "6857c4a4",
   "metadata": {},
   "outputs": [],
   "source": []
  },
  {
   "cell_type": "code",
   "execution_count": null,
   "id": "1a7e1237",
   "metadata": {},
   "outputs": [],
   "source": []
  },
  {
   "cell_type": "code",
   "execution_count": null,
   "id": "1594cfe7",
   "metadata": {},
   "outputs": [],
   "source": []
  },
  {
   "cell_type": "code",
   "execution_count": null,
   "id": "7de6079d",
   "metadata": {},
   "outputs": [],
   "source": []
  },
  {
   "cell_type": "code",
   "execution_count": null,
   "id": "4823bf87",
   "metadata": {},
   "outputs": [],
   "source": []
  },
  {
   "cell_type": "code",
   "execution_count": null,
   "id": "24bd56fd",
   "metadata": {},
   "outputs": [],
   "source": []
  },
  {
   "cell_type": "code",
   "execution_count": null,
   "id": "0f9d207f",
   "metadata": {},
   "outputs": [],
   "source": []
  },
  {
   "cell_type": "code",
   "execution_count": null,
   "id": "f425809c",
   "metadata": {},
   "outputs": [],
   "source": []
  },
  {
   "cell_type": "code",
   "execution_count": null,
   "id": "b0558b1a",
   "metadata": {},
   "outputs": [],
   "source": []
  },
  {
   "cell_type": "code",
   "execution_count": null,
   "id": "8a5eb7ca",
   "metadata": {},
   "outputs": [],
   "source": []
  },
  {
   "cell_type": "code",
   "execution_count": null,
   "id": "79031aec",
   "metadata": {},
   "outputs": [],
   "source": []
  },
  {
   "cell_type": "code",
   "execution_count": null,
   "id": "6802e707",
   "metadata": {},
   "outputs": [],
   "source": []
  },
  {
   "cell_type": "code",
   "execution_count": null,
   "id": "6cf16948",
   "metadata": {},
   "outputs": [],
   "source": []
  },
  {
   "cell_type": "code",
   "execution_count": null,
   "id": "53fb1450",
   "metadata": {},
   "outputs": [],
   "source": []
  },
  {
   "cell_type": "code",
   "execution_count": null,
   "id": "187fe2ae",
   "metadata": {},
   "outputs": [],
   "source": []
  },
  {
   "cell_type": "code",
   "execution_count": null,
   "id": "e794b9b2",
   "metadata": {},
   "outputs": [],
   "source": []
  },
  {
   "cell_type": "code",
   "execution_count": null,
   "id": "2e15a543",
   "metadata": {},
   "outputs": [],
   "source": []
  },
  {
   "cell_type": "code",
   "execution_count": null,
   "id": "853d6ec6",
   "metadata": {},
   "outputs": [],
   "source": []
  },
  {
   "cell_type": "code",
   "execution_count": null,
   "id": "0fd3c6e0",
   "metadata": {},
   "outputs": [],
   "source": []
  },
  {
   "cell_type": "code",
   "execution_count": null,
   "id": "b0645581",
   "metadata": {},
   "outputs": [],
   "source": []
  },
  {
   "cell_type": "code",
   "execution_count": null,
   "id": "28dc4202",
   "metadata": {},
   "outputs": [],
   "source": []
  },
  {
   "cell_type": "code",
   "execution_count": null,
   "id": "ee949226",
   "metadata": {},
   "outputs": [],
   "source": []
  },
  {
   "cell_type": "code",
   "execution_count": null,
   "id": "49954b20",
   "metadata": {},
   "outputs": [],
   "source": []
  },
  {
   "cell_type": "code",
   "execution_count": null,
   "id": "2b992368",
   "metadata": {},
   "outputs": [],
   "source": []
  },
  {
   "cell_type": "code",
   "execution_count": null,
   "id": "6cd76d5b",
   "metadata": {},
   "outputs": [],
   "source": []
  },
  {
   "cell_type": "code",
   "execution_count": null,
   "id": "cf4c309c",
   "metadata": {},
   "outputs": [],
   "source": []
  },
  {
   "cell_type": "code",
   "execution_count": null,
   "id": "11f4f133",
   "metadata": {},
   "outputs": [],
   "source": []
  },
  {
   "cell_type": "code",
   "execution_count": null,
   "id": "f33def84",
   "metadata": {},
   "outputs": [],
   "source": []
  },
  {
   "cell_type": "code",
   "execution_count": null,
   "id": "437e0315",
   "metadata": {},
   "outputs": [],
   "source": []
  },
  {
   "cell_type": "code",
   "execution_count": null,
   "id": "43565ac6",
   "metadata": {},
   "outputs": [],
   "source": []
  },
  {
   "cell_type": "code",
   "execution_count": null,
   "id": "81a8108a",
   "metadata": {},
   "outputs": [],
   "source": []
  },
  {
   "cell_type": "code",
   "execution_count": null,
   "id": "af3ef123",
   "metadata": {},
   "outputs": [],
   "source": []
  },
  {
   "cell_type": "code",
   "execution_count": null,
   "id": "61b7f29e",
   "metadata": {},
   "outputs": [],
   "source": []
  },
  {
   "cell_type": "code",
   "execution_count": null,
   "id": "d1c795d5",
   "metadata": {},
   "outputs": [],
   "source": []
  },
  {
   "cell_type": "code",
   "execution_count": null,
   "id": "e42c7e09",
   "metadata": {},
   "outputs": [],
   "source": []
  },
  {
   "cell_type": "code",
   "execution_count": null,
   "id": "6e6fd05f",
   "metadata": {},
   "outputs": [],
   "source": []
  },
  {
   "cell_type": "code",
   "execution_count": null,
   "id": "084cd306",
   "metadata": {},
   "outputs": [],
   "source": []
  },
  {
   "cell_type": "code",
   "execution_count": null,
   "id": "867fe1bb",
   "metadata": {},
   "outputs": [],
   "source": []
  },
  {
   "cell_type": "code",
   "execution_count": null,
   "id": "e855e6fd",
   "metadata": {},
   "outputs": [],
   "source": []
  },
  {
   "cell_type": "code",
   "execution_count": null,
   "id": "513d34ec",
   "metadata": {},
   "outputs": [],
   "source": []
  },
  {
   "cell_type": "code",
   "execution_count": null,
   "id": "21c72e11",
   "metadata": {},
   "outputs": [],
   "source": []
  },
  {
   "cell_type": "code",
   "execution_count": null,
   "id": "af491c5f",
   "metadata": {},
   "outputs": [],
   "source": []
  },
  {
   "cell_type": "code",
   "execution_count": null,
   "id": "6e9574e2",
   "metadata": {},
   "outputs": [],
   "source": []
  },
  {
   "cell_type": "code",
   "execution_count": null,
   "id": "2d83c9f9",
   "metadata": {},
   "outputs": [],
   "source": []
  },
  {
   "cell_type": "code",
   "execution_count": null,
   "id": "152991ca",
   "metadata": {},
   "outputs": [],
   "source": []
  },
  {
   "cell_type": "code",
   "execution_count": null,
   "id": "f608c1e0",
   "metadata": {},
   "outputs": [],
   "source": []
  },
  {
   "cell_type": "code",
   "execution_count": null,
   "id": "baa93f9a",
   "metadata": {},
   "outputs": [],
   "source": []
  },
  {
   "cell_type": "code",
   "execution_count": null,
   "id": "d64500b4",
   "metadata": {},
   "outputs": [],
   "source": []
  },
  {
   "cell_type": "code",
   "execution_count": null,
   "id": "a227cbcd",
   "metadata": {},
   "outputs": [],
   "source": []
  },
  {
   "cell_type": "code",
   "execution_count": null,
   "id": "199b23ee",
   "metadata": {},
   "outputs": [],
   "source": []
  },
  {
   "cell_type": "code",
   "execution_count": null,
   "id": "1f14b1c4",
   "metadata": {},
   "outputs": [],
   "source": []
  },
  {
   "cell_type": "code",
   "execution_count": null,
   "id": "eb390ab6",
   "metadata": {},
   "outputs": [],
   "source": []
  },
  {
   "cell_type": "code",
   "execution_count": null,
   "id": "7e5874ad",
   "metadata": {},
   "outputs": [],
   "source": []
  },
  {
   "cell_type": "code",
   "execution_count": null,
   "id": "3a7d5627",
   "metadata": {},
   "outputs": [],
   "source": []
  },
  {
   "cell_type": "code",
   "execution_count": null,
   "id": "ba53c045",
   "metadata": {},
   "outputs": [],
   "source": []
  },
  {
   "cell_type": "code",
   "execution_count": null,
   "id": "7b94462f",
   "metadata": {},
   "outputs": [],
   "source": []
  },
  {
   "cell_type": "code",
   "execution_count": null,
   "id": "38f11ada",
   "metadata": {},
   "outputs": [],
   "source": []
  },
  {
   "cell_type": "code",
   "execution_count": null,
   "id": "5aa38318",
   "metadata": {},
   "outputs": [],
   "source": []
  },
  {
   "cell_type": "code",
   "execution_count": null,
   "id": "4d3db64c",
   "metadata": {},
   "outputs": [],
   "source": []
  },
  {
   "cell_type": "code",
   "execution_count": null,
   "id": "197f87a4",
   "metadata": {},
   "outputs": [],
   "source": []
  },
  {
   "cell_type": "code",
   "execution_count": null,
   "id": "3ba0ba26",
   "metadata": {},
   "outputs": [],
   "source": []
  },
  {
   "cell_type": "code",
   "execution_count": null,
   "id": "db9b20ce",
   "metadata": {},
   "outputs": [],
   "source": []
  },
  {
   "cell_type": "code",
   "execution_count": null,
   "id": "57f0deca",
   "metadata": {},
   "outputs": [],
   "source": []
  },
  {
   "cell_type": "code",
   "execution_count": null,
   "id": "4fb4b0d2",
   "metadata": {},
   "outputs": [],
   "source": []
  },
  {
   "cell_type": "code",
   "execution_count": null,
   "id": "c4792543",
   "metadata": {},
   "outputs": [],
   "source": []
  },
  {
   "cell_type": "code",
   "execution_count": null,
   "id": "ac0e0a2a",
   "metadata": {},
   "outputs": [],
   "source": []
  },
  {
   "cell_type": "code",
   "execution_count": null,
   "id": "400d3e0a",
   "metadata": {},
   "outputs": [],
   "source": []
  },
  {
   "cell_type": "code",
   "execution_count": null,
   "id": "57a1261c",
   "metadata": {},
   "outputs": [],
   "source": []
  },
  {
   "cell_type": "code",
   "execution_count": null,
   "id": "42370cd4",
   "metadata": {},
   "outputs": [],
   "source": []
  },
  {
   "cell_type": "code",
   "execution_count": null,
   "id": "ec1fda36",
   "metadata": {},
   "outputs": [],
   "source": []
  },
  {
   "cell_type": "code",
   "execution_count": null,
   "id": "f095c802",
   "metadata": {},
   "outputs": [],
   "source": []
  },
  {
   "cell_type": "code",
   "execution_count": null,
   "id": "15da9f05",
   "metadata": {},
   "outputs": [],
   "source": []
  },
  {
   "cell_type": "code",
   "execution_count": null,
   "id": "363fa127",
   "metadata": {},
   "outputs": [],
   "source": []
  },
  {
   "cell_type": "code",
   "execution_count": null,
   "id": "a00b7068",
   "metadata": {},
   "outputs": [],
   "source": []
  },
  {
   "cell_type": "code",
   "execution_count": null,
   "id": "87832d57",
   "metadata": {},
   "outputs": [],
   "source": []
  },
  {
   "cell_type": "code",
   "execution_count": null,
   "id": "9de65139",
   "metadata": {},
   "outputs": [],
   "source": []
  },
  {
   "cell_type": "code",
   "execution_count": null,
   "id": "863b871d",
   "metadata": {},
   "outputs": [],
   "source": []
  },
  {
   "cell_type": "code",
   "execution_count": null,
   "id": "a2d2fe66",
   "metadata": {},
   "outputs": [],
   "source": []
  },
  {
   "cell_type": "code",
   "execution_count": null,
   "id": "1613edae",
   "metadata": {},
   "outputs": [],
   "source": []
  },
  {
   "cell_type": "code",
   "execution_count": null,
   "id": "5d975741",
   "metadata": {},
   "outputs": [],
   "source": []
  },
  {
   "cell_type": "code",
   "execution_count": null,
   "id": "253fb9a7",
   "metadata": {},
   "outputs": [],
   "source": []
  },
  {
   "cell_type": "code",
   "execution_count": null,
   "id": "51b8aae7",
   "metadata": {},
   "outputs": [],
   "source": []
  },
  {
   "cell_type": "code",
   "execution_count": null,
   "id": "8c36af47",
   "metadata": {},
   "outputs": [],
   "source": []
  },
  {
   "cell_type": "code",
   "execution_count": null,
   "id": "0f3ab323",
   "metadata": {},
   "outputs": [],
   "source": []
  },
  {
   "cell_type": "code",
   "execution_count": null,
   "id": "815f6f22",
   "metadata": {},
   "outputs": [],
   "source": []
  },
  {
   "cell_type": "code",
   "execution_count": null,
   "id": "50676829",
   "metadata": {},
   "outputs": [],
   "source": []
  },
  {
   "cell_type": "code",
   "execution_count": null,
   "id": "bf0a8f6c",
   "metadata": {},
   "outputs": [],
   "source": []
  },
  {
   "cell_type": "code",
   "execution_count": null,
   "id": "7c009012",
   "metadata": {},
   "outputs": [],
   "source": []
  },
  {
   "cell_type": "code",
   "execution_count": null,
   "id": "5e7019c5",
   "metadata": {},
   "outputs": [],
   "source": []
  },
  {
   "cell_type": "code",
   "execution_count": null,
   "id": "ff31732c",
   "metadata": {},
   "outputs": [],
   "source": []
  },
  {
   "cell_type": "code",
   "execution_count": null,
   "id": "8c927a3c",
   "metadata": {},
   "outputs": [],
   "source": []
  },
  {
   "cell_type": "code",
   "execution_count": null,
   "id": "094f48ea",
   "metadata": {},
   "outputs": [],
   "source": []
  },
  {
   "cell_type": "code",
   "execution_count": null,
   "id": "6bc0fb99",
   "metadata": {},
   "outputs": [],
   "source": []
  },
  {
   "cell_type": "code",
   "execution_count": null,
   "id": "e2bdab66",
   "metadata": {},
   "outputs": [],
   "source": []
  },
  {
   "cell_type": "code",
   "execution_count": null,
   "id": "7b9654f5",
   "metadata": {},
   "outputs": [],
   "source": []
  },
  {
   "cell_type": "code",
   "execution_count": null,
   "id": "4db680cd",
   "metadata": {},
   "outputs": [],
   "source": []
  },
  {
   "cell_type": "code",
   "execution_count": null,
   "id": "3d5aba17",
   "metadata": {},
   "outputs": [],
   "source": []
  },
  {
   "cell_type": "code",
   "execution_count": null,
   "id": "8894db9a",
   "metadata": {},
   "outputs": [],
   "source": []
  },
  {
   "cell_type": "code",
   "execution_count": null,
   "id": "742b394b",
   "metadata": {},
   "outputs": [],
   "source": []
  },
  {
   "cell_type": "code",
   "execution_count": null,
   "id": "98c23a7d",
   "metadata": {},
   "outputs": [],
   "source": []
  },
  {
   "cell_type": "code",
   "execution_count": null,
   "id": "61c46743",
   "metadata": {},
   "outputs": [],
   "source": []
  },
  {
   "cell_type": "code",
   "execution_count": null,
   "id": "4cefc706",
   "metadata": {},
   "outputs": [],
   "source": []
  },
  {
   "cell_type": "code",
   "execution_count": null,
   "id": "c1c39e3d",
   "metadata": {},
   "outputs": [],
   "source": [
    "\n",
    "\n"
   ]
  }
 ],
 "metadata": {
  "kernelspec": {
   "display_name": "Python 3 (ipykernel)",
   "language": "python",
   "name": "python3"
  },
  "language_info": {
   "codemirror_mode": {
    "name": "ipython",
    "version": 3
   },
   "file_extension": ".py",
   "mimetype": "text/x-python",
   "name": "python",
   "nbconvert_exporter": "python",
   "pygments_lexer": "ipython3",
   "version": "3.11.7"
  }
 },
 "nbformat": 4,
 "nbformat_minor": 5
}
