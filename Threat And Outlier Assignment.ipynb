{
 "cells": [
  {
   "cell_type": "markdown",
   "id": "9177e1cc",
   "metadata": {},
   "source": [
    "#              Assignment"
   ]
  },
  {
   "cell_type": "code",
   "execution_count": 2,
   "id": "263cf649",
   "metadata": {},
   "outputs": [],
   "source": [
    "import numpy as np\n",
    "import pandas as pd\n",
    "import matplotlib.pyplot as plt\n",
    "\n",
    "\n",
    "\n",
    "\n"
   ]
  },
  {
   "cell_type": "code",
   "execution_count": null,
   "id": "ccb800ea",
   "metadata": {},
   "outputs": [],
   "source": [
    "data = pd.read_csv('your_dataset.csv')\n",
    "\n",
    "\n",
    "\n",
    "\n"
   ]
  },
  {
   "cell_type": "code",
   "execution_count": null,
   "id": "a652295b",
   "metadata": {},
   "outputs": [],
   "source": [
    "# Ques.1.  Detect and treat outliers (using IQR and Z Score Method), also visualise using boxplo"
   ]
  },
  {
   "cell_type": "code",
   "execution_count": null,
   "id": "50e1dfcc",
   "metadata": {},
   "outputs": [],
   "source": [
    "1. Interquartile Range (IQR) Method\n",
    "\n",
    "The IQR method is based on the spread of the middle 50% of data.\n",
    "\n",
    "Claculate Quartiles\n",
    "Q1(First Quartiles): 25th\n",
    "Q3(Third Quartiles): 75th\n",
    "\n",
    "IQR = Q3 - Q1\n",
    "\n",
    "Determine outlier Boundries\n",
    "-- Lower Boundries: Q1 - 1.5*IQR\n",
    "-- upper Boundries: Q3 + 1.5*IQR\n",
    "    \n",
    "Identify Quartiles\n",
    "\n",
    "Any data points below the lower bound or above the upper bound are considered outliers.\n",
    " Dataset[12,15,14,10,8,12,16,18,25,30,40]\n",
    "    \n",
    "Sorted Data: [8,10,14,12,12,15,16,18,25,30,40]\n",
    "Q1 = 12\n",
    "Q3 = 18\n",
    "IQR = 18-12 = 6\n",
    "\n",
    "Determine bound:\n",
    "    Lower Bound: 12 - 1.5*6 = 3\n",
    "    Upper Bound: 18 - 1.5*6 = 27\n",
    "\n",
    "        Data points below 3 and above 27 are considered outliers"
   ]
  },
  {
   "cell_type": "markdown",
   "id": "5ebcfc8b",
   "metadata": {},
   "source": [
    "# Z- Score Method"
   ]
  },
  {
   "cell_type": "code",
   "execution_count": null,
   "id": "2dd7d35a",
   "metadata": {},
   "outputs": [],
   "source": [
    "-->  The Z-score method is based on the number of standard deviations a data point is from the mean.\n",
    "\n",
    "- Calculate Mean (𝜇)and Standard Deviation (σ) of the dataset.\n",
    "\n",
    "- Compute Z-score for each data point: Z=(X−μ)/σ\n",
    "\n",
    " Same Dataset[12,15,14,10,8,12,16,18,25,30,40]\n",
    "\n",
    "1. Calculate Mean and Standard Deviation:\n",
    "    Mean (𝜇)= 16\n",
    "    Standard Deviation = 9.30\n",
    "     \n",
    "2. Compute Z-Score\n",
    "\n",
    "  for 30: Z =  (30-16)/9.30 = 1.50\n",
    "  for 40: z =  (40-16)/9.30 = 2.58\n",
    "\n"
   ]
  },
  {
   "cell_type": "markdown",
   "id": "41c70a96",
   "metadata": {},
   "source": [
    "# Visualize Using Boxplot"
   ]
  },
  {
   "cell_type": "code",
   "execution_count": 5,
   "id": "7345d4b4",
   "metadata": {},
   "outputs": [
    {
     "data": {
      "image/png": "[encoded data removed]",
      "text/plain": [
       "<Figure size 1000x600 with 1 Axes>"
      ]
     },
     "metadata": {},
     "output_type": "display_data"
    }
   ],
   "source": [
    "import matplotlib.pyplot as plt\n",
    "import seaborn as sns\n",
    "import pandas as pd\n",
    "\n",
    "# Example data\n",
    "data = [12, 15, 14, 10, 8, 12, 16, 18, 25, 30, 40]\n",
    "\n",
    "# Create a DataFrame\n",
    "df = pd.DataFrame(data, columns=['Value'])\n",
    "\n",
    "# Create a boxplot\n",
    "plt.figure(figsize=(10, 6))\n",
    "sns.boxplot(df['Value'])\n",
    "plt.title('Boxplot of Data')\n",
    "plt.xlabel('Value')\n",
    "plt.show()\n"
   ]
  },
  {
   "cell_type": "code",
   "execution_count": null,
   "id": "12e74894",
   "metadata": {},
   "outputs": [],
   "source": []
  },
  {
   "cell_type": "code",
   "execution_count": null,
   "id": "851f46b3",
   "metadata": {},
   "outputs": [],
   "source": []
  },
  {
   "cell_type": "code",
   "execution_count": null,
   "id": "9a9c966f",
   "metadata": {},
   "outputs": [],
   "source": []
  },
  {
   "cell_type": "code",
   "execution_count": null,
   "id": "51fd987a",
   "metadata": {},
   "outputs": [],
   "source": []
  },
  {
   "cell_type": "code",
   "execution_count": null,
   "id": "91cc768f",
   "metadata": {},
   "outputs": [],
   "source": []
  },
  {
   "cell_type": "code",
   "execution_count": null,
   "id": "1c53b47b",
   "metadata": {},
   "outputs": [],
   "source": []
  }
 ],
 "metadata": {
  "kernelspec": {
   "display_name": "Python 3 (ipykernel)",
   "language": "python",
   "name": "python3"
  },
  "language_info": {
   "codemirror_mode": {
    "name": "ipython",
    "version": 3
   },
   "file_extension": ".py",
   "mimetype": "text/x-python",
   "name": "python",
   "nbconvert_exporter": "python",
   "pygments_lexer": "ipython3",
   "version": "3.11.7"
  }
 },
 "nbformat": 4,
 "nbformat_minor": 5
}
