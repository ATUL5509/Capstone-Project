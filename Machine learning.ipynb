{
 "cells": [
  {
   "cell_type": "code",
   "execution_count": 1,
   "id": "fcbb0e84-ddff-47cb-a9ae-9fca73bb0fb4",
   "metadata": {},
   "outputs": [],
   "source": [
    "import numpy as np\n",
    "import pandas as pd\n",
    "import seaborn as sns\n",
    "import matplotlib.pyplot as plt"
   ]
  },
  {
   "cell_type": "code",
   "execution_count": 3,
   "id": "dfbefb12-f7d4-4dcd-91dd-4a80e60310e4",
   "metadata": {},
   "outputs": [],
   "source": [
    "df=pd.read_csv('diabetes.csv')"
   ]
  },
  {
   "cell_type": "code",
   "execution_count": 5,
   "id": "6209d64c-2829-4c32-8709-54368cc18e7c",
   "metadata": {},
   "outputs": [
    {
     "data": {
      "text/html": [
       "<div>\n",
       "<style scoped>\n",
       "    .dataframe tbody tr th:only-of-type {\n",
       "        vertical-align: middle;\n",
       "    }\n",
       "\n",
       "    .dataframe tbody tr th {\n",
       "        vertical-align: top;\n",
       "    }\n",
       "\n",
       "    .dataframe thead th {\n",
       "        text-align: right;\n",
       "    }\n",
       "</style>\n",
       "<table border=\"1\" class=\"dataframe\">\n",
       "  <thead>\n",
       "    <tr style=\"text-align: right;\">\n",
       "      <th></th>\n",
       "      <th>Pregnancies</th>\n",
       "      <th>Glucose</th>\n",
       "      <th>BloodPressure</th>\n",
       "      <th>SkinThickness</th>\n",
       "      <th>Insulin</th>\n",
       "      <th>BMI</th>\n",
       "      <th>DiabetesPedigreeFunction</th>\n",
       "      <th>Age</th>\n",
       "      <th>Outcome</th>\n",
       "    </tr>\n",
       "  </thead>\n",
       "  <tbody>\n",
       "    <tr>\n",
       "      <th>0</th>\n",
       "      <td>6</td>\n",
       "      <td>148</td>\n",
       "      <td>72</td>\n",
       "      <td>35</td>\n",
       "      <td>0</td>\n",
       "      <td>33.6</td>\n",
       "      <td>0.627</td>\n",
       "      <td>50</td>\n",
       "      <td>1</td>\n",
       "    </tr>\n",
       "    <tr>\n",
       "      <th>1</th>\n",
       "      <td>1</td>\n",
       "      <td>85</td>\n",
       "      <td>66</td>\n",
       "      <td>29</td>\n",
       "      <td>0</td>\n",
       "      <td>26.6</td>\n",
       "      <td>0.351</td>\n",
       "      <td>31</td>\n",
       "      <td>0</td>\n",
       "    </tr>\n",
       "    <tr>\n",
       "      <th>2</th>\n",
       "      <td>8</td>\n",
       "      <td>183</td>\n",
       "      <td>64</td>\n",
       "      <td>0</td>\n",
       "      <td>0</td>\n",
       "      <td>23.3</td>\n",
       "      <td>0.672</td>\n",
       "      <td>32</td>\n",
       "      <td>1</td>\n",
       "    </tr>\n",
       "    <tr>\n",
       "      <th>3</th>\n",
       "      <td>1</td>\n",
       "      <td>89</td>\n",
       "      <td>66</td>\n",
       "      <td>23</td>\n",
       "      <td>94</td>\n",
       "      <td>28.1</td>\n",
       "      <td>0.167</td>\n",
       "      <td>21</td>\n",
       "      <td>0</td>\n",
       "    </tr>\n",
       "    <tr>\n",
       "      <th>4</th>\n",
       "      <td>0</td>\n",
       "      <td>137</td>\n",
       "      <td>40</td>\n",
       "      <td>35</td>\n",
       "      <td>168</td>\n",
       "      <td>43.1</td>\n",
       "      <td>2.288</td>\n",
       "      <td>33</td>\n",
       "      <td>1</td>\n",
       "    </tr>\n",
       "    <tr>\n",
       "      <th>...</th>\n",
       "      <td>...</td>\n",
       "      <td>...</td>\n",
       "      <td>...</td>\n",
       "      <td>...</td>\n",
       "      <td>...</td>\n",
       "      <td>...</td>\n",
       "      <td>...</td>\n",
       "      <td>...</td>\n",
       "      <td>...</td>\n",
       "    </tr>\n",
       "    <tr>\n",
       "      <th>763</th>\n",
       "      <td>10</td>\n",
       "      <td>101</td>\n",
       "      <td>76</td>\n",
       "      <td>48</td>\n",
       "      <td>180</td>\n",
       "      <td>32.9</td>\n",
       "      <td>0.171</td>\n",
       "      <td>63</td>\n",
       "      <td>0</td>\n",
       "    </tr>\n",
       "    <tr>\n",
       "      <th>764</th>\n",
       "      <td>2</td>\n",
       "      <td>122</td>\n",
       "      <td>70</td>\n",
       "      <td>27</td>\n",
       "      <td>0</td>\n",
       "      <td>36.8</td>\n",
       "      <td>0.340</td>\n",
       "      <td>27</td>\n",
       "      <td>0</td>\n",
       "    </tr>\n",
       "    <tr>\n",
       "      <th>765</th>\n",
       "      <td>5</td>\n",
       "      <td>121</td>\n",
       "      <td>72</td>\n",
       "      <td>23</td>\n",
       "      <td>112</td>\n",
       "      <td>26.2</td>\n",
       "      <td>0.245</td>\n",
       "      <td>30</td>\n",
       "      <td>0</td>\n",
       "    </tr>\n",
       "    <tr>\n",
       "      <th>766</th>\n",
       "      <td>1</td>\n",
       "      <td>126</td>\n",
       "      <td>60</td>\n",
       "      <td>0</td>\n",
       "      <td>0</td>\n",
       "      <td>30.1</td>\n",
       "      <td>0.349</td>\n",
       "      <td>47</td>\n",
       "      <td>1</td>\n",
       "    </tr>\n",
       "    <tr>\n",
       "      <th>767</th>\n",
       "      <td>1</td>\n",
       "      <td>93</td>\n",
       "      <td>70</td>\n",
       "      <td>31</td>\n",
       "      <td>0</td>\n",
       "      <td>30.4</td>\n",
       "      <td>0.315</td>\n",
       "      <td>23</td>\n",
       "      <td>0</td>\n",
       "    </tr>\n",
       "  </tbody>\n",
       "</table>\n",
       "<p>768 rows × 9 columns</p>\n",
       "</div>"
      ],
      "text/plain": [
       "     Pregnancies  Glucose  BloodPressure  SkinThickness  Insulin   BMI  \\\n",
       "0              6      148             72             35        0  33.6   \n",
       "1              1       85             66             29        0  26.6   \n",
       "2              8      183             64              0        0  23.3   \n",
       "3              1       89             66             23       94  28.1   \n",
       "4              0      137             40             35      168  43.1   \n",
       "..           ...      ...            ...            ...      ...   ...   \n",
       "763           10      101             76             48      180  32.9   \n",
       "764            2      122             70             27        0  36.8   \n",
       "765            5      121             72             23      112  26.2   \n",
       "766            1      126             60              0        0  30.1   \n",
       "767            1       93             70             31        0  30.4   \n",
       "\n",
       "     DiabetesPedigreeFunction  Age  Outcome  \n",
       "0                       0.627   50        1  \n",
       "1                       0.351   31        0  \n",
       "2                       0.672   32        1  \n",
       "3                       0.167   21        0  \n",
       "4                       2.288   33        1  \n",
       "..                        ...  ...      ...  \n",
       "763                     0.171   63        0  \n",
       "764                     0.340   27        0  \n",
       "765                     0.245   30        0  \n",
       "766                     0.349   47        1  \n",
       "767                     0.315   23        0  \n",
       "\n",
       "[768 rows x 9 columns]"
      ]
     },
     "execution_count": 5,
     "metadata": {},
     "output_type": "execute_result"
    }
   ],
   "source": [
    "df"
   ]
  },
  {
   "cell_type": "code",
   "execution_count": 6,
   "id": "c1e00e34-d4a3-42ec-94c4-039d5db77ec8",
   "metadata": {},
   "outputs": [
    {
     "data": {
      "text/plain": [
       "Pregnancies                 0\n",
       "Glucose                     0\n",
       "BloodPressure               0\n",
       "SkinThickness               0\n",
       "Insulin                     0\n",
       "BMI                         0\n",
       "DiabetesPedigreeFunction    0\n",
       "Age                         0\n",
       "Outcome                     0\n",
       "dtype: int64"
      ]
     },
     "execution_count": 6,
     "metadata": {},
     "output_type": "execute_result"
    }
   ],
   "source": [
    "df.isnull().sum()"
   ]
  },
  {
   "cell_type": "code",
   "execution_count": 7,
   "id": "1b45258f-57f5-4f96-b1bb-8d462b542c6b",
   "metadata": {},
   "outputs": [
    {
     "data": {
      "text/plain": [
       "Pregnancies                   int64\n",
       "Glucose                       int64\n",
       "BloodPressure                 int64\n",
       "SkinThickness                 int64\n",
       "Insulin                       int64\n",
       "BMI                         float64\n",
       "DiabetesPedigreeFunction    float64\n",
       "Age                           int64\n",
       "Outcome                       int64\n",
       "dtype: object"
      ]
     },
     "execution_count": 7,
     "metadata": {},
     "output_type": "execute_result"
    }
   ],
   "source": [
    "df.dtypes"
   ]
  },
  {
   "cell_type": "code",
   "execution_count": 8,
   "id": "d1c3bdd8-00da-4e15-a556-de24b542bb3f",
   "metadata": {},
   "outputs": [
    {
     "data": {
      "text/html": [
       "<div>\n",
       "<style scoped>\n",
       "    .dataframe tbody tr th:only-of-type {\n",
       "        vertical-align: middle;\n",
       "    }\n",
       "\n",
       "    .dataframe tbody tr th {\n",
       "        vertical-align: top;\n",
       "    }\n",
       "\n",
       "    .dataframe thead th {\n",
       "        text-align: right;\n",
       "    }\n",
       "</style>\n",
       "<table border=\"1\" class=\"dataframe\">\n",
       "  <thead>\n",
       "    <tr style=\"text-align: right;\">\n",
       "      <th></th>\n",
       "      <th>Pregnancies</th>\n",
       "      <th>Glucose</th>\n",
       "      <th>BloodPressure</th>\n",
       "      <th>SkinThickness</th>\n",
       "      <th>Insulin</th>\n",
       "      <th>BMI</th>\n",
       "      <th>DiabetesPedigreeFunction</th>\n",
       "      <th>Age</th>\n",
       "      <th>Outcome</th>\n",
       "    </tr>\n",
       "  </thead>\n",
       "  <tbody>\n",
       "    <tr>\n",
       "      <th>count</th>\n",
       "      <td>768.000000</td>\n",
       "      <td>768.000000</td>\n",
       "      <td>768.000000</td>\n",
       "      <td>768.000000</td>\n",
       "      <td>768.000000</td>\n",
       "      <td>768.000000</td>\n",
       "      <td>768.000000</td>\n",
       "      <td>768.000000</td>\n",
       "      <td>768.000000</td>\n",
       "    </tr>\n",
       "    <tr>\n",
       "      <th>mean</th>\n",
       "      <td>3.845052</td>\n",
       "      <td>120.894531</td>\n",
       "      <td>69.105469</td>\n",
       "      <td>20.536458</td>\n",
       "      <td>79.799479</td>\n",
       "      <td>31.992578</td>\n",
       "      <td>0.471876</td>\n",
       "      <td>33.240885</td>\n",
       "      <td>0.348958</td>\n",
       "    </tr>\n",
       "    <tr>\n",
       "      <th>std</th>\n",
       "      <td>3.369578</td>\n",
       "      <td>31.972618</td>\n",
       "      <td>19.355807</td>\n",
       "      <td>15.952218</td>\n",
       "      <td>115.244002</td>\n",
       "      <td>7.884160</td>\n",
       "      <td>0.331329</td>\n",
       "      <td>11.760232</td>\n",
       "      <td>0.476951</td>\n",
       "    </tr>\n",
       "    <tr>\n",
       "      <th>min</th>\n",
       "      <td>0.000000</td>\n",
       "      <td>0.000000</td>\n",
       "      <td>0.000000</td>\n",
       "      <td>0.000000</td>\n",
       "      <td>0.000000</td>\n",
       "      <td>0.000000</td>\n",
       "      <td>0.078000</td>\n",
       "      <td>21.000000</td>\n",
       "      <td>0.000000</td>\n",
       "    </tr>\n",
       "    <tr>\n",
       "      <th>25%</th>\n",
       "      <td>1.000000</td>\n",
       "      <td>99.000000</td>\n",
       "      <td>62.000000</td>\n",
       "      <td>0.000000</td>\n",
       "      <td>0.000000</td>\n",
       "      <td>27.300000</td>\n",
       "      <td>0.243750</td>\n",
       "      <td>24.000000</td>\n",
       "      <td>0.000000</td>\n",
       "    </tr>\n",
       "    <tr>\n",
       "      <th>50%</th>\n",
       "      <td>3.000000</td>\n",
       "      <td>117.000000</td>\n",
       "      <td>72.000000</td>\n",
       "      <td>23.000000</td>\n",
       "      <td>30.500000</td>\n",
       "      <td>32.000000</td>\n",
       "      <td>0.372500</td>\n",
       "      <td>29.000000</td>\n",
       "      <td>0.000000</td>\n",
       "    </tr>\n",
       "    <tr>\n",
       "      <th>75%</th>\n",
       "      <td>6.000000</td>\n",
       "      <td>140.250000</td>\n",
       "      <td>80.000000</td>\n",
       "      <td>32.000000</td>\n",
       "      <td>127.250000</td>\n",
       "      <td>36.600000</td>\n",
       "      <td>0.626250</td>\n",
       "      <td>41.000000</td>\n",
       "      <td>1.000000</td>\n",
       "    </tr>\n",
       "    <tr>\n",
       "      <th>max</th>\n",
       "      <td>17.000000</td>\n",
       "      <td>199.000000</td>\n",
       "      <td>122.000000</td>\n",
       "      <td>99.000000</td>\n",
       "      <td>846.000000</td>\n",
       "      <td>67.100000</td>\n",
       "      <td>2.420000</td>\n",
       "      <td>81.000000</td>\n",
       "      <td>1.000000</td>\n",
       "    </tr>\n",
       "  </tbody>\n",
       "</table>\n",
       "</div>"
      ],
      "text/plain": [
       "       Pregnancies     Glucose  BloodPressure  SkinThickness     Insulin  \\\n",
       "count   768.000000  768.000000     768.000000     768.000000  768.000000   \n",
       "mean      3.845052  120.894531      69.105469      20.536458   79.799479   \n",
       "std       3.369578   31.972618      19.355807      15.952218  115.244002   \n",
       "min       0.000000    0.000000       0.000000       0.000000    0.000000   \n",
       "25%       1.000000   99.000000      62.000000       0.000000    0.000000   \n",
       "50%       3.000000  117.000000      72.000000      23.000000   30.500000   \n",
       "75%       6.000000  140.250000      80.000000      32.000000  127.250000   \n",
       "max      17.000000  199.000000     122.000000      99.000000  846.000000   \n",
       "\n",
       "              BMI  DiabetesPedigreeFunction         Age     Outcome  \n",
       "count  768.000000                768.000000  768.000000  768.000000  \n",
       "mean    31.992578                  0.471876   33.240885    0.348958  \n",
       "std      7.884160                  0.331329   11.760232    0.476951  \n",
       "min      0.000000                  0.078000   21.000000    0.000000  \n",
       "25%     27.300000                  0.243750   24.000000    0.000000  \n",
       "50%     32.000000                  0.372500   29.000000    0.000000  \n",
       "75%     36.600000                  0.626250   41.000000    1.000000  \n",
       "max     67.100000                  2.420000   81.000000    1.000000  "
      ]
     },
     "execution_count": 8,
     "metadata": {},
     "output_type": "execute_result"
    }
   ],
   "source": [
    "df.describe()"
   ]
  },
  {
   "cell_type": "code",
   "execution_count": 9,
   "id": "40ee262f-a4c7-4393-a34c-903be0950797",
   "metadata": {},
   "outputs": [
    {
     "name": "stdout",
     "output_type": "stream",
     "text": [
      "******************* Pregnancies **********************\n",
      "[ 6  1  8  0  5  3 10  2  4  7  9 11 13 15 17 12 14]\n",
      "\n",
      "******************* Glucose **********************\n",
      "[148  85 183  89 137 116  78 115 197 125 110 168 139 189 166 100 118 107\n",
      " 103 126  99 196 119 143 147  97 145 117 109 158  88  92 122 138 102  90\n",
      " 111 180 133 106 171 159 146  71 105 101 176 150  73 187  84  44 141 114\n",
      "  95 129  79   0  62 131 112 113  74  83 136  80 123  81 134 142 144  93\n",
      " 163 151  96 155  76 160 124 162 132 120 173 170 128 108 154  57 156 153\n",
      " 188 152 104  87  75 179 130 194 181 135 184 140 177 164  91 165  86 193\n",
      " 191 161 167  77 182 157 178  61  98 127  82  72 172  94 175 195  68 186\n",
      " 198 121  67 174 199  56 169 149  65 190]\n",
      "\n",
      "******************* BloodPressure **********************\n",
      "[ 72  66  64  40  74  50   0  70  96  92  80  60  84  30  88  90  94  76\n",
      "  82  75  58  78  68 110  56  62  85  86  48  44  65 108  55 122  54  52\n",
      "  98 104  95  46 102 100  61  24  38 106 114]\n",
      "\n",
      "******************* SkinThickness **********************\n",
      "[35 29  0 23 32 45 19 47 38 30 41 33 26 15 36 11 31 37 42 25 18 24 39 27\n",
      " 21 34 10 60 13 20 22 28 54 40 51 56 14 17 50 44 12 46 16  7 52 43 48  8\n",
      " 49 63 99]\n",
      "\n",
      "******************* Insulin **********************\n",
      "[  0  94 168  88 543 846 175 230  83  96 235 146 115 140 110 245  54 192\n",
      " 207  70 240  82  36  23 300 342 304 142 128  38 100  90 270  71 125 176\n",
      "  48  64 228  76 220  40 152  18 135 495  37  51  99 145 225  49  50  92\n",
      " 325  63 284 119 204 155 485  53 114 105 285 156  78 130  55  58 160 210\n",
      " 318  44 190 280  87 271 129 120 478  56  32 744 370  45 194 680 402 258\n",
      " 375 150  67  57 116 278 122 545  75  74 182 360 215 184  42 132 148 180\n",
      " 205  85 231  29  68  52 255 171  73 108  43 167 249 293  66 465  89 158\n",
      "  84  72  59  81 196 415 275 165 579 310  61 474 170 277  60  14  95 237\n",
      " 191 328 250 480 265 193  79  86 326 188 106  65 166 274  77 126 330 600\n",
      " 185  25  41 272 321 144  15 183  91  46 440 159 540 200 335 387  22 291\n",
      " 392 178 127 510  16 112]\n",
      "\n",
      "******************* BMI **********************\n",
      "[33.6 26.6 23.3 28.1 43.1 25.6 31.  35.3 30.5  0.  37.6 38.  27.1 30.1\n",
      " 25.8 30.  45.8 29.6 43.3 34.6 39.3 35.4 39.8 29.  36.6 31.1 39.4 23.2\n",
      " 22.2 34.1 36.  31.6 24.8 19.9 27.6 24.  33.2 32.9 38.2 37.1 34.  40.2\n",
      " 22.7 45.4 27.4 42.  29.7 28.  39.1 19.4 24.2 24.4 33.7 34.7 23.  37.7\n",
      " 46.8 40.5 41.5 25.  25.4 32.8 32.5 42.7 19.6 28.9 28.6 43.4 35.1 32.\n",
      " 24.7 32.6 43.2 22.4 29.3 24.6 48.8 32.4 38.5 26.5 19.1 46.7 23.8 33.9\n",
      " 20.4 28.7 49.7 39.  26.1 22.5 39.6 29.5 34.3 37.4 33.3 31.2 28.2 53.2\n",
      " 34.2 26.8 55.  42.9 34.5 27.9 38.3 21.1 33.8 30.8 36.9 39.5 27.3 21.9\n",
      " 40.6 47.9 50.  25.2 40.9 37.2 44.2 29.9 31.9 28.4 43.5 32.7 67.1 45.\n",
      " 34.9 27.7 35.9 22.6 33.1 30.4 52.3 24.3 22.9 34.8 30.9 40.1 23.9 37.5\n",
      " 35.5 42.8 42.6 41.8 35.8 37.8 28.8 23.6 35.7 36.7 45.2 44.  46.2 35.\n",
      " 43.6 44.1 18.4 29.2 25.9 32.1 36.3 40.  25.1 27.5 45.6 27.8 24.9 25.3\n",
      " 37.9 27.  26.  38.7 20.8 36.1 30.7 32.3 52.9 21.  39.7 25.5 26.2 19.3\n",
      " 38.1 23.5 45.5 23.1 39.9 36.8 21.8 41.  42.2 34.4 27.2 36.5 29.8 39.2\n",
      " 38.4 36.2 48.3 20.  22.3 45.7 23.7 22.1 42.1 42.4 18.2 26.4 45.3 37.\n",
      " 24.5 32.2 59.4 21.2 26.7 30.2 46.1 41.3 38.8 35.2 42.3 40.7 46.5 33.5\n",
      " 37.3 30.3 26.3 21.7 36.4 28.5 26.9 38.6 31.3 19.5 20.1 40.8 23.4 28.3\n",
      " 38.9 57.3 35.6 49.6 44.6 24.1 44.5 41.2 49.3 46.3]\n",
      "\n",
      "******************* DiabetesPedigreeFunction **********************\n",
      "[0.627 0.351 0.672 0.167 2.288 0.201 0.248 0.134 0.158 0.232 0.191 0.537\n",
      " 1.441 0.398 0.587 0.484 0.551 0.254 0.183 0.529 0.704 0.388 0.451 0.263\n",
      " 0.205 0.257 0.487 0.245 0.337 0.546 0.851 0.267 0.188 0.512 0.966 0.42\n",
      " 0.665 0.503 1.39  0.271 0.696 0.235 0.721 0.294 1.893 0.564 0.586 0.344\n",
      " 0.305 0.491 0.526 0.342 0.467 0.718 0.962 1.781 0.173 0.304 0.27  0.699\n",
      " 0.258 0.203 0.855 0.845 0.334 0.189 0.867 0.411 0.583 0.231 0.396 0.14\n",
      " 0.391 0.37  0.307 0.102 0.767 0.237 0.227 0.698 0.178 0.324 0.153 0.165\n",
      " 0.443 0.261 0.277 0.761 0.255 0.13  0.323 0.356 0.325 1.222 0.179 0.262\n",
      " 0.283 0.93  0.801 0.207 0.287 0.336 0.247 0.199 0.543 0.192 0.588 0.539\n",
      " 0.22  0.654 0.223 0.759 0.26  0.404 0.186 0.278 0.496 0.452 0.403 0.741\n",
      " 0.361 1.114 0.457 0.647 0.088 0.597 0.532 0.703 0.159 0.268 0.286 0.318\n",
      " 0.272 0.572 0.096 1.4   0.218 0.085 0.399 0.432 1.189 0.687 0.137 0.637\n",
      " 0.833 0.229 0.817 0.204 0.368 0.743 0.722 0.256 0.709 0.471 0.495 0.18\n",
      " 0.542 0.773 0.678 0.719 0.382 0.319 0.19  0.956 0.084 0.725 0.299 0.244\n",
      " 0.745 0.615 1.321 0.64  0.142 0.374 0.383 0.578 0.136 0.395 0.187 0.905\n",
      " 0.15  0.874 0.236 0.787 0.407 0.605 0.151 0.289 0.355 0.29  0.375 0.164\n",
      " 0.431 0.742 0.514 0.464 1.224 1.072 0.805 0.209 0.666 0.101 0.198 0.652\n",
      " 2.329 0.089 0.645 0.238 0.394 0.293 0.479 0.686 0.831 0.582 0.446 0.402\n",
      " 1.318 0.329 1.213 0.427 0.282 0.143 0.38  0.284 0.249 0.926 0.557 0.092\n",
      " 0.655 1.353 0.612 0.2   0.226 0.997 0.933 1.101 0.078 0.24  1.136 0.128\n",
      " 0.422 0.251 0.677 0.296 0.454 0.744 0.881 0.28  0.259 0.619 0.808 0.34\n",
      " 0.434 0.757 0.613 0.692 0.52  0.412 0.84  0.839 0.156 0.215 0.326 1.391\n",
      " 0.875 0.313 0.433 0.626 1.127 0.315 0.345 0.129 0.527 0.197 0.731 0.148\n",
      " 0.123 0.127 0.122 1.476 0.166 0.932 0.343 0.893 0.331 0.472 0.673 0.389\n",
      " 0.485 0.349 0.279 0.346 0.252 0.243 0.58  0.559 0.302 0.569 0.378 0.385\n",
      " 0.499 0.306 0.234 2.137 1.731 0.545 0.225 0.816 0.528 0.509 1.021 0.821\n",
      " 0.947 1.268 0.221 0.66  0.239 0.949 0.444 0.463 0.803 1.6   0.944 0.196\n",
      " 0.241 0.161 0.135 0.376 1.191 0.702 0.674 1.076 0.534 1.095 0.554 0.624\n",
      " 0.219 0.507 0.561 0.421 0.516 0.264 0.328 0.233 0.108 1.138 0.147 0.727\n",
      " 0.435 0.497 0.23  0.955 2.42  0.658 0.33  0.51  0.285 0.415 0.381 0.832\n",
      " 0.498 0.212 0.364 1.001 0.46  0.733 0.416 0.705 1.022 0.269 0.6   0.571\n",
      " 0.607 0.17  0.21  0.126 0.711 0.466 0.162 0.419 0.63  0.365 0.536 1.159\n",
      " 0.629 0.292 0.145 1.144 0.174 0.547 0.163 0.738 0.314 0.968 0.409 0.297\n",
      " 0.525 0.154 0.771 0.107 0.493 0.717 0.917 0.501 1.251 0.735 0.804 0.661\n",
      " 0.549 0.825 0.423 1.034 0.16  0.341 0.68  0.591 0.3   0.121 0.502 0.401\n",
      " 0.601 0.748 0.338 0.43  0.892 0.813 0.693 0.575 0.371 0.206 0.417 1.154\n",
      " 0.925 0.175 1.699 0.682 0.194 0.4   0.1   1.258 0.482 0.138 0.593 0.878\n",
      " 0.157 1.282 0.141 0.246 1.698 1.461 0.347 0.362 0.393 0.144 0.732 0.115\n",
      " 0.465 0.649 0.871 0.149 0.695 0.303 0.61  0.73  0.447 0.455 0.133 0.155\n",
      " 1.162 1.292 0.182 1.394 0.217 0.631 0.88  0.614 0.332 0.366 0.181 0.828\n",
      " 0.335 0.856 0.886 0.439 0.253 0.598 0.904 0.483 0.565 0.118 0.177 0.176\n",
      " 0.295 0.441 0.352 0.826 0.97  0.595 0.317 0.265 0.646 0.426 0.56  0.515\n",
      " 0.453 0.785 0.734 1.174 0.488 0.358 1.096 0.408 1.182 0.222 1.057 0.766\n",
      " 0.171]\n",
      "\n",
      "******************* Age **********************\n",
      "[50 31 32 21 33 30 26 29 53 54 34 57 59 51 27 41 43 22 38 60 28 45 35 46\n",
      " 56 37 48 40 25 24 58 42 44 39 36 23 61 69 62 55 65 47 52 66 49 63 67 72\n",
      " 81 64 70 68]\n",
      "\n",
      "******************* Outcome **********************\n",
      "[1 0]\n",
      "\n"
     ]
    }
   ],
   "source": [
    "for i in df.columns:\n",
    "    print('*******************',i,'**********************')\n",
    "    print(df[i].unique())\n",
    "    print()"
   ]
  },
  {
   "cell_type": "code",
   "execution_count": 20,
   "id": "3fff685c-a797-47ae-871b-1d820a581b27",
   "metadata": {},
   "outputs": [
    {
     "data": {
      "image/png": "[encoded data removed]",
      "text/plain": [
       "<Figure size 640x480 with 1 Axes>"
      ]
     },
     "metadata": {},
     "output_type": "display_data"
    },
    {
     "name": "stdout",
     "output_type": "stream",
     "text": [
      "None\n"
     ]
    },
    {
     "data": {
      "image/png": "[encoded data removed]",
      "text/plain": [
       "<Figure size 640x480 with 1 Axes>"
      ]
     },
     "metadata": {},
     "output_type": "display_data"
    },
    {
     "name": "stdout",
     "output_type": "stream",
     "text": [
      "None\n"
     ]
    },
    {
     "data": {
      "image/png": "[encoded data removed]",
      "text/plain": [
       "<Figure size 640x480 with 1 Axes>"
      ]
     },
     "metadata": {},
     "output_type": "display_data"
    },
    {
     "name": "stdout",
     "output_type": "stream",
     "text": [
      "None\n"
     ]
    },
    {
     "data": {
      "image/png": "[encoded data removed]",
      "text/plain": [
       "<Figure size 640x480 with 1 Axes>"
      ]
     },
     "metadata": {},
     "output_type": "display_data"
    },
    {
     "name": "stdout",
     "output_type": "stream",
     "text": [
      "None\n"
     ]
    },
    {
     "data": {
      "image/png": "[encoded data removed]",
      "text/plain": [
       "<Figure size 640x480 with 1 Axes>"
      ]
     },
     "metadata": {},
     "output_type": "display_data"
    },
    {
     "name": "stdout",
     "output_type": "stream",
     "text": [
      "None\n"
     ]
    },
    {
     "data": {
      "image/png": "[encoded data removed]",
      "text/plain": [
       "<Figure size 640x480 with 1 Axes>"
      ]
     },
     "metadata": {},
     "output_type": "display_data"
    },
    {
     "name": "stdout",
     "output_type": "stream",
     "text": [
      "None\n"
     ]
    },
    {
     "data": {
      "image/png": "[encoded data removed]",
      "text/plain": [
       "<Figure size 640x480 with 1 Axes>"
      ]
     },
     "metadata": {},
     "output_type": "display_data"
    },
    {
     "name": "stdout",
     "output_type": "stream",
     "text": [
      "None\n"
     ]
    },
    {
     "data": {
      "image/png": "[encoded data removed]",
      "text/plain": [
       "<Figure size 640x480 with 1 Axes>"
      ]
     },
     "metadata": {},
     "output_type": "display_data"
    },
    {
     "name": "stdout",
     "output_type": "stream",
     "text": [
      "None\n"
     ]
    },
    {
     "data": {
      "image/png": "[encoded data removed]",
      "text/plain": [
       "<Figure size 640x480 with 1 Axes>"
      ]
     },
     "metadata": {},
     "output_type": "display_data"
    },
    {
     "name": "stdout",
     "output_type": "stream",
     "text": [
      "None\n"
     ]
    }
   ],
   "source": [
    "def boxplots(col):\n",
    "    sns.boxplot(df[col])\n",
    "    plt.show()\n",
    "\n",
    "\n",
    "for i in list(df.select_dtypes(exclude=[\"object\"]).columns)[0:]:\n",
    "    print(boxplots(i))"
   ]
  },
  {
   "cell_type": "code",
   "execution_count": 21,
   "id": "c63ad68b-13d0-4cf8-94e4-3ebedca20d03",
   "metadata": {},
   "outputs": [],
   "source": [
    "df_x=df.drop(\"Outcome\",axis=1)\n",
    "df_y=df[\"Outcome\"]"
   ]
  },
  {
   "cell_type": "code",
   "execution_count": 22,
   "id": "f973d871-df0d-4dc7-86e0-824b7c998856",
   "metadata": {},
   "outputs": [
    {
     "data": {
      "text/html": [
       "<div>\n",
       "<style scoped>\n",
       "    .dataframe tbody tr th:only-of-type {\n",
       "        vertical-align: middle;\n",
       "    }\n",
       "\n",
       "    .dataframe tbody tr th {\n",
       "        vertical-align: top;\n",
       "    }\n",
       "\n",
       "    .dataframe thead th {\n",
       "        text-align: right;\n",
       "    }\n",
       "</style>\n",
       "<table border=\"1\" class=\"dataframe\">\n",
       "  <thead>\n",
       "    <tr style=\"text-align: right;\">\n",
       "      <th></th>\n",
       "      <th>Pregnancies</th>\n",
       "      <th>Glucose</th>\n",
       "      <th>BloodPressure</th>\n",
       "      <th>SkinThickness</th>\n",
       "      <th>Insulin</th>\n",
       "      <th>BMI</th>\n",
       "      <th>DiabetesPedigreeFunction</th>\n",
       "      <th>Age</th>\n",
       "    </tr>\n",
       "  </thead>\n",
       "  <tbody>\n",
       "    <tr>\n",
       "      <th>0</th>\n",
       "      <td>6</td>\n",
       "      <td>148</td>\n",
       "      <td>72</td>\n",
       "      <td>35</td>\n",
       "      <td>0</td>\n",
       "      <td>33.6</td>\n",
       "      <td>0.627</td>\n",
       "      <td>50</td>\n",
       "    </tr>\n",
       "    <tr>\n",
       "      <th>1</th>\n",
       "      <td>1</td>\n",
       "      <td>85</td>\n",
       "      <td>66</td>\n",
       "      <td>29</td>\n",
       "      <td>0</td>\n",
       "      <td>26.6</td>\n",
       "      <td>0.351</td>\n",
       "      <td>31</td>\n",
       "    </tr>\n",
       "    <tr>\n",
       "      <th>2</th>\n",
       "      <td>8</td>\n",
       "      <td>183</td>\n",
       "      <td>64</td>\n",
       "      <td>0</td>\n",
       "      <td>0</td>\n",
       "      <td>23.3</td>\n",
       "      <td>0.672</td>\n",
       "      <td>32</td>\n",
       "    </tr>\n",
       "    <tr>\n",
       "      <th>3</th>\n",
       "      <td>1</td>\n",
       "      <td>89</td>\n",
       "      <td>66</td>\n",
       "      <td>23</td>\n",
       "      <td>94</td>\n",
       "      <td>28.1</td>\n",
       "      <td>0.167</td>\n",
       "      <td>21</td>\n",
       "    </tr>\n",
       "    <tr>\n",
       "      <th>4</th>\n",
       "      <td>0</td>\n",
       "      <td>137</td>\n",
       "      <td>40</td>\n",
       "      <td>35</td>\n",
       "      <td>168</td>\n",
       "      <td>43.1</td>\n",
       "      <td>2.288</td>\n",
       "      <td>33</td>\n",
       "    </tr>\n",
       "  </tbody>\n",
       "</table>\n",
       "</div>"
      ],
      "text/plain": [
       "   Pregnancies  Glucose  BloodPressure  SkinThickness  Insulin   BMI  \\\n",
       "0            6      148             72             35        0  33.6   \n",
       "1            1       85             66             29        0  26.6   \n",
       "2            8      183             64              0        0  23.3   \n",
       "3            1       89             66             23       94  28.1   \n",
       "4            0      137             40             35      168  43.1   \n",
       "\n",
       "   DiabetesPedigreeFunction  Age  \n",
       "0                     0.627   50  \n",
       "1                     0.351   31  \n",
       "2                     0.672   32  \n",
       "3                     0.167   21  \n",
       "4                     2.288   33  "
      ]
     },
     "execution_count": 22,
     "metadata": {},
     "output_type": "execute_result"
    }
   ],
   "source": [
    "df_x.head()"
   ]
  },
  {
   "cell_type": "code",
   "execution_count": 23,
   "id": "8e88bc00-9da6-4f21-9f74-ca75589fb56c",
   "metadata": {},
   "outputs": [
    {
     "data": {
      "text/plain": [
       "count    768.000000\n",
       "mean      69.105469\n",
       "std       19.355807\n",
       "min        0.000000\n",
       "25%       62.000000\n",
       "50%       72.000000\n",
       "75%       80.000000\n",
       "max      122.000000\n",
       "Name: BloodPressure, dtype: float64"
      ]
     },
     "execution_count": 23,
     "metadata": {},
     "output_type": "execute_result"
    }
   ],
   "source": [
    "    df_x[\"BloodPressure\"].describe()"
   ]
  },
  {
   "cell_type": "code",
   "execution_count": 24,
   "id": "00daca57-ec95-4b4a-9616-c94e7b988c54",
   "metadata": {},
   "outputs": [
    {
     "name": "stderr",
     "output_type": "stream",
     "text": [
      "C:\\Users\\Katul\\AppData\\Local\\Temp\\ipykernel_17640\\2850139474.py:1: UserWarning: \n",
      "\n",
      "`distplot` is a deprecated function and will be removed in seaborn v0.14.0.\n",
      "\n",
      "Please adapt your code to use either `displot` (a figure-level function with\n",
      "similar flexibility) or `histplot` (an axes-level function for histograms).\n",
      "\n",
      "For a guide to updating your code to use the new functions, please see\n",
      "https://gist.github.com/mwaskom/de44147ed2974457ad6372750bbe5751\n",
      "\n",
      "  sns.distplot(df_x[\"BloodPressure\"])\n"
     ]
    },
    {
     "data": {
      "text/plain": [
       "<Axes: xlabel='BloodPressure', ylabel='Density'>"
      ]
     },
     "execution_count": 24,
     "metadata": {},
     "output_type": "execute_result"
    },
    {
     "data": {
      "image/png": "[encoded data removed]",
      "text/plain": [
       "<Figure size 640x480 with 1 Axes>"
      ]
     },
     "metadata": {},
     "output_type": "display_data"
    }
   ],
   "source": [
    "sns.distplot(df_x[\"BloodPressure\"])"
   ]
  },
  {
   "cell_type": "code",
   "execution_count": 31,
   "id": "c682511b-96ed-484a-acff-236cb2ca3b43",
   "metadata": {},
   "outputs": [
    {
     "name": "stdout",
     "output_type": "stream",
     "text": [
      "62.0\n",
      "80.0\n",
      "18.0\n",
      "107.0\n",
      "35.0\n"
     ]
    }
   ],
   "source": [
    "\n",
    "\n",
    "Q1_BP=df_x[\"BloodPressure\"].quantile(0.25)\n",
    "Q3_BP=df_x[\"BloodPressure\"].quantile(0.75)\n",
    "\n",
    "\n",
    "IQR_BP=Q3_BP-Q1_BP\n",
    "\n",
    "UL_BP=Q3_BP+1.5*(IQR_BP)\n",
    "LL_BP=Q1_BP-1.5*(IQR_BP)\n",
    "\n",
    "\n",
    "\n",
    "print(Q1_BP)\n",
    "print(Q3_BP)\n",
    "print(IQR_BP)\n",
    "print(UL_BP)\n",
    "print(LL_BP)"
   ]
  },
  {
   "cell_type": "code",
   "execution_count": 30,
   "id": "844de6e1-e46e-4ea8-a442-3545f1b387ad",
   "metadata": {},
   "outputs": [
    {
     "data": {
      "text/html": [
       "<div>\n",
       "<style scoped>\n",
       "    .dataframe tbody tr th:only-of-type {\n",
       "        vertical-align: middle;\n",
       "    }\n",
       "\n",
       "    .dataframe tbody tr th {\n",
       "        vertical-align: top;\n",
       "    }\n",
       "\n",
       "    .dataframe thead th {\n",
       "        text-align: right;\n",
       "    }\n",
       "</style>\n",
       "<table border=\"1\" class=\"dataframe\">\n",
       "  <thead>\n",
       "    <tr style=\"text-align: right;\">\n",
       "      <th></th>\n",
       "      <th>Pregnancies</th>\n",
       "      <th>Glucose</th>\n",
       "      <th>BloodPressure</th>\n",
       "      <th>SkinThickness</th>\n",
       "      <th>Insulin</th>\n",
       "      <th>BMI</th>\n",
       "      <th>DiabetesPedigreeFunction</th>\n",
       "      <th>Age</th>\n",
       "    </tr>\n",
       "  </thead>\n",
       "  <tbody>\n",
       "    <tr>\n",
       "      <th>43</th>\n",
       "      <td>9</td>\n",
       "      <td>171</td>\n",
       "      <td>110</td>\n",
       "      <td>24</td>\n",
       "      <td>240</td>\n",
       "      <td>45.4</td>\n",
       "      <td>0.721</td>\n",
       "      <td>54</td>\n",
       "    </tr>\n",
       "    <tr>\n",
       "      <th>84</th>\n",
       "      <td>5</td>\n",
       "      <td>137</td>\n",
       "      <td>108</td>\n",
       "      <td>0</td>\n",
       "      <td>0</td>\n",
       "      <td>48.8</td>\n",
       "      <td>0.227</td>\n",
       "      <td>37</td>\n",
       "    </tr>\n",
       "    <tr>\n",
       "      <th>106</th>\n",
       "      <td>1</td>\n",
       "      <td>96</td>\n",
       "      <td>122</td>\n",
       "      <td>0</td>\n",
       "      <td>0</td>\n",
       "      <td>22.4</td>\n",
       "      <td>0.207</td>\n",
       "      <td>27</td>\n",
       "    </tr>\n",
       "    <tr>\n",
       "      <th>177</th>\n",
       "      <td>0</td>\n",
       "      <td>129</td>\n",
       "      <td>110</td>\n",
       "      <td>46</td>\n",
       "      <td>130</td>\n",
       "      <td>67.1</td>\n",
       "      <td>0.319</td>\n",
       "      <td>26</td>\n",
       "    </tr>\n",
       "    <tr>\n",
       "      <th>362</th>\n",
       "      <td>5</td>\n",
       "      <td>103</td>\n",
       "      <td>108</td>\n",
       "      <td>37</td>\n",
       "      <td>0</td>\n",
       "      <td>39.2</td>\n",
       "      <td>0.305</td>\n",
       "      <td>65</td>\n",
       "    </tr>\n",
       "    <tr>\n",
       "      <th>549</th>\n",
       "      <td>4</td>\n",
       "      <td>189</td>\n",
       "      <td>110</td>\n",
       "      <td>31</td>\n",
       "      <td>0</td>\n",
       "      <td>28.5</td>\n",
       "      <td>0.680</td>\n",
       "      <td>37</td>\n",
       "    </tr>\n",
       "    <tr>\n",
       "      <th>691</th>\n",
       "      <td>13</td>\n",
       "      <td>158</td>\n",
       "      <td>114</td>\n",
       "      <td>0</td>\n",
       "      <td>0</td>\n",
       "      <td>42.3</td>\n",
       "      <td>0.257</td>\n",
       "      <td>44</td>\n",
       "    </tr>\n",
       "  </tbody>\n",
       "</table>\n",
       "</div>"
      ],
      "text/plain": [
       "     Pregnancies  Glucose  BloodPressure  SkinThickness  Insulin   BMI  \\\n",
       "43             9      171            110             24      240  45.4   \n",
       "84             5      137            108              0        0  48.8   \n",
       "106            1       96            122              0        0  22.4   \n",
       "177            0      129            110             46      130  67.1   \n",
       "362            5      103            108             37        0  39.2   \n",
       "549            4      189            110             31        0  28.5   \n",
       "691           13      158            114              0        0  42.3   \n",
       "\n",
       "     DiabetesPedigreeFunction  Age  \n",
       "43                      0.721   54  \n",
       "84                      0.227   37  \n",
       "106                     0.207   27  \n",
       "177                     0.319   26  \n",
       "362                     0.305   65  \n",
       "549                     0.680   37  \n",
       "691                     0.257   44  "
      ]
     },
     "execution_count": 30,
     "metadata": {},
     "output_type": "execute_result"
    }
   ],
   "source": [
    "df_x[df_x[\"BloodPressure\"]>UL_BP]"
   ]
  },
  {
   "cell_type": "code",
   "execution_count": 2,
   "id": "39ec1fca-f9ec-47e6-b6a3-3b4ec76f6c0c",
   "metadata": {},
   "outputs": [
    {
     "name": "stdout",
     "output_type": "stream",
     "text": [
      "Requirement already satisfied: dtale in c:\\users\\katul\\anaconda3\\lib\\site-packages (3.14.1)\n",
      "Requirement already satisfied: dash-colorscales in c:\\users\\katul\\anaconda3\\lib\\site-packages (from dtale) (0.0.4)\n",
      "Requirement already satisfied: dash-daq in c:\\users\\katul\\anaconda3\\lib\\site-packages (from dtale) (0.5.0)\n",
      "Requirement already satisfied: Flask-Compress in c:\\users\\katul\\anaconda3\\lib\\site-packages (from dtale) (1.15)\n",
      "Requirement already satisfied: future>=0.14.0 in c:\\users\\katul\\anaconda3\\lib\\site-packages (from dtale) (1.0.0)\n",
      "Requirement already satisfied: kaleido in c:\\users\\katul\\anaconda3\\lib\\site-packages (from dtale) (0.2.1)\n",
      "Requirement already satisfied: missingno in c:\\users\\katul\\anaconda3\\lib\\site-packages (from dtale) (0.5.2)\n",
      "Requirement already satisfied: pandas in c:\\users\\katul\\anaconda3\\lib\\site-packages (from dtale) (2.2.2)\n",
      "Requirement already satisfied: squarify in c:\\users\\katul\\anaconda3\\lib\\site-packages (from dtale) (0.4.4)\n",
      "Requirement already satisfied: strsimpy in c:\\users\\katul\\anaconda3\\lib\\site-packages (from dtale) (0.2.1)\n",
      "Requirement already satisfied: six in c:\\users\\katul\\anaconda3\\lib\\site-packages (from dtale) (1.16.0)\n",
      "Requirement already satisfied: xlrd in c:\\users\\katul\\anaconda3\\lib\\site-packages (from dtale) (2.0.1)\n",
      "Requirement already satisfied: beautifulsoup4!=4.13.0b2 in c:\\users\\katul\\anaconda3\\lib\\site-packages (from dtale) (4.12.3)\n",
      "Requirement already satisfied: certifi in c:\\users\\katul\\anaconda3\\lib\\site-packages (from dtale) (2024.8.30)\n",
      "Requirement already satisfied: flask-ngrok in c:\\users\\katul\\anaconda3\\lib\\site-packages (from dtale) (0.0.25)\n",
      "Requirement already satisfied: lz4 in c:\\users\\katul\\anaconda3\\lib\\site-packages (from dtale) (4.3.2)\n",
      "Requirement already satisfied: cycler in c:\\users\\katul\\anaconda3\\lib\\site-packages (from dtale) (0.11.0)\n",
      "Requirement already satisfied: dash-bootstrap-components<=1.3.1 in c:\\users\\katul\\anaconda3\\lib\\site-packages (from dtale) (1.3.1)\n",
      "Requirement already satisfied: dash in c:\\users\\katul\\anaconda3\\lib\\site-packages (from dtale) (2.18.1)\n",
      "Requirement already satisfied: seaborn in c:\\users\\katul\\anaconda3\\lib\\site-packages (from dtale) (0.13.2)\n",
      "Requirement already satisfied: werkzeug in c:\\users\\katul\\anaconda3\\lib\\site-packages (from dtale) (3.0.3)\n",
      "Requirement already satisfied: scikit-learn in c:\\users\\katul\\anaconda3\\lib\\site-packages (from dtale) (1.4.2)\n",
      "Requirement already satisfied: statsmodels in c:\\users\\katul\\anaconda3\\lib\\site-packages (from dtale) (0.14.2)\n",
      "Requirement already satisfied: networkx in c:\\users\\katul\\anaconda3\\lib\\site-packages (from dtale) (3.2.1)\n",
      "Requirement already satisfied: numpy in c:\\users\\katul\\anaconda3\\lib\\site-packages (from dtale) (1.26.4)\n",
      "Requirement already satisfied: openpyxl!=3.2.0b1 in c:\\users\\katul\\anaconda3\\lib\\site-packages (from dtale) (3.1.2)\n",
      "Requirement already satisfied: xarray in c:\\users\\katul\\anaconda3\\lib\\site-packages (from dtale) (2023.6.0)\n",
      "Requirement already satisfied: scipy!=1.12.0rc1,!=1.14.0,!=1.14.0rc1,!=1.14.0rc2 in c:\\users\\katul\\anaconda3\\lib\\site-packages (from dtale) (1.13.1)\n",
      "Requirement already satisfied: et-xmlfile in c:\\users\\katul\\anaconda3\\lib\\site-packages (from dtale) (1.1.0)\n",
      "Requirement already satisfied: plotly in c:\\users\\katul\\anaconda3\\lib\\site-packages (from dtale) (5.22.0)\n",
      "Requirement already satisfied: Flask<2.3 in c:\\users\\katul\\anaconda3\\lib\\site-packages (from dtale) (2.2.5)\n",
      "Requirement already satisfied: requests in c:\\users\\katul\\anaconda3\\lib\\site-packages (from dtale) (2.32.2)\n",
      "Requirement already satisfied: itsdangerous in c:\\users\\katul\\anaconda3\\lib\\site-packages (from dtale) (2.2.0)\n",
      "Requirement already satisfied: contourpy in c:\\users\\katul\\anaconda3\\lib\\site-packages (from dtale) (1.2.0)\n",
      "Requirement already satisfied: matplotlib in c:\\users\\katul\\anaconda3\\lib\\site-packages (from dtale) (3.8.4)\n",
      "Requirement already satisfied: soupsieve>1.2 in c:\\users\\katul\\anaconda3\\lib\\site-packages (from beautifulsoup4!=4.13.0b2->dtale) (2.5)\n",
      "Requirement already satisfied: dash-html-components==2.0.0 in c:\\users\\katul\\anaconda3\\lib\\site-packages (from dash->dtale) (2.0.0)\n",
      "Requirement already satisfied: dash-core-components==2.0.0 in c:\\users\\katul\\anaconda3\\lib\\site-packages (from dash->dtale) (2.0.0)\n",
      "Requirement already satisfied: dash-table==5.0.0 in c:\\users\\katul\\anaconda3\\lib\\site-packages (from dash->dtale) (5.0.0)\n",
      "Requirement already satisfied: importlib-metadata in c:\\users\\katul\\anaconda3\\lib\\site-packages (from dash->dtale) (7.0.1)\n",
      "Requirement already satisfied: typing-extensions>=4.1.1 in c:\\users\\katul\\anaconda3\\lib\\site-packages (from dash->dtale) (4.11.0)\n",
      "Requirement already satisfied: retrying in c:\\users\\katul\\anaconda3\\lib\\site-packages (from dash->dtale) (1.3.4)\n",
      "Requirement already satisfied: nest-asyncio in c:\\users\\katul\\anaconda3\\lib\\site-packages (from dash->dtale) (1.6.0)\n",
      "Requirement already satisfied: setuptools in c:\\users\\katul\\anaconda3\\lib\\site-packages (from dash->dtale) (69.5.1)\n",
      "Requirement already satisfied: Jinja2>=3.0 in c:\\users\\katul\\anaconda3\\lib\\site-packages (from Flask<2.3->dtale) (3.1.4)\n",
      "Requirement already satisfied: click>=8.0 in c:\\users\\katul\\anaconda3\\lib\\site-packages (from Flask<2.3->dtale) (8.1.7)\n",
      "Requirement already satisfied: tenacity>=6.2.0 in c:\\users\\katul\\anaconda3\\lib\\site-packages (from plotly->dtale) (8.2.2)\n",
      "Requirement already satisfied: packaging in c:\\users\\katul\\anaconda3\\lib\\site-packages (from plotly->dtale) (23.2)\n",
      "Requirement already satisfied: MarkupSafe>=2.1.1 in c:\\users\\katul\\anaconda3\\lib\\site-packages (from werkzeug->dtale) (2.1.3)\n",
      "Requirement already satisfied: brotli in c:\\users\\katul\\anaconda3\\lib\\site-packages (from Flask-Compress->dtale) (1.0.9)\n",
      "Requirement already satisfied: zstandard in c:\\users\\katul\\anaconda3\\lib\\site-packages (from Flask-Compress->dtale) (0.22.0)\n",
      "Requirement already satisfied: fonttools>=4.22.0 in c:\\users\\katul\\anaconda3\\lib\\site-packages (from matplotlib->dtale) (4.51.0)\n",
      "Requirement already satisfied: kiwisolver>=1.3.1 in c:\\users\\katul\\anaconda3\\lib\\site-packages (from matplotlib->dtale) (1.4.4)\n",
      "Requirement already satisfied: pillow>=8 in c:\\users\\katul\\anaconda3\\lib\\site-packages (from matplotlib->dtale) (10.3.0)\n",
      "Requirement already satisfied: pyparsing>=2.3.1 in c:\\users\\katul\\anaconda3\\lib\\site-packages (from matplotlib->dtale) (3.0.9)\n",
      "Requirement already satisfied: python-dateutil>=2.7 in c:\\users\\katul\\anaconda3\\lib\\site-packages (from matplotlib->dtale) (2.9.0.post0)\n",
      "Requirement already satisfied: pytz>=2020.1 in c:\\users\\katul\\anaconda3\\lib\\site-packages (from pandas->dtale) (2024.1)\n",
      "Requirement already satisfied: tzdata>=2022.7 in c:\\users\\katul\\anaconda3\\lib\\site-packages (from pandas->dtale) (2023.3)\n",
      "Requirement already satisfied: charset-normalizer<4,>=2 in c:\\users\\katul\\anaconda3\\lib\\site-packages (from requests->dtale) (2.0.4)\n",
      "Requirement already satisfied: idna<4,>=2.5 in c:\\users\\katul\\anaconda3\\lib\\site-packages (from requests->dtale) (3.7)\n",
      "Requirement already satisfied: urllib3<3,>=1.21.1 in c:\\users\\katul\\anaconda3\\lib\\site-packages (from requests->dtale) (2.2.2)\n",
      "Requirement already satisfied: joblib>=1.2.0 in c:\\users\\katul\\anaconda3\\lib\\site-packages (from scikit-learn->dtale) (1.4.2)\n",
      "Requirement already satisfied: threadpoolctl>=2.0.0 in c:\\users\\katul\\anaconda3\\lib\\site-packages (from scikit-learn->dtale) (2.2.0)\n",
      "Requirement already satisfied: patsy>=0.5.6 in c:\\users\\katul\\anaconda3\\lib\\site-packages (from statsmodels->dtale) (0.5.6)\n",
      "Requirement already satisfied: colorama in c:\\users\\katul\\anaconda3\\lib\\site-packages (from click>=8.0->Flask<2.3->dtale) (0.4.6)\n",
      "Requirement already satisfied: zipp>=0.5 in c:\\users\\katul\\anaconda3\\lib\\site-packages (from importlib-metadata->dash->dtale) (3.17.0)\n"
     ]
    }
   ],
   "source": [
    "!pip install dtale"
   ]
  },
  {
   "cell_type": "code",
   "execution_count": 4,
   "id": "38be3850-5d75-407b-a784-d74c322d6781",
   "metadata": {},
   "outputs": [
    {
     "name": "stdout",
     "output_type": "stream",
     "text": [
      "Requirement already satisfied: pandas-profiling in c:\\users\\katul\\anaconda3\\lib\\site-packages (3.2.0)\n",
      "Collecting joblib~=1.1.0 (from pandas-profiling)\n",
      "  Using cached joblib-1.1.1-py2.py3-none-any.whl.metadata (5.2 kB)\n",
      "Requirement already satisfied: scipy>=1.4.1 in c:\\users\\katul\\anaconda3\\lib\\site-packages (from pandas-profiling) (1.13.1)\n",
      "Requirement already satisfied: pandas!=1.0.0,!=1.0.1,!=1.0.2,!=1.1.0,>=0.25.3 in c:\\users\\katul\\anaconda3\\lib\\site-packages (from pandas-profiling) (2.2.2)\n",
      "Requirement already satisfied: matplotlib>=3.2.0 in c:\\users\\katul\\anaconda3\\lib\\site-packages (from pandas-profiling) (3.8.4)\n",
      "Requirement already satisfied: pydantic>=1.8.1 in c:\\users\\katul\\anaconda3\\lib\\site-packages (from pandas-profiling) (2.5.3)\n",
      "Requirement already satisfied: PyYAML>=5.0.0 in c:\\users\\katul\\anaconda3\\lib\\site-packages (from pandas-profiling) (6.0.1)\n",
      "Requirement already satisfied: jinja2>=2.11.1 in c:\\users\\katul\\anaconda3\\lib\\site-packages (from pandas-profiling) (3.1.4)\n",
      "Requirement already satisfied: markupsafe~=2.1.1 in c:\\users\\katul\\anaconda3\\lib\\site-packages (from pandas-profiling) (2.1.3)\n",
      "Requirement already satisfied: visions==0.7.4 in c:\\users\\katul\\anaconda3\\lib\\site-packages (from visions[type_image_path]==0.7.4->pandas-profiling) (0.7.4)\n",
      "Requirement already satisfied: numpy>=1.16.0 in c:\\users\\katul\\anaconda3\\lib\\site-packages (from pandas-profiling) (1.26.4)\n",
      "Requirement already satisfied: htmlmin>=0.1.12 in c:\\users\\katul\\anaconda3\\lib\\site-packages (from pandas-profiling) (0.1.12)\n",
      "Requirement already satisfied: missingno>=0.4.2 in c:\\users\\katul\\anaconda3\\lib\\site-packages (from pandas-profiling) (0.5.2)\n",
      "Requirement already satisfied: phik>=0.11.1 in c:\\users\\katul\\anaconda3\\lib\\site-packages (from pandas-profiling) (0.12.4)\n",
      "Requirement already satisfied: tangled-up-in-unicode==0.2.0 in c:\\users\\katul\\anaconda3\\lib\\site-packages (from pandas-profiling) (0.2.0)\n",
      "Requirement already satisfied: requests>=2.24.0 in c:\\users\\katul\\anaconda3\\lib\\site-packages (from pandas-profiling) (2.32.2)\n",
      "Requirement already satisfied: tqdm>=4.48.2 in c:\\users\\katul\\anaconda3\\lib\\site-packages (from pandas-profiling) (4.66.4)\n",
      "Requirement already satisfied: seaborn>=0.10.1 in c:\\users\\katul\\anaconda3\\lib\\site-packages (from pandas-profiling) (0.13.2)\n",
      "Requirement already satisfied: multimethod>=1.4 in c:\\users\\katul\\anaconda3\\lib\\site-packages (from pandas-profiling) (1.12)\n",
      "Requirement already satisfied: attrs>=19.3.0 in c:\\users\\katul\\anaconda3\\lib\\site-packages (from visions==0.7.4->visions[type_image_path]==0.7.4->pandas-profiling) (23.1.0)\n",
      "Requirement already satisfied: networkx>=2.4 in c:\\users\\katul\\anaconda3\\lib\\site-packages (from visions==0.7.4->visions[type_image_path]==0.7.4->pandas-profiling) (3.2.1)\n",
      "Requirement already satisfied: imagehash in c:\\users\\katul\\anaconda3\\lib\\site-packages (from visions[type_image_path]==0.7.4->pandas-profiling) (4.3.1)\n",
      "Requirement already satisfied: Pillow in c:\\users\\katul\\anaconda3\\lib\\site-packages (from visions[type_image_path]==0.7.4->pandas-profiling) (10.3.0)\n",
      "Requirement already satisfied: contourpy>=1.0.1 in c:\\users\\katul\\anaconda3\\lib\\site-packages (from matplotlib>=3.2.0->pandas-profiling) (1.2.0)\n",
      "Requirement already satisfied: cycler>=0.10 in c:\\users\\katul\\anaconda3\\lib\\site-packages (from matplotlib>=3.2.0->pandas-profiling) (0.11.0)\n",
      "Requirement already satisfied: fonttools>=4.22.0 in c:\\users\\katul\\anaconda3\\lib\\site-packages (from matplotlib>=3.2.0->pandas-profiling) (4.51.0)\n",
      "Requirement already satisfied: kiwisolver>=1.3.1 in c:\\users\\katul\\anaconda3\\lib\\site-packages (from matplotlib>=3.2.0->pandas-profiling) (1.4.4)\n",
      "Requirement already satisfied: packaging>=20.0 in c:\\users\\katul\\anaconda3\\lib\\site-packages (from matplotlib>=3.2.0->pandas-profiling) (23.2)\n",
      "Requirement already satisfied: pyparsing>=2.3.1 in c:\\users\\katul\\anaconda3\\lib\\site-packages (from matplotlib>=3.2.0->pandas-profiling) (3.0.9)\n",
      "Requirement already satisfied: python-dateutil>=2.7 in c:\\users\\katul\\anaconda3\\lib\\site-packages (from matplotlib>=3.2.0->pandas-profiling) (2.9.0.post0)\n",
      "Requirement already satisfied: pytz>=2020.1 in c:\\users\\katul\\anaconda3\\lib\\site-packages (from pandas!=1.0.0,!=1.0.1,!=1.0.2,!=1.1.0,>=0.25.3->pandas-profiling) (2024.1)\n",
      "Requirement already satisfied: tzdata>=2022.7 in c:\\users\\katul\\anaconda3\\lib\\site-packages (from pandas!=1.0.0,!=1.0.1,!=1.0.2,!=1.1.0,>=0.25.3->pandas-profiling) (2023.3)\n",
      "Requirement already satisfied: annotated-types>=0.4.0 in c:\\users\\katul\\anaconda3\\lib\\site-packages (from pydantic>=1.8.1->pandas-profiling) (0.6.0)\n",
      "Requirement already satisfied: pydantic-core==2.14.6 in c:\\users\\katul\\anaconda3\\lib\\site-packages (from pydantic>=1.8.1->pandas-profiling) (2.14.6)\n",
      "Requirement already satisfied: typing-extensions>=4.6.1 in c:\\users\\katul\\anaconda3\\lib\\site-packages (from pydantic>=1.8.1->pandas-profiling) (4.11.0)\n",
      "Requirement already satisfied: charset-normalizer<4,>=2 in c:\\users\\katul\\anaconda3\\lib\\site-packages (from requests>=2.24.0->pandas-profiling) (2.0.4)\n",
      "Requirement already satisfied: idna<4,>=2.5 in c:\\users\\katul\\anaconda3\\lib\\site-packages (from requests>=2.24.0->pandas-profiling) (3.7)\n",
      "Requirement already satisfied: urllib3<3,>=1.21.1 in c:\\users\\katul\\anaconda3\\lib\\site-packages (from requests>=2.24.0->pandas-profiling) (2.2.2)\n",
      "Requirement already satisfied: certifi>=2017.4.17 in c:\\users\\katul\\anaconda3\\lib\\site-packages (from requests>=2.24.0->pandas-profiling) (2024.8.30)\n",
      "Requirement already satisfied: colorama in c:\\users\\katul\\anaconda3\\lib\\site-packages (from tqdm>=4.48.2->pandas-profiling) (0.4.6)\n",
      "Requirement already satisfied: six>=1.5 in c:\\users\\katul\\anaconda3\\lib\\site-packages (from python-dateutil>=2.7->matplotlib>=3.2.0->pandas-profiling) (1.16.0)\n",
      "Requirement already satisfied: PyWavelets in c:\\users\\katul\\anaconda3\\lib\\site-packages (from imagehash->visions[type_image_path]==0.7.4->pandas-profiling) (1.5.0)\n",
      "Using cached joblib-1.1.1-py2.py3-none-any.whl (309 kB)\n",
      "Installing collected packages: joblib\n",
      "  Attempting uninstall: joblib\n",
      "    Found existing installation: joblib 1.4.2\n",
      "    Uninstalling joblib-1.4.2:\n",
      "      Successfully uninstalled joblib-1.4.2\n",
      "Successfully installed joblib-1.1.1\n"
     ]
    },
    {
     "name": "stderr",
     "output_type": "stream",
     "text": [
      "ERROR: pip's dependency resolver does not currently take into account all the packages that are installed. This behaviour is the source of the following dependency conflicts.\n",
      "scikit-learn 1.4.2 requires joblib>=1.2.0, but you have joblib 1.1.1 which is incompatible.\n",
      "ydata-profiling 4.10.0 requires visions[type_image_path]<0.7.7,>=0.7.5, but you have visions 0.7.4 which is incompatible.\n"
     ]
    }
   ],
   "source": [
    "!pip install pandas-profiling"
   ]
  },
  {
   "cell_type": "code",
   "execution_count": 5,
   "id": "4bc9434e-44cf-4ce8-8437-f4f1d039cb3f",
   "metadata": {},
   "outputs": [
    {
     "name": "stdout",
     "output_type": "stream",
     "text": [
      "Requirement already satisfied: ydata-profiling in c:\\users\\katul\\anaconda3\\lib\\site-packages (4.10.0)\n",
      "Requirement already satisfied: scipy<1.14,>=1.4.1 in c:\\users\\katul\\anaconda3\\lib\\site-packages (from ydata-profiling) (1.13.1)\n",
      "Requirement already satisfied: pandas!=1.4.0,<3,>1.1 in c:\\users\\katul\\anaconda3\\lib\\site-packages (from ydata-profiling) (2.2.2)\n",
      "Requirement already satisfied: matplotlib<3.10,>=3.5 in c:\\users\\katul\\anaconda3\\lib\\site-packages (from ydata-profiling) (3.8.4)\n",
      "Requirement already satisfied: pydantic>=2 in c:\\users\\katul\\anaconda3\\lib\\site-packages (from ydata-profiling) (2.5.3)\n",
      "Requirement already satisfied: PyYAML<6.1,>=5.0.0 in c:\\users\\katul\\anaconda3\\lib\\site-packages (from ydata-profiling) (6.0.1)\n",
      "Requirement already satisfied: jinja2<3.2,>=2.11.1 in c:\\users\\katul\\anaconda3\\lib\\site-packages (from ydata-profiling) (3.1.4)\n",
      "Collecting visions<0.7.7,>=0.7.5 (from visions[type_image_path]<0.7.7,>=0.7.5->ydata-profiling)\n",
      "  Using cached visions-0.7.6-py3-none-any.whl.metadata (11 kB)\n",
      "Requirement already satisfied: numpy<2.2,>=1.16.0 in c:\\users\\katul\\anaconda3\\lib\\site-packages (from ydata-profiling) (1.26.4)\n",
      "Requirement already satisfied: htmlmin==0.1.12 in c:\\users\\katul\\anaconda3\\lib\\site-packages (from ydata-profiling) (0.1.12)\n",
      "Requirement already satisfied: phik<0.13,>=0.11.1 in c:\\users\\katul\\anaconda3\\lib\\site-packages (from ydata-profiling) (0.12.4)\n",
      "Requirement already satisfied: requests<3,>=2.24.0 in c:\\users\\katul\\anaconda3\\lib\\site-packages (from ydata-profiling) (2.32.2)\n",
      "Requirement already satisfied: tqdm<5,>=4.48.2 in c:\\users\\katul\\anaconda3\\lib\\site-packages (from ydata-profiling) (4.66.4)\n",
      "Requirement already satisfied: seaborn<0.14,>=0.10.1 in c:\\users\\katul\\anaconda3\\lib\\site-packages (from ydata-profiling) (0.13.2)\n",
      "Requirement already satisfied: multimethod<2,>=1.4 in c:\\users\\katul\\anaconda3\\lib\\site-packages (from ydata-profiling) (1.12)\n",
      "Requirement already satisfied: statsmodels<1,>=0.13.2 in c:\\users\\katul\\anaconda3\\lib\\site-packages (from ydata-profiling) (0.14.2)\n",
      "Requirement already satisfied: typeguard<5,>=3 in c:\\users\\katul\\anaconda3\\lib\\site-packages (from ydata-profiling) (4.3.0)\n",
      "Requirement already satisfied: imagehash==4.3.1 in c:\\users\\katul\\anaconda3\\lib\\site-packages (from ydata-profiling) (4.3.1)\n",
      "Requirement already satisfied: wordcloud>=1.9.3 in c:\\users\\katul\\anaconda3\\lib\\site-packages (from ydata-profiling) (1.9.3)\n",
      "Requirement already satisfied: dacite>=1.8 in c:\\users\\katul\\anaconda3\\lib\\site-packages (from ydata-profiling) (1.8.1)\n",
      "Requirement already satisfied: numba<1,>=0.56.0 in c:\\users\\katul\\anaconda3\\lib\\site-packages (from ydata-profiling) (0.59.1)\n",
      "Requirement already satisfied: PyWavelets in c:\\users\\katul\\anaconda3\\lib\\site-packages (from imagehash==4.3.1->ydata-profiling) (1.5.0)\n",
      "Requirement already satisfied: pillow in c:\\users\\katul\\anaconda3\\lib\\site-packages (from imagehash==4.3.1->ydata-profiling) (10.3.0)\n",
      "Requirement already satisfied: MarkupSafe>=2.0 in c:\\users\\katul\\anaconda3\\lib\\site-packages (from jinja2<3.2,>=2.11.1->ydata-profiling) (2.1.3)\n",
      "Requirement already satisfied: contourpy>=1.0.1 in c:\\users\\katul\\anaconda3\\lib\\site-packages (from matplotlib<3.10,>=3.5->ydata-profiling) (1.2.0)\n",
      "Requirement already satisfied: cycler>=0.10 in c:\\users\\katul\\anaconda3\\lib\\site-packages (from matplotlib<3.10,>=3.5->ydata-profiling) (0.11.0)\n",
      "Requirement already satisfied: fonttools>=4.22.0 in c:\\users\\katul\\anaconda3\\lib\\site-packages (from matplotlib<3.10,>=3.5->ydata-profiling) (4.51.0)\n",
      "Requirement already satisfied: kiwisolver>=1.3.1 in c:\\users\\katul\\anaconda3\\lib\\site-packages (from matplotlib<3.10,>=3.5->ydata-profiling) (1.4.4)\n",
      "Requirement already satisfied: packaging>=20.0 in c:\\users\\katul\\anaconda3\\lib\\site-packages (from matplotlib<3.10,>=3.5->ydata-profiling) (23.2)\n",
      "Requirement already satisfied: pyparsing>=2.3.1 in c:\\users\\katul\\anaconda3\\lib\\site-packages (from matplotlib<3.10,>=3.5->ydata-profiling) (3.0.9)\n",
      "Requirement already satisfied: python-dateutil>=2.7 in c:\\users\\katul\\anaconda3\\lib\\site-packages (from matplotlib<3.10,>=3.5->ydata-profiling) (2.9.0.post0)\n",
      "Requirement already satisfied: llvmlite<0.43,>=0.42.0dev0 in c:\\users\\katul\\anaconda3\\lib\\site-packages (from numba<1,>=0.56.0->ydata-profiling) (0.42.0)\n",
      "Requirement already satisfied: pytz>=2020.1 in c:\\users\\katul\\anaconda3\\lib\\site-packages (from pandas!=1.4.0,<3,>1.1->ydata-profiling) (2024.1)\n",
      "Requirement already satisfied: tzdata>=2022.7 in c:\\users\\katul\\anaconda3\\lib\\site-packages (from pandas!=1.4.0,<3,>1.1->ydata-profiling) (2023.3)\n",
      "Requirement already satisfied: joblib>=0.14.1 in c:\\users\\katul\\anaconda3\\lib\\site-packages (from phik<0.13,>=0.11.1->ydata-profiling) (1.1.1)\n",
      "Requirement already satisfied: annotated-types>=0.4.0 in c:\\users\\katul\\anaconda3\\lib\\site-packages (from pydantic>=2->ydata-profiling) (0.6.0)\n",
      "Requirement already satisfied: pydantic-core==2.14.6 in c:\\users\\katul\\anaconda3\\lib\\site-packages (from pydantic>=2->ydata-profiling) (2.14.6)\n",
      "Requirement already satisfied: typing-extensions>=4.6.1 in c:\\users\\katul\\anaconda3\\lib\\site-packages (from pydantic>=2->ydata-profiling) (4.11.0)\n",
      "Requirement already satisfied: charset-normalizer<4,>=2 in c:\\users\\katul\\anaconda3\\lib\\site-packages (from requests<3,>=2.24.0->ydata-profiling) (2.0.4)\n",
      "Requirement already satisfied: idna<4,>=2.5 in c:\\users\\katul\\anaconda3\\lib\\site-packages (from requests<3,>=2.24.0->ydata-profiling) (3.7)\n",
      "Requirement already satisfied: urllib3<3,>=1.21.1 in c:\\users\\katul\\anaconda3\\lib\\site-packages (from requests<3,>=2.24.0->ydata-profiling) (2.2.2)\n",
      "Requirement already satisfied: certifi>=2017.4.17 in c:\\users\\katul\\anaconda3\\lib\\site-packages (from requests<3,>=2.24.0->ydata-profiling) (2024.8.30)\n",
      "Requirement already satisfied: patsy>=0.5.6 in c:\\users\\katul\\anaconda3\\lib\\site-packages (from statsmodels<1,>=0.13.2->ydata-profiling) (0.5.6)\n",
      "Requirement already satisfied: colorama in c:\\users\\katul\\anaconda3\\lib\\site-packages (from tqdm<5,>=4.48.2->ydata-profiling) (0.4.6)\n",
      "Requirement already satisfied: attrs>=19.3.0 in c:\\users\\katul\\anaconda3\\lib\\site-packages (from visions<0.7.7,>=0.7.5->visions[type_image_path]<0.7.7,>=0.7.5->ydata-profiling) (23.1.0)\n",
      "Requirement already satisfied: networkx>=2.4 in c:\\users\\katul\\anaconda3\\lib\\site-packages (from visions<0.7.7,>=0.7.5->visions[type_image_path]<0.7.7,>=0.7.5->ydata-profiling) (3.2.1)\n",
      "Requirement already satisfied: six in c:\\users\\katul\\anaconda3\\lib\\site-packages (from patsy>=0.5.6->statsmodels<1,>=0.13.2->ydata-profiling) (1.16.0)\n",
      "Using cached visions-0.7.6-py3-none-any.whl (104 kB)\n",
      "Installing collected packages: visions\n",
      "  Attempting uninstall: visions\n",
      "    Found existing installation: visions 0.7.4\n",
      "    Uninstalling visions-0.7.4:\n",
      "      Successfully uninstalled visions-0.7.4\n",
      "Successfully installed visions-0.7.6\n"
     ]
    },
    {
     "name": "stderr",
     "output_type": "stream",
     "text": [
      "ERROR: pip's dependency resolver does not currently take into account all the packages that are installed. This behaviour is the source of the following dependency conflicts.\n",
      "pandas-profiling 3.2.0 requires visions[type_image_path]==0.7.4, but you have visions 0.7.6 which is incompatible.\n"
     ]
    }
   ],
   "source": [
    "!pip install ydata-profiling"
   ]
  },
  {
   "cell_type": "code",
   "execution_count": 6,
   "id": "894bf8d8-7bb8-4fe8-afa2-cea47bc94186",
   "metadata": {},
   "outputs": [
    {
     "name": "stdout",
     "output_type": "stream",
     "text": [
      "Requirement already satisfied: scikit-learn in c:\\users\\katul\\anaconda3\\lib\\site-packages (1.4.2)\n",
      "Requirement already satisfied: numpy>=1.19.5 in c:\\users\\katul\\anaconda3\\lib\\site-packages (from scikit-learn) (1.26.4)\n",
      "Requirement already satisfied: scipy>=1.6.0 in c:\\users\\katul\\anaconda3\\lib\\site-packages (from scikit-learn) (1.13.1)\n",
      "Collecting joblib>=1.2.0 (from scikit-learn)\n",
      "  Using cached joblib-1.4.2-py3-none-any.whl.metadata (5.4 kB)\n",
      "Requirement already satisfied: threadpoolctl>=2.0.0 in c:\\users\\katul\\anaconda3\\lib\\site-packages (from scikit-learn) (2.2.0)\n",
      "Using cached joblib-1.4.2-py3-none-any.whl (301 kB)\n",
      "Installing collected packages: joblib\n",
      "  Attempting uninstall: joblib\n",
      "    Found existing installation: joblib 1.1.1\n",
      "    Uninstalling joblib-1.1.1:\n",
      "      Successfully uninstalled joblib-1.1.1\n",
      "Successfully installed joblib-1.4.2\n"
     ]
    },
    {
     "name": "stderr",
     "output_type": "stream",
     "text": [
      "ERROR: pip's dependency resolver does not currently take into account all the packages that are installed. This behaviour is the source of the following dependency conflicts.\n",
      "pandas-profiling 3.2.0 requires joblib~=1.1.0, but you have joblib 1.4.2 which is incompatible.\n",
      "pandas-profiling 3.2.0 requires visions[type_image_path]==0.7.4, but you have visions 0.7.6 which is incompatible.\n"
     ]
    }
   ],
   "source": [
    "! pip install scikit-learn"
   ]
  },
  {
   "cell_type": "code",
   "execution_count": 8,
   "id": "9a8f4f8f-7a5d-4031-8342-b9bf297d1985",
   "metadata": {},
   "outputs": [
    {
     "name": "stdout",
     "output_type": "stream",
     "text": [
      "Requirement already satisfied: pandas-profiling in c:\\users\\katul\\anaconda3\\lib\\site-packages (3.2.0)\n",
      "Collecting 3\n",
      "  Downloading 3-0.0.0-py3-none-any.whl.metadata (862 bytes)\n",
      "Collecting joblib~=1.1.0 (from pandas-profiling)\n",
      "  Using cached joblib-1.1.1-py2.py3-none-any.whl.metadata (5.2 kB)\n",
      "Requirement already satisfied: scipy>=1.4.1 in c:\\users\\katul\\anaconda3\\lib\\site-packages (from pandas-profiling) (1.13.1)\n",
      "Requirement already satisfied: pandas!=1.0.0,!=1.0.1,!=1.0.2,!=1.1.0,>=0.25.3 in c:\\users\\katul\\anaconda3\\lib\\site-packages (from pandas-profiling) (2.2.2)\n",
      "Requirement already satisfied: matplotlib>=3.2.0 in c:\\users\\katul\\anaconda3\\lib\\site-packages (from pandas-profiling) (3.8.4)\n",
      "Requirement already satisfied: pydantic>=1.8.1 in c:\\users\\katul\\anaconda3\\lib\\site-packages (from pandas-profiling) (2.5.3)\n",
      "Requirement already satisfied: PyYAML>=5.0.0 in c:\\users\\katul\\anaconda3\\lib\\site-packages (from pandas-profiling) (6.0.1)\n",
      "Requirement already satisfied: jinja2>=2.11.1 in c:\\users\\katul\\anaconda3\\lib\\site-packages (from pandas-profiling) (3.1.4)\n",
      "Requirement already satisfied: markupsafe~=2.1.1 in c:\\users\\katul\\anaconda3\\lib\\site-packages (from pandas-profiling) (2.1.3)\n",
      "Collecting visions==0.7.4 (from visions[type_image_path]==0.7.4->pandas-profiling)\n",
      "  Using cached visions-0.7.4-py3-none-any.whl.metadata (5.9 kB)\n",
      "Requirement already satisfied: numpy>=1.16.0 in c:\\users\\katul\\anaconda3\\lib\\site-packages (from pandas-profiling) (1.26.4)\n",
      "Requirement already satisfied: htmlmin>=0.1.12 in c:\\users\\katul\\anaconda3\\lib\\site-packages (from pandas-profiling) (0.1.12)\n",
      "Requirement already satisfied: missingno>=0.4.2 in c:\\users\\katul\\anaconda3\\lib\\site-packages (from pandas-profiling) (0.5.2)\n",
      "Requirement already satisfied: phik>=0.11.1 in c:\\users\\katul\\anaconda3\\lib\\site-packages (from pandas-profiling) (0.12.4)\n",
      "Requirement already satisfied: tangled-up-in-unicode==0.2.0 in c:\\users\\katul\\anaconda3\\lib\\site-packages (from pandas-profiling) (0.2.0)\n",
      "Requirement already satisfied: requests>=2.24.0 in c:\\users\\katul\\anaconda3\\lib\\site-packages (from pandas-profiling) (2.32.2)\n",
      "Requirement already satisfied: tqdm>=4.48.2 in c:\\users\\katul\\anaconda3\\lib\\site-packages (from pandas-profiling) (4.66.4)\n",
      "Requirement already satisfied: seaborn>=0.10.1 in c:\\users\\katul\\anaconda3\\lib\\site-packages (from pandas-profiling) (0.13.2)\n",
      "Requirement already satisfied: multimethod>=1.4 in c:\\users\\katul\\anaconda3\\lib\\site-packages (from pandas-profiling) (1.12)\n",
      "Requirement already satisfied: attrs>=19.3.0 in c:\\users\\katul\\anaconda3\\lib\\site-packages (from visions==0.7.4->visions[type_image_path]==0.7.4->pandas-profiling) (23.1.0)\n",
      "Requirement already satisfied: networkx>=2.4 in c:\\users\\katul\\anaconda3\\lib\\site-packages (from visions==0.7.4->visions[type_image_path]==0.7.4->pandas-profiling) (3.2.1)\n",
      "Requirement already satisfied: imagehash in c:\\users\\katul\\anaconda3\\lib\\site-packages (from visions[type_image_path]==0.7.4->pandas-profiling) (4.3.1)\n",
      "Requirement already satisfied: Pillow in c:\\users\\katul\\anaconda3\\lib\\site-packages (from visions[type_image_path]==0.7.4->pandas-profiling) (10.3.0)\n",
      "Requirement already satisfied: contourpy>=1.0.1 in c:\\users\\katul\\anaconda3\\lib\\site-packages (from matplotlib>=3.2.0->pandas-profiling) (1.2.0)\n",
      "Requirement already satisfied: cycler>=0.10 in c:\\users\\katul\\anaconda3\\lib\\site-packages (from matplotlib>=3.2.0->pandas-profiling) (0.11.0)\n",
      "Requirement already satisfied: fonttools>=4.22.0 in c:\\users\\katul\\anaconda3\\lib\\site-packages (from matplotlib>=3.2.0->pandas-profiling) (4.51.0)\n",
      "Requirement already satisfied: kiwisolver>=1.3.1 in c:\\users\\katul\\anaconda3\\lib\\site-packages (from matplotlib>=3.2.0->pandas-profiling) (1.4.4)\n",
      "Requirement already satisfied: packaging>=20.0 in c:\\users\\katul\\anaconda3\\lib\\site-packages (from matplotlib>=3.2.0->pandas-profiling) (23.2)\n",
      "Requirement already satisfied: pyparsing>=2.3.1 in c:\\users\\katul\\anaconda3\\lib\\site-packages (from matplotlib>=3.2.0->pandas-profiling) (3.0.9)\n",
      "Requirement already satisfied: python-dateutil>=2.7 in c:\\users\\katul\\anaconda3\\lib\\site-packages (from matplotlib>=3.2.0->pandas-profiling) (2.9.0.post0)\n",
      "Requirement already satisfied: pytz>=2020.1 in c:\\users\\katul\\anaconda3\\lib\\site-packages (from pandas!=1.0.0,!=1.0.1,!=1.0.2,!=1.1.0,>=0.25.3->pandas-profiling) (2024.1)\n",
      "Requirement already satisfied: tzdata>=2022.7 in c:\\users\\katul\\anaconda3\\lib\\site-packages (from pandas!=1.0.0,!=1.0.1,!=1.0.2,!=1.1.0,>=0.25.3->pandas-profiling) (2023.3)\n",
      "Requirement already satisfied: annotated-types>=0.4.0 in c:\\users\\katul\\anaconda3\\lib\\site-packages (from pydantic>=1.8.1->pandas-profiling) (0.6.0)\n",
      "Requirement already satisfied: pydantic-core==2.14.6 in c:\\users\\katul\\anaconda3\\lib\\site-packages (from pydantic>=1.8.1->pandas-profiling) (2.14.6)\n",
      "Requirement already satisfied: typing-extensions>=4.6.1 in c:\\users\\katul\\anaconda3\\lib\\site-packages (from pydantic>=1.8.1->pandas-profiling) (4.11.0)\n",
      "Requirement already satisfied: charset-normalizer<4,>=2 in c:\\users\\katul\\anaconda3\\lib\\site-packages (from requests>=2.24.0->pandas-profiling) (2.0.4)\n",
      "Requirement already satisfied: idna<4,>=2.5 in c:\\users\\katul\\anaconda3\\lib\\site-packages (from requests>=2.24.0->pandas-profiling) (3.7)\n",
      "Requirement already satisfied: urllib3<3,>=1.21.1 in c:\\users\\katul\\anaconda3\\lib\\site-packages (from requests>=2.24.0->pandas-profiling) (2.2.2)\n",
      "Requirement already satisfied: certifi>=2017.4.17 in c:\\users\\katul\\anaconda3\\lib\\site-packages (from requests>=2.24.0->pandas-profiling) (2024.8.30)\n",
      "Requirement already satisfied: colorama in c:\\users\\katul\\anaconda3\\lib\\site-packages (from tqdm>=4.48.2->pandas-profiling) (0.4.6)\n",
      "Requirement already satisfied: six>=1.5 in c:\\users\\katul\\anaconda3\\lib\\site-packages (from python-dateutil>=2.7->matplotlib>=3.2.0->pandas-profiling) (1.16.0)\n",
      "Requirement already satisfied: PyWavelets in c:\\users\\katul\\anaconda3\\lib\\site-packages (from imagehash->visions[type_image_path]==0.7.4->pandas-profiling) (1.5.0)\n",
      "Using cached visions-0.7.4-py3-none-any.whl (102 kB)\n",
      "Downloading 3-0.0.0-py3-none-any.whl (1.6 kB)\n",
      "Using cached joblib-1.1.1-py2.py3-none-any.whl (309 kB)\n",
      "Installing collected packages: 3, joblib, visions\n",
      "  Attempting uninstall: joblib\n",
      "    Found existing installation: joblib 1.4.2\n",
      "    Uninstalling joblib-1.4.2:\n",
      "      Successfully uninstalled joblib-1.4.2\n",
      "  Attempting uninstall: visions\n",
      "    Found existing installation: visions 0.7.6\n",
      "    Uninstalling visions-0.7.6:\n",
      "      Successfully uninstalled visions-0.7.6\n",
      "Successfully installed 3-0.0.0 joblib-1.1.1 visions-0.7.4\n"
     ]
    },
    {
     "name": "stderr",
     "output_type": "stream",
     "text": [
      "ERROR: pip's dependency resolver does not currently take into account all the packages that are installed. This behaviour is the source of the following dependency conflicts.\n",
      "scikit-learn 1.4.2 requires joblib>=1.2.0, but you have joblib 1.1.1 which is incompatible.\n",
      "ydata-profiling 4.10.0 requires visions[type_image_path]<0.7.7,>=0.7.5, but you have visions 0.7.4 which is incompatible.\n"
     ]
    }
   ],
   "source": [
    "! pip install pandas-profiling 3"
   ]
  },
  {
   "cell_type": "code",
   "execution_count": 9,
   "id": "94bb08c4-b289-4f8d-9382-59c39843eaee",
   "metadata": {},
   "outputs": [
    {
     "name": "stdout",
     "output_type": "stream",
     "text": [
      "Requirement already satisfied: ydata-profiling in c:\\users\\katul\\anaconda3\\lib\\site-packages (4.10.0)\n"
     ]
    },
    {
     "name": "stderr",
     "output_type": "stream",
     "text": [
      "ERROR: Could not find a version that satisfies the requirement 4.10.0 (from versions: none)\n",
      "ERROR: No matching distribution found for 4.10.0\n"
     ]
    }
   ],
   "source": [
    "! pip install ydata-profiling 4.10.0"
   ]
  },
  {
   "cell_type": "code",
   "execution_count": null,
   "id": "846986a4-689a-4675-b4bd-2105d8544dae",
   "metadata": {},
   "outputs": [],
   "source": []
  }
 ],
 "metadata": {
  "kernelspec": {
   "display_name": "Python 3 (ipykernel)",
   "language": "python",
   "name": "python3"
  },
  "language_info": {
   "codemirror_mode": {
    "name": "ipython",
    "version": 3
   },
   "file_extension": ".py",
   "mimetype": "text/x-python",
   "name": "python",
   "nbconvert_exporter": "python",
   "pygments_lexer": "ipython3",
   "version": "3.12.4"
  }
 },
 "nbformat": 4,
 "nbformat_minor": 5
}
