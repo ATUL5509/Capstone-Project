{
 "cells": [
  {
   "cell_type": "code",
   "execution_count": null,
   "id": "cddb188e",
   "metadata": {},
   "outputs": [],
   "source": []
  },
  {
   "cell_type": "code",
   "execution_count": 4,
   "id": "a7dc843b",
   "metadata": {},
   "outputs": [],
   "source": [
    "## Define a function calls addNumber(x, y) that takes in two number and returns the sum of the two numbers."
   ]
  },
  {
   "cell_type": "code",
   "execution_count": 15,
   "id": "5f891c9f",
   "metadata": {},
   "outputs": [
    {
     "name": "stdout",
     "output_type": "stream",
     "text": [
      "12\n"
     ]
    }
   ],
   "source": [
    "def addNumber(x, y):\n",
    "    return x + y\n",
    "\n",
    "\n",
    "result = addNumber(5, 7)\n",
    "print(result)"
   ]
  },
  {
   "cell_type": "code",
   "execution_count": 10,
   "id": "8415f38e",
   "metadata": {},
   "outputs": [
    {
     "ename": "NameError",
     "evalue": "name 'addnumber' is not defined",
     "output_type": "error",
     "traceback": [
      "\u001b[1;31m---------------------------------------------------------------------------\u001b[0m",
      "\u001b[1;31mNameError\u001b[0m                                 Traceback (most recent call last)",
      "Cell \u001b[1;32mIn[10], line 1\u001b[0m\n\u001b[1;32m----> 1\u001b[0m result \u001b[38;5;241m=\u001b[39m addnumber(\u001b[38;5;241m15\u001b[39m, \u001b[38;5;241m17\u001b[39m)\n\u001b[0;32m      2\u001b[0m \u001b[38;5;28mprint\u001b[39m(\u001b[38;5;124mf\u001b[39m\u001b[38;5;124m\"\u001b[39m\u001b[38;5;124mThe sum is: \u001b[39m\u001b[38;5;132;01m{\u001b[39;00mresult\u001b[38;5;132;01m}\u001b[39;00m\u001b[38;5;124m\"\u001b[39m)\n",
      "\u001b[1;31mNameError\u001b[0m: name 'addnumber' is not defined"
     ]
    }
   ],
   "source": [
    "result = addnumber(15, 17)\n",
    "print(f\"The sum is: {result}\")"
   ]
  },
  {
   "cell_type": "code",
   "execution_count": 11,
   "id": "e049835e",
   "metadata": {},
   "outputs": [
    {
     "name": "stdout",
     "output_type": "stream",
     "text": [
      "The sum is: 28\n"
     ]
    }
   ],
   "source": [
    "def addNumber(x, y):\n",
    "    \"\"\"\n",
    "    Adds two numbers and returns the sum.\n",
    "\n",
    "    Args:\n",
    "        x (float or int): First number.\n",
    "        y (float or int): Second number.\n",
    "\n",
    "    Returns:\n",
    "        float or int: Sum of x and y.\n",
    "    \"\"\"\n",
    "    return x + y\n",
    "\n",
    "# Example usage:\n",
    "result = addNumber(15, 13)\n",
    "print(f\"The sum is: {result}\")"
   ]
  },
  {
   "cell_type": "code",
   "execution_count": null,
   "id": "cbf3d768",
   "metadata": {},
   "outputs": [],
   "source": [
    "# Define a function calls subtractNumber(x, y) that takes in two numbers and returns the difference of the two numbers.\n"
   ]
  },
  {
   "cell_type": "code",
   "execution_count": 14,
   "id": "4ff21541",
   "metadata": {},
   "outputs": [
    {
     "name": "stdout",
     "output_type": "stream",
     "text": [
      "40\n"
     ]
    }
   ],
   "source": [
    "def subtractNumber(x, y):\n",
    "    return x - y\n",
    "\n",
    "\n",
    "result = subtractNumber(45, 5)\n",
    "print(result) "
   ]
  },
  {
   "cell_type": "code",
   "execution_count": null,
   "id": "86121eb7",
   "metadata": {},
   "outputs": [],
   "source": [
    "# Write a function getBiggerNumber(x, y) that takes in two numbers as arguments and returns the bigger number.\n",
    "\n"
   ]
  },
  {
   "cell_type": "code",
   "execution_count": 25,
   "id": "d9c225dc",
   "metadata": {},
   "outputs": [
    {
     "name": "stdout",
     "output_type": "stream",
     "text": [
      "12\n"
     ]
    }
   ],
   "source": [
    "def getBiggerNumber(x, y):\n",
    "    if x > y:\n",
    "        return x\n",
    "    else:\n",
    "        return y\n",
    "    \n",
    "    \n",
    "    result = getBiggerNumber(10, 5)\n",
    "print(result)"
   ]
  },
  {
   "cell_type": "code",
   "execution_count": 23,
   "id": "4b175a7b",
   "metadata": {},
   "outputs": [
    {
     "name": "stdout",
     "output_type": "stream",
     "text": [
      "12\n"
     ]
    }
   ],
   "source": [
    "def getBiggerNumber(x, y):\n",
    "    if x > y:\n",
    "        return x\n",
    "    else:\n",
    "        return y\n",
    "    \n",
    "    \n",
    "    result = ge\n",
    "    tBiggerNumber(15, 10)\n",
    "print(result)"
   ]
  },
  {
   "cell_type": "code",
   "execution_count": 26,
   "id": "bab5a5f3",
   "metadata": {},
   "outputs": [
    {
     "name": "stdout",
     "output_type": "stream",
     "text": [
      "10\n"
     ]
    }
   ],
   "source": [
    "def getBiggerNumber(x, y):\n",
    "    if x > y:\n",
    "        return x\n",
    "    else:\n",
    "        return y\n",
    "result = getBiggerNumber(10, 5)\n",
    "print(result)  # This will print 10\n"
   ]
  },
  {
   "cell_type": "code",
   "execution_count": 27,
   "id": "e610f5bc",
   "metadata": {},
   "outputs": [
    {
     "name": "stdout",
     "output_type": "stream",
     "text": [
      "100\n"
     ]
    }
   ],
   "source": [
    "def getBiggerNumber(x, y):\n",
    "    if x > y:\n",
    "        return x\n",
    "    else:\n",
    "        return y\n",
    "result = getBiggerNumber(100, 5)\n",
    "print(result)  # This will print 10\n"
   ]
  },
  {
   "cell_type": "code",
   "execution_count": 30,
   "id": "3e52e14b",
   "metadata": {
    "scrolled": true
   },
   "outputs": [
    {
     "name": "stdout",
     "output_type": "stream",
     "text": [
      "200\n"
     ]
    }
   ],
   "source": [
    "def getBiggerNumber(x, y):\n",
    "    if x > y:\n",
    "        return x\n",
    "    else:\n",
    "        return y\n",
    "result = getBiggerNumber(170, 200)\n",
    "print(result)  # This will print 10\n"
   ]
  },
  {
   "cell_type": "markdown",
   "id": "63ace5cd",
   "metadata": {},
   "source": [
    "# Python provides many built-in modules with many useful functions. \n",
    "# One such module is the math module. The math module provides many useful functions such as sqrt(x), pow(x, y), ceil(x), floor(x) etc. \n",
    "# You will need to do a \"import math\" before you are allowed to use the functions within the math module.\n",
    "\n",
    "\n",
    "# Calculate the square root of 16 and stores it in the variable a\n",
    "\n",
    "\n",
    "# Calculate 3 to the power of 5 and stores it in the variable b\n",
    "\n",
    "\n",
    "# Calculate area of circle with radius = 3.0 by making use of the math.pi constant and store it in the variable c\n",
    "\n"
   ]
  },
  {
   "cell_type": "code",
   "execution_count": 39,
   "id": "358b501f",
   "metadata": {},
   "outputs": [],
   "source": [
    "import math"
   ]
  },
  {
   "cell_type": "markdown",
   "id": "018f707f",
   "metadata": {},
   "source": [
    "#Calculate the square root of 16 and store it in the variable a"
   ]
  },
  {
   "cell_type": "code",
   "execution_count": 33,
   "id": "dd3fe261",
   "metadata": {},
   "outputs": [
    {
     "ename": "NameError",
     "evalue": "name 'math' is not defined",
     "output_type": "error",
     "traceback": [
      "\u001b[1;31m---------------------------------------------------------------------------\u001b[0m",
      "\u001b[1;31mNameError\u001b[0m                                 Traceback (most recent call last)",
      "Cell \u001b[1;32mIn[33], line 1\u001b[0m\n\u001b[1;32m----> 1\u001b[0m a \u001b[38;5;241m=\u001b[39m math\u001b[38;5;241m.\u001b[39msqrt(\u001b[38;5;241m16\u001b[39m)\n",
      "\u001b[1;31mNameError\u001b[0m: name 'math' is not defined"
     ]
    }
   ],
   "source": [
    "a = math.sqrt(16)"
   ]
  },
  {
   "cell_type": "markdown",
   "id": "ce8b8f01",
   "metadata": {},
   "source": [
    "#Calculate 3 to the power of 5 and stores it in the variable b"
   ]
  },
  {
   "cell_type": "code",
   "execution_count": null,
   "id": "abb332d9",
   "metadata": {},
   "outputs": [],
   "source": [
    "b = math.pow(3, 5)"
   ]
  },
  {
   "cell_type": "markdown",
   "id": "114d030b",
   "metadata": {},
   "source": [
    "#Calculate the area of a circle with radius = 3.0 using math.pi and store it in the variable c"
   ]
  },
  {
   "cell_type": "code",
   "execution_count": 40,
   "id": "295a4f80",
   "metadata": {},
   "outputs": [
    {
     "ename": "NameError",
     "evalue": "name 'a' is not defined",
     "output_type": "error",
     "traceback": [
      "\u001b[1;31m---------------------------------------------------------------------------\u001b[0m",
      "\u001b[1;31mNameError\u001b[0m                                 Traceback (most recent call last)",
      "Cell \u001b[1;32mIn[40], line 4\u001b[0m\n\u001b[0;32m      1\u001b[0m radius \u001b[38;5;241m=\u001b[39m \u001b[38;5;241m3.0\u001b[39m\n\u001b[0;32m      2\u001b[0m c \u001b[38;5;241m=\u001b[39m math\u001b[38;5;241m.\u001b[39mpi \u001b[38;5;241m*\u001b[39m math\u001b[38;5;241m.\u001b[39mpow(radius, \u001b[38;5;241m2\u001b[39m)\n\u001b[1;32m----> 4\u001b[0m \u001b[38;5;28mprint\u001b[39m(\u001b[38;5;124m\"\u001b[39m\u001b[38;5;124mSquare root of 16:\u001b[39m\u001b[38;5;124m\"\u001b[39m, a)\n\u001b[0;32m      5\u001b[0m \u001b[38;5;28mprint\u001b[39m(\u001b[38;5;124m\"\u001b[39m\u001b[38;5;124m3 to the power of 5:\u001b[39m\u001b[38;5;124m\"\u001b[39m, b)\n\u001b[0;32m      6\u001b[0m \u001b[38;5;28mprint\u001b[39m(\u001b[38;5;124m\"\u001b[39m\u001b[38;5;124mArea of circle with radius 3.0:\u001b[39m\u001b[38;5;124m\"\u001b[39m, c)\n",
      "\u001b[1;31mNameError\u001b[0m: name 'a' is not defined"
     ]
    }
   ],
   "source": [
    "radius = 3.0\n",
    "c = math.pi * math.pow(radius, 2)\n",
    "\n",
    "print(\"Square root of 16:\", a)\n",
    "print(\"3 to the power of 5:\", b)\n",
    "print(\"Area of circle with radius 3.0:\", c)"
   ]
  },
  {
   "cell_type": "code",
   "execution_count": 41,
   "id": "7bc2a62f",
   "metadata": {},
   "outputs": [
    {
     "name": "stdout",
     "output_type": "stream",
     "text": [
      "Square root of 16: 4.0\n",
      "3 to the power of 5: 243.0\n",
      "Area of circle with radius 3.0: 28.27\n"
     ]
    }
   ],
   "source": [
    "import math\n",
    "\n",
    "# Calculate square root of 16\n",
    "a = math.sqrt(16)\n",
    "\n",
    "# Calculate 3 to the power of 5\n",
    "b = math.pow(3, 5)\n",
    "\n",
    "# Calculate area of circle with radius 3.0\n",
    "radius = 3.0\n",
    "c = math.pi * radius**2\n",
    "\n",
    "print(f\"Square root of 16: {a}\")\n",
    "print(f\"3 to the power of 5: {b}\")\n",
    "print(f\"Area of circle with radius 3.0: {c:.2f}\")\n"
   ]
  },
  {
   "cell_type": "code",
   "execution_count": 42,
   "id": "61d49272",
   "metadata": {},
   "outputs": [
    {
     "name": "stdout",
     "output_type": "stream",
     "text": [
      "Square root of 16: 4.0\n",
      "3 to the power of 5: 243.0\n",
      "Area of circle with radius 3.0: 28.274333882308138\n"
     ]
    }
   ],
   "source": [
    "import math\n",
    "\n",
    "# Calculate the square root of 16 and store it in the variable a\n",
    "a = math.sqrt(16)\n",
    "\n",
    "# Calculate 3 to the power of 5 and store it in the variable b\n",
    "b = math.pow(3, 5)\n",
    "\n",
    "# Calculate the area of a circle with radius = 3.0 using math.pi and store it in the variable c\n",
    "radius = 3.0\n",
    "c = math.pi * math.pow(radius, 2)\n",
    "\n",
    "print(\"Square root of 16:\", a)\n",
    "print(\"3 to the power of 5:\", b)\n",
    "print(\"Area of circle with radius 3.0:\", c)\n"
   ]
  },
  {
   "cell_type": "markdown",
   "id": "4ac5e640",
   "metadata": {},
   "source": [
    "#Write a function to convert temperature from Celsius to Fahrenheit scale.\n",
    "#oC to oF Conversion: Multipy by 9, then divide by 5, then add 32.\n",
    "\n",
    "#Note: Return a string of 2 decimal places.\n",
    "#In - Cel2Fah(28.0)\n",
    " Out - '82.40'\n",
    " In - Cel2Fah(0.00)\n",
    " Out - '32.00'"
   ]
  },
  {
   "cell_type": "code",
   "execution_count": 47,
   "id": "fd22f6f6",
   "metadata": {},
   "outputs": [
    {
     "name": "stdout",
     "output_type": "stream",
     "text": [
      "82.40\n",
      "32.00\n"
     ]
    }
   ],
   "source": [
    "def Cel2Fah(celsius):\n",
    "    fahrenheit = (celsius * 9 / 5) + 32\n",
    "    return '{:.2f}'.format(fahrenheit)\n",
    "\n",
    "\n",
    "\n",
    "\n",
    "print(Cel2Fah(28.0))\n",
    "print(Cel2Fah(0.00))"
   ]
  },
  {
   "cell_type": "markdown",
   "id": "541db05d",
   "metadata": {},
   "source": [
    "## Write a function to compute the BMI of a person.\n",
    "#     BMI = weight(kg)  /  ( height(m)*height(m) )\n",
    "\n",
    "# Note: Return a string of 1 decimal place.\n",
    "# In - BMI(63, 1.7)\n",
    "# Out - '21.8'\n",
    "# In - BMI(110, 2)\n",
    "# Out - '27.5'\n",
    " "
   ]
  },
  {
   "cell_type": "code",
   "execution_count": 51,
   "id": "beca76af",
   "metadata": {},
   "outputs": [
    {
     "name": "stdout",
     "output_type": "stream",
     "text": [
      "21.8\n",
      "27.5\n"
     ]
    }
   ],
   "source": [
    "def BMI(weight, height):\n",
    "    bmi = weight / (height * height)\n",
    "    return '{:.1f}'.format(bmi)\n",
    "\n",
    "print(BMI(63, 1.7))  \n",
    "print(BMI(110, 2))\n"
   ]
  },
  {
   "cell_type": "code",
   "execution_count": null,
   "id": "86a5f28d",
   "metadata": {},
   "outputs": [],
   "source": []
  },
  {
   "cell_type": "code",
   "execution_count": null,
   "id": "722bb793",
   "metadata": {},
   "outputs": [],
   "source": []
  },
  {
   "cell_type": "code",
   "execution_count": null,
   "id": "13c3e713",
   "metadata": {},
   "outputs": [],
   "source": []
  },
  {
   "cell_type": "code",
   "execution_count": null,
   "id": "0b07fd92",
   "metadata": {},
   "outputs": [],
   "source": []
  },
  {
   "cell_type": "code",
   "execution_count": null,
   "id": "d57c5c33",
   "metadata": {},
   "outputs": [],
   "source": []
  },
  {
   "cell_type": "code",
   "execution_count": null,
   "id": "903f7834",
   "metadata": {},
   "outputs": [],
   "source": []
  },
  {
   "cell_type": "code",
   "execution_count": null,
   "id": "4e494313",
   "metadata": {},
   "outputs": [],
   "source": []
  },
  {
   "cell_type": "code",
   "execution_count": null,
   "id": "2e2307ff",
   "metadata": {},
   "outputs": [],
   "source": []
  },
  {
   "cell_type": "code",
   "execution_count": null,
   "id": "8d96cf09",
   "metadata": {},
   "outputs": [],
   "source": []
  },
  {
   "cell_type": "code",
   "execution_count": null,
   "id": "e9020ee6",
   "metadata": {},
   "outputs": [],
   "source": []
  },
  {
   "cell_type": "code",
   "execution_count": null,
   "id": "0309690e",
   "metadata": {},
   "outputs": [],
   "source": []
  },
  {
   "cell_type": "code",
   "execution_count": null,
   "id": "5249d97a",
   "metadata": {},
   "outputs": [],
   "source": []
  },
  {
   "cell_type": "code",
   "execution_count": null,
   "id": "738626b4",
   "metadata": {},
   "outputs": [],
   "source": []
  },
  {
   "cell_type": "code",
   "execution_count": null,
   "id": "65cd7e17",
   "metadata": {},
   "outputs": [],
   "source": []
  },
  {
   "cell_type": "code",
   "execution_count": null,
   "id": "73df565c",
   "metadata": {},
   "outputs": [],
   "source": []
  },
  {
   "cell_type": "code",
   "execution_count": null,
   "id": "2f35376e",
   "metadata": {},
   "outputs": [],
   "source": []
  },
  {
   "cell_type": "code",
   "execution_count": null,
   "id": "a79b7440",
   "metadata": {},
   "outputs": [],
   "source": []
  },
  {
   "cell_type": "code",
   "execution_count": null,
   "id": "7e5b5ca1",
   "metadata": {},
   "outputs": [],
   "source": []
  },
  {
   "cell_type": "code",
   "execution_count": null,
   "id": "0d3d1539",
   "metadata": {},
   "outputs": [],
   "source": []
  },
  {
   "cell_type": "code",
   "execution_count": null,
   "id": "dd4ef8e3",
   "metadata": {},
   "outputs": [],
   "source": []
  },
  {
   "cell_type": "code",
   "execution_count": null,
   "id": "ef9ba101",
   "metadata": {},
   "outputs": [],
   "source": []
  },
  {
   "cell_type": "code",
   "execution_count": null,
   "id": "5f8bb35b",
   "metadata": {},
   "outputs": [],
   "source": []
  },
  {
   "cell_type": "code",
   "execution_count": null,
   "id": "3a73b409",
   "metadata": {},
   "outputs": [],
   "source": []
  }
 ],
 "metadata": {
  "kernelspec": {
   "display_name": "Python 3 (ipykernel)",
   "language": "python",
   "name": "python3"
  },
  "language_info": {
   "codemirror_mode": {
    "name": "ipython",
    "version": 3
   },
   "file_extension": ".py",
   "mimetype": "text/x-python",
   "name": "python",
   "nbconvert_exporter": "python",
   "pygments_lexer": "ipython3",
   "version": "3.11.7"
  }
 },
 "nbformat": 4,
 "nbformat_minor": 5
}
