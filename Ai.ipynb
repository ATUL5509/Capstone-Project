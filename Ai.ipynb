{
 "cells": [
  {
   "cell_type": "code",
   "execution_count": 1,
   "id": "9b73843f-b4fe-4c8c-bb8b-625eb0aa8b26",
   "metadata": {},
   "outputs": [
    {
     "name": "stdout",
     "output_type": "stream",
     "text": [
      "Collecting pdfminer.six\n",
      "  Downloading pdfminer.six-20240706-py3-none-any.whl.metadata (4.1 kB)\n",
      "Requirement already satisfied: charset-normalizer>=2.0.0 in c:\\users\\katul\\anaconda3\\lib\\site-packages (from pdfminer.six) (2.0.4)\n",
      "Requirement already satisfied: cryptography>=36.0.0 in c:\\users\\katul\\anaconda3\\lib\\site-packages (from pdfminer.six) (42.0.5)\n",
      "Requirement already satisfied: cffi>=1.12 in c:\\users\\katul\\anaconda3\\lib\\site-packages (from cryptography>=36.0.0->pdfminer.six) (1.16.0)\n",
      "Requirement already satisfied: pycparser in c:\\users\\katul\\anaconda3\\lib\\site-packages (from cffi>=1.12->cryptography>=36.0.0->pdfminer.six) (2.21)\n",
      "Downloading pdfminer.six-20240706-py3-none-any.whl (5.6 MB)\n",
      "   ---------------------------------------- 0.0/5.6 MB ? eta -:--:--\n",
      "   ---------------------------------------- 0.0/5.6 MB ? eta -:--:--\n",
      "   ---------------------------------------- 0.0/5.6 MB ? eta -:--:--\n",
      "   ---------------------------------------- 0.0/5.6 MB 495.5 kB/s eta 0:00:12\n",
      "    --------------------------------------- 0.1/5.6 MB 901.1 kB/s eta 0:00:07\n",
      "   - -------------------------------------- 0.2/5.6 MB 1.3 MB/s eta 0:00:05\n",
      "   -- ------------------------------------- 0.4/5.6 MB 1.6 MB/s eta 0:00:04\n",
      "   --- ------------------------------------ 0.5/5.6 MB 1.9 MB/s eta 0:00:03\n",
      "   ---- ----------------------------------- 0.7/5.6 MB 2.1 MB/s eta 0:00:03\n",
      "   ----- ---------------------------------- 0.8/5.6 MB 2.2 MB/s eta 0:00:03\n",
      "   ------ --------------------------------- 1.0/5.6 MB 2.3 MB/s eta 0:00:03\n",
      "   -------- ------------------------------- 1.1/5.6 MB 2.5 MB/s eta 0:00:02\n",
      "   --------- ------------------------------ 1.3/5.6 MB 2.5 MB/s eta 0:00:02\n",
      "   ---------- ----------------------------- 1.4/5.6 MB 2.6 MB/s eta 0:00:02\n",
      "   ----------- ---------------------------- 1.6/5.6 MB 2.7 MB/s eta 0:00:02\n",
      "   ------------ --------------------------- 1.8/5.6 MB 2.7 MB/s eta 0:00:02\n",
      "   ------------- -------------------------- 1.9/5.6 MB 2.8 MB/s eta 0:00:02\n",
      "   -------------- ------------------------- 2.0/5.6 MB 2.7 MB/s eta 0:00:02\n",
      "   --------------- ------------------------ 2.1/5.6 MB 2.7 MB/s eta 0:00:02\n",
      "   ---------------- ----------------------- 2.3/5.6 MB 2.8 MB/s eta 0:00:02\n",
      "   ----------------- ---------------------- 2.5/5.6 MB 2.8 MB/s eta 0:00:02\n",
      "   ------------------ --------------------- 2.6/5.6 MB 2.8 MB/s eta 0:00:02\n",
      "   ------------------- -------------------- 2.8/5.6 MB 2.9 MB/s eta 0:00:01\n",
      "   --------------------- ------------------ 3.0/5.6 MB 2.9 MB/s eta 0:00:01\n",
      "   ---------------------- ----------------- 3.1/5.6 MB 2.9 MB/s eta 0:00:01\n",
      "   ----------------------- ---------------- 3.3/5.6 MB 3.0 MB/s eta 0:00:01\n",
      "   ------------------------ --------------- 3.5/5.6 MB 3.0 MB/s eta 0:00:01\n",
      "   ------------------------- -------------- 3.5/5.6 MB 2.9 MB/s eta 0:00:01\n",
      "   ------------------------- -------------- 3.6/5.6 MB 2.9 MB/s eta 0:00:01\n",
      "   --------------------------- ------------ 3.8/5.6 MB 2.9 MB/s eta 0:00:01\n",
      "   ---------------------------- ----------- 4.0/5.6 MB 3.0 MB/s eta 0:00:01\n",
      "   ------------------------------ --------- 4.2/5.6 MB 3.0 MB/s eta 0:00:01\n",
      "   ------------------------------- -------- 4.4/5.6 MB 3.0 MB/s eta 0:00:01\n",
      "   ------------------------------- -------- 4.4/5.6 MB 3.0 MB/s eta 0:00:01\n",
      "   -------------------------------- ------- 4.5/5.6 MB 2.9 MB/s eta 0:00:01\n",
      "   -------------------------------- ------- 4.6/5.6 MB 2.9 MB/s eta 0:00:01\n",
      "   ---------------------------------- ----- 4.8/5.6 MB 2.9 MB/s eta 0:00:01\n",
      "   ----------------------------------- ---- 5.0/5.6 MB 2.9 MB/s eta 0:00:01\n",
      "   ------------------------------------ --- 5.2/5.6 MB 3.0 MB/s eta 0:00:01\n",
      "   ------------------------------------- -- 5.3/5.6 MB 3.0 MB/s eta 0:00:01\n",
      "   ---------------------------------------  5.5/5.6 MB 3.0 MB/s eta 0:00:01\n",
      "   ---------------------------------------  5.6/5.6 MB 3.0 MB/s eta 0:00:01\n",
      "   ---------------------------------------- 5.6/5.6 MB 2.9 MB/s eta 0:00:00\n",
      "Installing collected packages: pdfminer.six\n",
      "Successfully installed pdfminer.six-20240706\n",
      "Note: you may need to restart the kernel to use updated packages.\n"
     ]
    }
   ],
   "source": [
    "pip install pdfminer.six "
   ]
  },
  {
   "cell_type": "code",
   "execution_count": 4,
   "id": "6903a4a7-9b77-4462-a511-3f398be157eb",
   "metadata": {},
   "outputs": [],
   "source": [
    "from pdfminer.high_level import extract_text"
   ]
  },
  {
   "cell_type": "code",
   "execution_count": 6,
   "id": "ccb12cdd-e5a5-4da4-900d-ab92b3618cae",
   "metadata": {},
   "outputs": [
    {
     "ename": "FileNotFoundError",
     "evalue": "[Errno 2] No such file or directory: 'Joe_Root.pdf'",
     "output_type": "error",
     "traceback": [
      "\u001b[1;31m---------------------------------------------------------------------------\u001b[0m",
      "\u001b[1;31mFileNotFoundError\u001b[0m                         Traceback (most recent call last)",
      "Cell \u001b[1;32mIn[6], line 1\u001b[0m\n\u001b[1;32m----> 1\u001b[0m text\u001b[38;5;241m=\u001b[39mextract_text(\u001b[38;5;124m'\u001b[39m\u001b[38;5;124mJoe_Root.pdf\u001b[39m\u001b[38;5;124m'\u001b[39m)\n",
      "File \u001b[1;32m~\\anaconda3\\Lib\\site-packages\\pdfminer\\high_level.py:163\u001b[0m, in \u001b[0;36mextract_text\u001b[1;34m(pdf_file, password, page_numbers, maxpages, caching, codec, laparams)\u001b[0m\n\u001b[0;32m    160\u001b[0m \u001b[38;5;28;01mif\u001b[39;00m laparams \u001b[38;5;129;01mis\u001b[39;00m \u001b[38;5;28;01mNone\u001b[39;00m:\n\u001b[0;32m    161\u001b[0m     laparams \u001b[38;5;241m=\u001b[39m LAParams()\n\u001b[1;32m--> 163\u001b[0m \u001b[38;5;28;01mwith\u001b[39;00m open_filename(pdf_file, \u001b[38;5;124m\"\u001b[39m\u001b[38;5;124mrb\u001b[39m\u001b[38;5;124m\"\u001b[39m) \u001b[38;5;28;01mas\u001b[39;00m fp, StringIO() \u001b[38;5;28;01mas\u001b[39;00m output_string:\n\u001b[0;32m    164\u001b[0m     fp \u001b[38;5;241m=\u001b[39m cast(BinaryIO, fp)  \u001b[38;5;66;03m# we opened in binary mode\u001b[39;00m\n\u001b[0;32m    165\u001b[0m     rsrcmgr \u001b[38;5;241m=\u001b[39m PDFResourceManager(caching\u001b[38;5;241m=\u001b[39mcaching)\n",
      "File \u001b[1;32m~\\anaconda3\\Lib\\site-packages\\pdfminer\\utils.py:55\u001b[0m, in \u001b[0;36mopen_filename.__init__\u001b[1;34m(self, filename, *args, **kwargs)\u001b[0m\n\u001b[0;32m     53\u001b[0m     filename \u001b[38;5;241m=\u001b[39m \u001b[38;5;28mstr\u001b[39m(filename)\n\u001b[0;32m     54\u001b[0m \u001b[38;5;28;01mif\u001b[39;00m \u001b[38;5;28misinstance\u001b[39m(filename, \u001b[38;5;28mstr\u001b[39m):\n\u001b[1;32m---> 55\u001b[0m     \u001b[38;5;28mself\u001b[39m\u001b[38;5;241m.\u001b[39mfile_handler: AnyIO \u001b[38;5;241m=\u001b[39m \u001b[38;5;28mopen\u001b[39m(filename, \u001b[38;5;241m*\u001b[39margs, \u001b[38;5;241m*\u001b[39m\u001b[38;5;241m*\u001b[39mkwargs)\n\u001b[0;32m     56\u001b[0m     \u001b[38;5;28mself\u001b[39m\u001b[38;5;241m.\u001b[39mclosing \u001b[38;5;241m=\u001b[39m \u001b[38;5;28;01mTrue\u001b[39;00m\n\u001b[0;32m     57\u001b[0m \u001b[38;5;28;01melif\u001b[39;00m \u001b[38;5;28misinstance\u001b[39m(filename, io\u001b[38;5;241m.\u001b[39mIOBase):\n",
      "\u001b[1;31mFileNotFoundError\u001b[0m: [Errno 2] No such file or directory: 'Joe_Root.pdf'"
     ]
    }
   ],
   "source": [
    "text=extract_text('Joe_Root.pdf')"
   ]
  },
  {
   "cell_type": "code",
   "execution_count": null,
   "id": "33549a05-9a32-4e3a-8a4f-3ea4eefabd7c",
   "metadata": {},
   "outputs": [],
   "source": []
  },
  {
   "cell_type": "code",
   "execution_count": null,
   "id": "f35c754f-9ed3-46a5-b7b8-c632bdab4173",
   "metadata": {},
   "outputs": [],
   "source": []
  },
  {
   "cell_type": "code",
   "execution_count": null,
   "id": "7604c793-acd6-4384-9767-978accef81b2",
   "metadata": {},
   "outputs": [],
   "source": []
  },
  {
   "cell_type": "code",
   "execution_count": null,
   "id": "ea9264c6-c3f8-4c4d-98ea-080c276a9159",
   "metadata": {},
   "outputs": [],
   "source": []
  },
  {
   "cell_type": "code",
   "execution_count": null,
   "id": "60dc064e-61f6-4c35-a65e-6426855073f8",
   "metadata": {},
   "outputs": [],
   "source": []
  },
  {
   "cell_type": "code",
   "execution_count": null,
   "id": "a7b64a55-f403-4e1c-8098-c2a5a605f433",
   "metadata": {},
   "outputs": [],
   "source": []
  },
  {
   "cell_type": "code",
   "execution_count": null,
   "id": "8f9789c6-bfbd-4904-a27e-2b9b0affbb88",
   "metadata": {},
   "outputs": [],
   "source": []
  }
 ],
 "metadata": {
  "kernelspec": {
   "display_name": "Python 3 (ipykernel)",
   "language": "python",
   "name": "python3"
  },
  "language_info": {
   "codemirror_mode": {
    "name": "ipython",
    "version": 3
   },
   "file_extension": ".py",
   "mimetype": "text/x-python",
   "name": "python",
   "nbconvert_exporter": "python",
   "pygments_lexer": "ipython3",
   "version": "3.12.4"
  }
 },
 "nbformat": 4,
 "nbformat_minor": 5
}
