{
 "cells": [
  {
   "cell_type": "code",
   "execution_count": 1,
   "id": "49482050",
   "metadata": {},
   "outputs": [
    {
     "name": "stdout",
     "output_type": "stream",
     "text": [
      "Requirement already satisfied: pandas in c:\\users\\katul\\anaconda3\\lib\\site-packages (2.1.4)\n",
      "Requirement already satisfied: numpy<2,>=1.23.2 in c:\\users\\katul\\anaconda3\\lib\\site-packages (from pandas) (1.26.4)\n",
      "Requirement already satisfied: python-dateutil>=2.8.2 in c:\\users\\katul\\anaconda3\\lib\\site-packages (from pandas) (2.8.2)\n",
      "Requirement already satisfied: pytz>=2020.1 in c:\\users\\katul\\anaconda3\\lib\\site-packages (from pandas) (2023.3.post1)\n",
      "Requirement already satisfied: tzdata>=2022.1 in c:\\users\\katul\\anaconda3\\lib\\site-packages (from pandas) (2023.3)\n",
      "Requirement already satisfied: six>=1.5 in c:\\users\\katul\\anaconda3\\lib\\site-packages (from python-dateutil>=2.8.2->pandas) (1.16.0)\n",
      "Note: you may need to restart the kernel to use updated packages.\n"
     ]
    }
   ],
   "source": [
    "pip install pandas"
   ]
  },
  {
   "cell_type": "code",
   "execution_count": 3,
   "id": "9764e2fa",
   "metadata": {},
   "outputs": [],
   "source": [
    "import numpy as np\n",
    "import pandas as pd\n",
    "import seaborn as sns\n",
    "import matplotlib.pyplot as plt"
   ]
  },
  {
   "cell_type": "code",
   "execution_count": 9,
   "id": "d7c18594",
   "metadata": {},
   "outputs": [],
   "source": [
    "data = {\n",
    "    'Name': ['Abheshik', 'Bobby', 'David', 'Kapil', 'mohit', 'Sumit'],\n",
    "    'Age': [35, 40, 55, 60, 45, 65],\n",
    "    'City': ['New Delhi', 'Faridabad', 'Agra', 'Jewar', 'Kolkata', 'Mumbai']\n",
    "}\n",
    "\n",
    "\n",
    "df = pd.DataFrame(data)\n"
   ]
  },
  {
   "cell_type": "code",
   "execution_count": 11,
   "id": "b74d530b",
   "metadata": {},
   "outputs": [],
   "source": [
    "df_unique = df.drop_duplicates()\n"
   ]
  },
  {
   "cell_type": "code",
   "execution_count": 12,
   "id": "86193e0e",
   "metadata": {},
   "outputs": [],
   "source": [
    "df_unique = df.drop_duplicates(subset=['Name', 'Age'])\n"
   ]
  },
  {
   "cell_type": "code",
   "execution_count": 13,
   "id": "46652f43",
   "metadata": {},
   "outputs": [],
   "source": [
    "df_unique = df.drop_duplicates(keep='last')\n"
   ]
  },
  {
   "cell_type": "code",
   "execution_count": 14,
   "id": "a70c52e2",
   "metadata": {},
   "outputs": [],
   "source": [
    "df.drop_duplicates(inplace=True)\n"
   ]
  },
  {
   "cell_type": "code",
   "execution_count": 15,
   "id": "fff34560",
   "metadata": {},
   "outputs": [
    {
     "name": "stdout",
     "output_type": "stream",
     "text": [
      "       Name  Age       City\n",
      "0  Abheshik   35  New Delhi\n",
      "1     Bobby   40  Faridabad\n",
      "2     David   55       Agra\n",
      "3     Kapil   60      Jewar\n",
      "4     mohit   45    Kolkata\n",
      "5     Sumit   65     Mumbai\n"
     ]
    }
   ],
   "source": [
    "print(df_unique)\n"
   ]
  },
  {
   "cell_type": "code",
   "execution_count": 16,
   "id": "78005ae1",
   "metadata": {},
   "outputs": [
    {
     "name": "stdout",
     "output_type": "stream",
     "text": [
      "Original DataFrame:\n",
      "        Name  Age       City\n",
      "0  Abheshik   35  New Delhi\n",
      "1     Bobby   40  Faridabad\n",
      "2     David   55       Agra\n",
      "3     Kapil   60      Jewar\n",
      "4     mohit   45    Kolkata\n",
      "5     Sumit   65     Mumbai\n",
      "Unique DataFrame:\n",
      "        Name  Age       City\n",
      "0  Abheshik   35  New Delhi\n",
      "1     Bobby   40  Faridabad\n",
      "2     David   55       Agra\n",
      "3     Kapil   60      Jewar\n",
      "4     mohit   45    Kolkata\n",
      "5     Sumit   65     Mumbai\n"
     ]
    },
    {
     "ename": "NameError",
     "evalue": "name 'df_unique_subset' is not defined",
     "output_type": "error",
     "traceback": [
      "\u001b[1;31m---------------------------------------------------------------------------\u001b[0m",
      "\u001b[1;31mNameError\u001b[0m                                 Traceback (most recent call last)",
      "Cell \u001b[1;32mIn[16], line 22\u001b[0m\n\u001b[0;32m     20\u001b[0m \u001b[38;5;28mprint\u001b[39m(\u001b[38;5;124m\"\u001b[39m\u001b[38;5;124mOriginal DataFrame:\u001b[39m\u001b[38;5;130;01m\\n\u001b[39;00m\u001b[38;5;124m\"\u001b[39m, df)\n\u001b[0;32m     21\u001b[0m \u001b[38;5;28mprint\u001b[39m(\u001b[38;5;124m\"\u001b[39m\u001b[38;5;124mUnique DataFrame:\u001b[39m\u001b[38;5;130;01m\\n\u001b[39;00m\u001b[38;5;124m\"\u001b[39m, df_unique)\n\u001b[1;32m---> 22\u001b[0m \u001b[38;5;28mprint\u001b[39m(\u001b[38;5;124m\"\u001b[39m\u001b[38;5;124mUnique DataFrame (subset):\u001b[39m\u001b[38;5;130;01m\\n\u001b[39;00m\u001b[38;5;124m\"\u001b[39m, df_unique_subset)\n\u001b[0;32m     23\u001b[0m \u001b[38;5;28mprint\u001b[39m(\u001b[38;5;124m\"\u001b[39m\u001b[38;5;124mUnique DataFrame (keep last):\u001b[39m\u001b[38;5;130;01m\\n\u001b[39;00m\u001b[38;5;124m\"\u001b[39m, df_unique_last)\n",
      "\u001b[1;31mNameError\u001b[0m: name 'df_unique_subset' is not defined"
     ]
    }
   ],
   "source": [
    "data = {\n",
    "    'Name': ['Abheshik', 'Bobby', 'David', 'Kapil', 'mohit', 'Sumit'],\n",
    "    'Age': [35, 40, 55, 60, 45, 65],\n",
    "    'City': ['New Delhi', 'Faridabad', 'Agra', 'Jewar', 'Kolkata', 'Mumbai']\n",
    "}\n",
    "\n",
    "\n",
    "df = pd.DataFrame(data)\n",
    "\n",
    "\n",
    "df_unique = df.drop_duplicates()\n",
    "\n",
    "df_unique = df.drop_duplicates(subset=['Name', 'Age'])\n",
    "\n",
    "df_unique = df.drop_duplicates(keep='last')\n",
    "\n",
    "df.drop_duplicates(inplace=True)\n",
    "\n",
    "\n",
    "print(\"Original DataFrame:\\n\", df)\n",
    "print(\"Unique DataFrame:\\n\", df_unique)\n",
    "print(\"Unique DataFrame (subset):\\n\", df_unique_subset)\n",
    "print(\"Unique DataFrame (keep last):\\n\", df_unique_last)"
   ]
  },
  {
   "cell_type": "code",
   "execution_count": null,
   "id": "300836ce",
   "metadata": {},
   "outputs": [],
   "source": []
  },
  {
   "cell_type": "code",
   "execution_count": null,
   "id": "7fd3dfda",
   "metadata": {},
   "outputs": [],
   "source": []
  }
 ],
 "metadata": {
  "kernelspec": {
   "display_name": "Python 3 (ipykernel)",
   "language": "python",
   "name": "python3"
  },
  "language_info": {
   "codemirror_mode": {
    "name": "ipython",
    "version": 3
   },
   "file_extension": ".py",
   "mimetype": "text/x-python",
   "name": "python",
   "nbconvert_exporter": "python",
   "pygments_lexer": "ipython3",
   "version": "3.11.7"
  }
 },
 "nbformat": 4,
 "nbformat_minor": 5
}
