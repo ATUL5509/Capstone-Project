{
  "nbformat": 4,
  "nbformat_minor": 0,
  "metadata": {
    "colab": {
      "provenance": [],
      "authorship_tag": "ABX9TyNTW7likDEvF7vjpId+85/x",
      "include_colab_link": true
    },
    "kernelspec": {
      "name": "python3",
      "display_name": "Python 3"
    },
    "language_info": {
      "name": "python"
    }
  },
  "cells": [
    {
      "cell_type": "markdown",
      "metadata": {
        "id": "view-in-github",
        "colab_type": "text"
      },
      "source": [
        "<a href=\"https://colab.research.google.com/github/ATUL5509/Capstone-Project/blob/main/Untitled9.ipynb\" target=\"_parent\"><img src=\"https://colab.research.google.com/assets/colab-badge.svg\" alt=\"Open In Colab\"/></a>"
      ]
    },
    {
      "cell_type": "code",
      "execution_count": 1,
      "metadata": {
        "id": "HWB7C0kUTAfJ"
      },
      "outputs": [],
      "source": [
        "import sklearn\n",
        "from sklearn.metrics import mean_absolute_percentage_error\n",
        "from sklearn.metrics import mean_absolute_error\n",
        "from sklearn.metrics import mean_squared_error\n",
        "import numpy as np"
      ]
    },
    {
      "cell_type": "code",
      "source": [
        "y_actual = [100,200,300,150,250,80,350,280,140]\n",
        "y_pred = [132.5,150,165.5,200,250.5,230.5,290.5,350,145]"
      ],
      "metadata": {
        "id": "Hg5HjbWFTDK0"
      },
      "execution_count": 2,
      "outputs": []
    },
    {
      "cell_type": "code",
      "source": [
        "error = [y_actual[i] - y_pred[i] for i in range(len(y_actual))]\n",
        "error"
      ],
      "metadata": {
        "colab": {
          "base_uri": "https://localhost:8080/"
        },
        "id": "UElfEyw0TIim",
        "outputId": "de933955-e45b-489c-d8e1-4928931bc6bf"
      },
      "execution_count": 5,
      "outputs": [
        {
          "output_type": "execute_result",
          "data": {
            "text/plain": [
              "[-32.5, 50, 134.5, -50, -0.5, -150.5, 59.5, -70, -5]"
            ]
          },
          "metadata": {},
          "execution_count": 5
        }
      ]
    },
    {
      "cell_type": "code",
      "source": [],
      "metadata": {
        "id": "vIDGoURyTKpC"
      },
      "execution_count": 6,
      "outputs": []
    },
    {
      "cell_type": "markdown",
      "source": [
        "MAPE\n"
      ],
      "metadata": {
        "id": "eF4sjE1HT4MC"
      }
    },
    {
      "cell_type": "code",
      "source": [
        "percentage_error = [error[i]/y_actual[i] for i in range(len(y_actual))]\n",
        "percentage_error"
      ],
      "metadata": {
        "colab": {
          "base_uri": "https://localhost:8080/"
        },
        "id": "jfn8EevaTtJP",
        "outputId": "a927bc97-3006-4ab1-b83f-a883446c4748"
      },
      "execution_count": 8,
      "outputs": [
        {
          "output_type": "execute_result",
          "data": {
            "text/plain": [
              "[-0.325,\n",
              " 0.25,\n",
              " 0.4483333333333333,\n",
              " -0.3333333333333333,\n",
              " -0.002,\n",
              " -1.88125,\n",
              " 0.17,\n",
              " -0.25,\n",
              " -0.03571428571428571]"
            ]
          },
          "metadata": {},
          "execution_count": 8
        }
      ]
    },
    {
      "cell_type": "code",
      "source": [
        "abs_per_error = np.abs(percentage_error)\n",
        "abs_per_error"
      ],
      "metadata": {
        "colab": {
          "base_uri": "https://localhost:8080/"
        },
        "id": "n_3xtYMnTX7A",
        "outputId": "c074d12c-972c-4871-dcd0-e535eb65ab26"
      },
      "execution_count": 10,
      "outputs": [
        {
          "output_type": "execute_result",
          "data": {
            "text/plain": [
              "array([0.325     , 0.25      , 0.44833333, 0.33333333, 0.002     ,\n",
              "       1.88125   , 0.17      , 0.25      , 0.03571429])"
            ]
          },
          "metadata": {},
          "execution_count": 10
        }
      ]
    },
    {
      "cell_type": "code",
      "source": [
        "mape = np.mean(abs_per_error)\n",
        "mape"
      ],
      "metadata": {
        "colab": {
          "base_uri": "https://localhost:8080/"
        },
        "id": "bE9fYApUU3eR",
        "outputId": "45c7f333-e910-4df2-ed2f-6f23328c943a"
      },
      "execution_count": 13,
      "outputs": [
        {
          "output_type": "execute_result",
          "data": {
            "text/plain": [
              "0.41062566137566137"
            ]
          },
          "metadata": {},
          "execution_count": 13
        }
      ]
    },
    {
      "cell_type": "code",
      "source": [
        "mse = np.mean(squared_error)\n",
        "mse"
      ],
      "metadata": {
        "colab": {
          "base_uri": "https://localhost:8080/"
        },
        "id": "JYV8gUObXR9g",
        "outputId": "5d93cb5e-12b9-4639-82e3-5eb87b656dd8"
      },
      "execution_count": 22,
      "outputs": [
        {
          "output_type": "execute_result",
          "data": {
            "text/plain": [
              "6140.25"
            ]
          },
          "metadata": {},
          "execution_count": 22
        }
      ]
    },
    {
      "cell_type": "markdown",
      "source": [
        "***MSE***"
      ],
      "metadata": {
        "id": "IFy9vbNHVgiA"
      }
    },
    {
      "cell_type": "code",
      "source": [
        "squared_error = np.square(error)\n",
        "squared_error"
      ],
      "metadata": {
        "colab": {
          "base_uri": "https://localhost:8080/"
        },
        "id": "RaWObsjaVCAT",
        "outputId": "1403e7ea-396b-4de1-bf79-4e688cc645c8"
      },
      "execution_count": 16,
      "outputs": [
        {
          "output_type": "execute_result",
          "data": {
            "text/plain": [
              "array([1.056250e+03, 2.500000e+03, 1.809025e+04, 2.500000e+03,\n",
              "       2.500000e-01, 2.265025e+04, 3.540250e+03, 4.900000e+03,\n",
              "       2.500000e+01])"
            ]
          },
          "metadata": {},
          "execution_count": 16
        }
      ]
    },
    {
      "cell_type": "code",
      "source": [
        "abs_error = np.abs(error)\n",
        "abs_error"
      ],
      "metadata": {
        "colab": {
          "base_uri": "https://localhost:8080/"
        },
        "id": "ZA8fiPaDV1gP",
        "outputId": "c3326e7e-6123-4f7d-ab2e-f6a6a225d588"
      },
      "execution_count": 17,
      "outputs": [
        {
          "output_type": "execute_result",
          "data": {
            "text/plain": [
              "array([ 32.5,  50. , 134.5,  50. ,   0.5, 150.5,  59.5,  70. ,   5. ])"
            ]
          },
          "metadata": {},
          "execution_count": 17
        }
      ]
    },
    {
      "cell_type": "code",
      "source": [
        "mae = np.mean(abs_error)\n",
        "mae"
      ],
      "metadata": {
        "colab": {
          "base_uri": "https://localhost:8080/"
        },
        "id": "ZGXDu1g_WUHR",
        "outputId": "2338335c-7262-4063-afe0-1d1ec4b7f687"
      },
      "execution_count": 18,
      "outputs": [
        {
          "output_type": "execute_result",
          "data": {
            "text/plain": [
              "61.388888888888886"
            ]
          },
          "metadata": {},
          "execution_count": 18
        }
      ]
    },
    {
      "cell_type": "markdown",
      "source": [
        "***RMSE***"
      ],
      "metadata": {
        "id": "iRNaqHBWW5QN"
      }
    },
    {
      "cell_type": "code",
      "source": [
        "rmse = np.sqrt(mse)\n",
        "rmse"
      ],
      "metadata": {
        "colab": {
          "base_uri": "https://localhost:8080/"
        },
        "id": "rHlnBhqmWfKL",
        "outputId": "6d0dd2e9-c2bc-461c-d87e-35d747c84260"
      },
      "execution_count": 23,
      "outputs": [
        {
          "output_type": "execute_result",
          "data": {
            "text/plain": [
              "78.35974731965386"
            ]
          },
          "metadata": {},
          "execution_count": 23
        }
      ]
    },
    {
      "cell_type": "code",
      "source": [
        "final_metrics = {'MAPE': mape, 'MSE': mse, 'RMSE': rmse, 'MAE': mae}\n",
        "final_metrics"
      ],
      "metadata": {
        "colab": {
          "base_uri": "https://localhost:8080/"
        },
        "id": "FpEPgalcWwWY",
        "outputId": "0d4bb4d8-c764-44a2-e073-011c52cc9879"
      },
      "execution_count": 24,
      "outputs": [
        {
          "output_type": "execute_result",
          "data": {
            "text/plain": [
              "{'MAPE': 0.41062566137566137,\n",
              " 'MSE': 6140.25,\n",
              " 'RMSE': 78.35974731965386,\n",
              " 'MAE': 61.388888888888886}"
            ]
          },
          "metadata": {},
          "execution_count": 24
        }
      ]
    },
    {
      "cell_type": "code",
      "source": [
        "print(\"mape: \",mean_absolute_percentage_error(y_true = y_actual, y_pred= y_pred))\n",
        "print(\"mae: \",mean_absolute_error(y_true = y_actual, y_pred= y_pred))\n",
        "print(\"mse: \",mean_squared_error(y_true = y_actual, y_pred= y_pred))\n",
        "print(\"rmse: \",np.sqrt(mean_squared_error(y_true = y_actual, y_pred= y_pred)))"
      ],
      "metadata": {
        "colab": {
          "base_uri": "https://localhost:8080/"
        },
        "id": "AG-6BWIqYIWk",
        "outputId": "78472b13-c2c2-403a-fb9a-f79e5383d3a3"
      },
      "execution_count": 25,
      "outputs": [
        {
          "output_type": "stream",
          "name": "stdout",
          "text": [
            "mape:  0.41062566137566137\n",
            "mae:  61.388888888888886\n",
            "mse:  6140.25\n",
            "rmse:  78.35974731965386\n"
          ]
        }
      ]
    },
    {
      "cell_type": "code",
      "source": [
        "import sklearn.metrics as skl_metrics"
      ],
      "metadata": {
        "id": "hNsX2w20YPa7"
      },
      "execution_count": 26,
      "outputs": []
    },
    {
      "cell_type": "code",
      "source": [
        "skl_metrics.mean_absolute_percentage_error(y_true=y_actual, y_pred=y_pred)\n"
      ],
      "metadata": {
        "colab": {
          "base_uri": "https://localhost:8080/"
        },
        "id": "MzqIO2cAYTx7",
        "outputId": "667453a6-fca7-41a8-eb02-ce6901c827a0"
      },
      "execution_count": 27,
      "outputs": [
        {
          "output_type": "execute_result",
          "data": {
            "text/plain": [
              "0.41062566137566137"
            ]
          },
          "metadata": {},
          "execution_count": 27
        }
      ]
    },
    {
      "cell_type": "code",
      "source": [
        "np.sqrt(skl_metrics.mean_squared_error(y_true=y_actual, y_pred=y_pred))"
      ],
      "metadata": {
        "colab": {
          "base_uri": "https://localhost:8080/"
        },
        "id": "xo-8asmvYVwV",
        "outputId": "5b173b3c-b8cf-484d-cf22-23b0bc51886e"
      },
      "execution_count": 28,
      "outputs": [
        {
          "output_type": "execute_result",
          "data": {
            "text/plain": [
              "78.35974731965386"
            ]
          },
          "metadata": {},
          "execution_count": 28
        }
      ]
    },
    {
      "cell_type": "code",
      "source": [],
      "metadata": {
        "id": "Zi5NNhqHYYNX"
      },
      "execution_count": null,
      "outputs": []
    }
  ]
}