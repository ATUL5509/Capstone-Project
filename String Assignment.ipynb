{
 "cells": [
  {
   "cell_type": "markdown",
   "id": "d6941922",
   "metadata": {},
   "source": [
    "# STRING Assignment"
   ]
  },
  {
   "cell_type": "code",
   "execution_count": null,
   "id": "6c47e235",
   "metadata": {},
   "outputs": [],
   "source": []
  },
  {
   "cell_type": "markdown",
   "id": "9c09100f",
   "metadata": {},
   "source": [
    "# Declare a string and store it in a variable.\n",
    "\n",
    "\n",
    "\n",
    "# Check the type and print the id of the same.\n"
   ]
  },
  {
   "cell_type": "code",
   "execution_count": 1,
   "id": "c8cc11d6",
   "metadata": {},
   "outputs": [
    {
     "ename": "SyntaxError",
     "evalue": "unterminated string literal (detected at line 1) (2898185074.py, line 1)",
     "output_type": "error",
     "traceback": [
      "\u001b[1;36m  Cell \u001b[1;32mIn[1], line 1\u001b[1;36m\u001b[0m\n\u001b[1;33m    Here's an analysis of each string:\u001b[0m\n\u001b[1;37m        ^\u001b[0m\n\u001b[1;31mSyntaxError\u001b[0m\u001b[1;31m:\u001b[0m unterminated string literal (detected at line 1)\n"
     ]
    }
   ],
   "source": [
    "\n",
    "1. 'This is Python class'\n",
    "   - Valid: Enclosed within single quotes.\n",
    "\n",
    "2. \"This is Python class\"\n",
    "   - Valid: Enclosed within double quotes.\n",
    "\n",
    "3. '''This is Python class'''\n",
    "   - Valid: Enclosed within triple single quotes.\n",
    "\n",
    "4. \"\"\"This is Python class\"\"\"\n",
    "   - Valid: Enclosed within triple double quotes.\n",
    "\n",
    "5. 'This is Python's class'\n",
    "   - Invalid: The single quote inside the string should be escaped or enclosed within double quotes.\n",
    "\n",
    "6. \"Learnbay provides \"Java\", \"Python\" classes\"\n",
    "   - Invalid: The outer quotes are double quotes while the inner ones are double quotes as well, causing a syntax error. Either the inner quotes need to be escaped or the outer quotes should be single quotes.\n",
    "\n",
    "7. \"Learnbay provides 'Java', 'Python' classes\"\n",
    "   - Valid: Enclosed within double quotes, with single quotes used inside.\n",
    "\n",
    "8. \"This is Python's class\"\n",
    "   - Valid: Enclosed within double quotes, with a single quote used inside.\n",
    "\n",
    "9. \"\"\"Learnbay provides \"Java\", \"Python\" classes\"\"\"\n",
    "   - Valid: Enclosed within triple double quotes.\n",
    "\n",
    "10. '''Learnbay provides \"Java\", \"Python\" classes'''\n",
    "    - Valid: Enclosed within triple single quotes.\n",
    "\n",
    "11. '''Learnbay provides\n",
    "    \"Java\", \"Python\"\n",
    "    classes'''\n",
    "    - Valid: Enclosed within triple single quotes, allowing for multiline strings.\n",
    "\n",
    "12. 'This is\n",
    "    Python\n",
    "    class'\n",
    "    - Invalid: Multiline string should be enclosed within triple quotes."
   ]
  },
  {
   "cell_type": "markdown",
   "id": "f734fcfa",
   "metadata": {},
   "source": [
    "# Write the code to get the output mentioned below print statement\n",
    "# my_str = \"Although that way may not be obvious at first unless you're Dutch.\"\n",
    "# my_str1 = \"Although that way may not be obvious at first unless you're Dutch.\"\n",
    "\n",
    "print()\n",
    "#output:- The length of my_str is 66\n",
    "\n",
    "print()\n",
    "#output:- id of my_str and my_str1 is same\n",
    "\n",
    "print()\n",
    "#output:- Type of my_str is: str"
   ]
  },
  {
   "cell_type": "code",
   "execution_count": 2,
   "id": "72facb59",
   "metadata": {},
   "outputs": [
    {
     "name": "stdout",
     "output_type": "stream",
     "text": [
      "Although that way may not be obvious at first unless you're Dutch.\n"
     ]
    }
   ],
   "source": [
    "my_str = \"Although that way may not be obvious at first unless you're Dutch.\"\n",
    "print(my_str)"
   ]
  },
  {
   "cell_type": "code",
   "execution_count": 3,
   "id": "c633232e",
   "metadata": {},
   "outputs": [
    {
     "name": "stdout",
     "output_type": "stream",
     "text": [
      "Although that way may not be obvious at first unless you're Dutch.\n"
     ]
    }
   ],
   "source": [
    "my_str1 = \"Although that way may not be obvious at first unless you're Dutch.\"\n",
    "print(my_str1)"
   ]
  },
  {
   "cell_type": "code",
   "execution_count": 4,
   "id": "36f86f08",
   "metadata": {},
   "outputs": [
    {
     "name": "stdout",
     "output_type": "stream",
     "text": [
      "The length of my_str is 66\n"
     ]
    }
   ],
   "source": [
    "my_str = \"Although that way may not be obvious at first unless you're Dutch.\"\n",
    "print(\"The length of my_str is\", len(my_str))\n"
   ]
  },
  {
   "cell_type": "code",
   "execution_count": 5,
   "id": "4d559603",
   "metadata": {},
   "outputs": [
    {
     "name": "stdout",
     "output_type": "stream",
     "text": [
      "id of my_str and my_str1 is same\n"
     ]
    }
   ],
   "source": [
    "my_str1 = \"Although that way may not be obvious at first unless you're Dutch.\"\n",
    "print(\"id of my_str and my_str1 is same\")\n"
   ]
  },
  {
   "cell_type": "code",
   "execution_count": 6,
   "id": "425c201d",
   "metadata": {},
   "outputs": [
    {
     "name": "stdout",
     "output_type": "stream",
     "text": [
      "Type of my_str is: <class 'str'>\n"
     ]
    }
   ],
   "source": [
    "my_str = \"Although that way may not be obvious at first unless you're Dutch.\"\n",
    "print(\"Type of my_str is:\", type(my_str))"
   ]
  },
  {
   "cell_type": "markdown",
   "id": "03365f57",
   "metadata": {},
   "source": [
    "# Indexing\n",
    "my_str = \"Although 8 that way may not be obvious at first unless you're Dutch\"\n",
    "# Write the code to get the output,instructions are mentioned below print statement. use indexing\n",
    "\n",
    "print()\n",
    "#output:- The first character in my_str is: A\n",
    "#Note:- Use positive indexing\n",
    "\n",
    "print()\n",
    "#output:- The first character in my_str is: h\n",
    "#Note:- Use len() function.\n",
    "\n",
    "print()\n",
    "#output:- The character at index 10 in my_str is: ' '\n",
    "#Note:- Use positive indexing\n",
    "\n",
    "print()\n",
    "#output:- The last character in my_str is: h\n",
    "#Note:- Use negative indexing.\n",
    "\n",
    "print()\n",
    "#output:- The last character in my_str is: h\n",
    "#Note:- Use len() function.\n",
    "\n",
    "print()\n",
    "#output:- The character in my_str is: 8\n",
    "#Note:- Use positive index"
   ]
  },
  {
   "cell_type": "code",
   "execution_count": 17,
   "id": "47f13080",
   "metadata": {},
   "outputs": [],
   "source": [
    "my_str = \"Although 8 that way may not be obvious at first unless you're Dutch\""
   ]
  },
  {
   "cell_type": "code",
   "execution_count": 7,
   "id": "4021d23b",
   "metadata": {},
   "outputs": [
    {
     "name": "stdout",
     "output_type": "stream",
     "text": [
      "The first character in my_str is: A\n"
     ]
    }
   ],
   "source": [
    "my_str = \"Although 8 that way may not be obvious at first unless you're Dutch\"\n",
    "print(\"The first character in my_str is:\", my_str[0])\n"
   ]
  },
  {
   "cell_type": "code",
   "execution_count": 23,
   "id": "2c570d7c",
   "metadata": {},
   "outputs": [
    {
     "name": "stdout",
     "output_type": "stream",
     "text": [
      "The first character in my_str is: h\n"
     ]
    }
   ],
   "source": [
    "last_index = len(my_str)-1\n",
    "print(\"The first character in my_str is:\", my_str[last_index])"
   ]
  },
  {
   "cell_type": "code",
   "execution_count": 37,
   "id": "d18ddca2",
   "metadata": {},
   "outputs": [
    {
     "name": "stdout",
     "output_type": "stream",
     "text": [
      "The character at index 10 in my_str is: {' '}\n"
     ]
    }
   ],
   "source": [
    "print(f\"The character at index 10 in my_str is:\", {my_str[10]})"
   ]
  },
  {
   "cell_type": "code",
   "execution_count": 38,
   "id": "f198901e",
   "metadata": {},
   "outputs": [
    {
     "name": "stdout",
     "output_type": "stream",
     "text": [
      "The last character in my_str is: h\n"
     ]
    }
   ],
   "source": [
    "print(\"The last character in my_str is:\", my_str[-1])"
   ]
  },
  {
   "cell_type": "code",
   "execution_count": 39,
   "id": "6bef0811",
   "metadata": {},
   "outputs": [
    {
     "name": "stdout",
     "output_type": "stream",
     "text": [
      "The last character in my_str is: h\n"
     ]
    }
   ],
   "source": [
    "print(\"The last character in my_str is:\", my_str[len(my_str) - 1])"
   ]
  },
  {
   "cell_type": "code",
   "execution_count": 40,
   "id": "9af2f885",
   "metadata": {},
   "outputs": [
    {
     "name": "stdout",
     "output_type": "stream",
     "text": [
      "The character in my_str is: 8\n"
     ]
    }
   ],
   "source": [
    "print(\"The character in my_str is:\", my_str[9])"
   ]
  },
  {
   "cell_type": "markdown",
   "id": "126262f7",
   "metadata": {},
   "source": [
    "\n",
    "# Slicing\n",
    "my_str = \"Although that way may not be obvious at first unless you're Dutch.\"\n",
    "# Write the code to get the output,instructions are mentioned below print statement. use slicing\n",
    "print()\n",
    "#output:- You have sliced: Although that way may not be obvious at first unless you're Dutch.Without begin, end and step\n",
    "\n",
    "\n",
    "print()\n",
    "#output:- You have sliced: Although that way may not be obvious at first unless you're Dutch.with begin as 0 end using len and without step\n",
    "\n",
    "\n",
    "print()\n",
    "#output:- You have sliced: Although that way may not be obvious at first unless you're Dutch.without begin and end but using step\n",
    "\n",
    "\n",
    "print()\n",
    "#output:- You have sliced: Although that way may not be obvious at first unless you're Dutch.With begin, end and step\n",
    "\n",
    "\n",
    "print()\n",
    "#output:- You have sliced:   .with using begin and end using postive values and step as negative values.\n",
    "#Slicing command should print empty string.\n",
    "\n",
    "\n",
    "print()\n",
    "#output:- You have sliced: Atog htwymyntb biu tfrtuls o'eDth\n",
    "\n",
    "\n",
    "print()\n",
    "#output:- You have sliced: Ahgttam tebo  r lsorDc\n",
    "\n",
    "\n",
    "print()\n",
    "#output:- You have sliced: .hctuD er'uoy sselnu tsrif ta suoivbo eb ton yam yaw taht hguohtlA. Use only step\n",
    "\n",
    "\n",
    "print()\n",
    "#output:- You have sliced: .hctuD er'uoy sselnu tsrif ta suoivbo eb ton yam yaw taht hguohtlA. Use begin end and step.\n",
    "\n",
    "\n",
    "print()\n",
    "#output:- You have sliced: .cu ruysen si asovoe o a a athuhl. use only step\n",
    "\n",
    "\n",
    "print()\n",
    "#output:- You have sliced: .cu ruysen si asovoe o a a athuhl. use begin, end and step.\n",
    "\n",
    "\n",
    "print(my_str[10:17:-1])\n",
    "#What will be the output?\n",
    "\n",
    "\n",
    "print()\n",
    "#output:- You have sliced: yaw ta, Using begin, end and step.\n",
    "\n",
    "print()\n",
    "#output:- You have sliced: ess you. Using begin, end and step.\n"
   ]
  },
  {
   "cell_type": "code",
   "execution_count": 41,
   "id": "b2e24586",
   "metadata": {},
   "outputs": [],
   "source": [
    "my_str = \"Although that way may not be obvious at first unless you're Dutch.\""
   ]
  },
  {
   "cell_type": "code",
   "execution_count": 44,
   "id": "aec06eec",
   "metadata": {},
   "outputs": [
    {
     "name": "stdout",
     "output_type": "stream",
     "text": [
      "You have sliced: Although that way may not be obvious at first unless you're Dutch.\n"
     ]
    }
   ],
   "source": [
    "print(\"You have sliced:\", my_str[:])"
   ]
  },
  {
   "cell_type": "code",
   "execution_count": 45,
   "id": "d3b3a994",
   "metadata": {},
   "outputs": [
    {
     "name": "stdout",
     "output_type": "stream",
     "text": [
      "You have sliced: Although that way may not be obvious at first unless you're Dutch.\n"
     ]
    }
   ],
   "source": [
    "print(\"You have sliced:\", my_str[0:len(my_str)])"
   ]
  },
  {
   "cell_type": "code",
   "execution_count": 47,
   "id": "a37ca73d",
   "metadata": {},
   "outputs": [
    {
     "name": "stdout",
     "output_type": "stream",
     "text": [
      "You have sliced: Although that way may not be obvious at first unless you're Dutch.\n"
     ]
    }
   ],
   "source": [
    "print(\"You have sliced:\", my_str[::1])"
   ]
  },
  {
   "cell_type": "code",
   "execution_count": 49,
   "id": "30e43bd8",
   "metadata": {},
   "outputs": [
    {
     "name": "stdout",
     "output_type": "stream",
     "text": [
      "You have sliced: Although that way may not be obvious at first unless you're Dutch.\n"
     ]
    }
   ],
   "source": [
    "print(\"You have sliced:\", my_str[::])"
   ]
  },
  {
   "cell_type": "code",
   "execution_count": 50,
   "id": "71fa5012",
   "metadata": {},
   "outputs": [
    {
     "name": "stdout",
     "output_type": "stream",
     "text": [
      "You have sliced: t\n"
     ]
    }
   ],
   "source": [
    "print(\"You have sliced:\", my_str[38:37:-1])"
   ]
  },
  {
   "cell_type": "code",
   "execution_count": 51,
   "id": "d39903c6",
   "metadata": {},
   "outputs": [
    {
     "name": "stdout",
     "output_type": "stream",
     "text": [
      "You have sliced: Atog htwymyntb biu tfrtuls o'eDth\n"
     ]
    }
   ],
   "source": [
    "print(\"You have sliced:\", my_str[::2])"
   ]
  },
  {
   "cell_type": "code",
   "execution_count": 52,
   "id": "5e136875",
   "metadata": {},
   "outputs": [
    {
     "name": "stdout",
     "output_type": "stream",
     "text": [
      "You have sliced: Ahgttam tebo  r lsorDc\n"
     ]
    }
   ],
   "source": [
    "print(\"You have sliced:\", my_str[0:len(my_str):3])"
   ]
  },
  {
   "cell_type": "code",
   "execution_count": 53,
   "id": "b379d379",
   "metadata": {},
   "outputs": [
    {
     "name": "stdout",
     "output_type": "stream",
     "text": [
      "You have sliced: .hctuD er'uoy sselnu tsrif ta suoivbo eb ton yam yaw taht hguohtlA\n"
     ]
    }
   ],
   "source": [
    "print(\"You have sliced:\", my_str[::-1])\n"
   ]
  },
  {
   "cell_type": "code",
   "execution_count": 54,
   "id": "818b9e49",
   "metadata": {},
   "outputs": [
    {
     "name": "stdout",
     "output_type": "stream",
     "text": [
      "You have sliced: .cu ruysen si asovoe o a a athuhl\n"
     ]
    }
   ],
   "source": [
    "print(\"You have sliced:\", my_str[len(my_str) - 1:0:-2])"
   ]
  },
  {
   "cell_type": "code",
   "execution_count": 55,
   "id": "5b4ab5a0",
   "metadata": {},
   "outputs": [
    {
     "name": "stdout",
     "output_type": "stream",
     "text": [
      "You have sliced: elnu tsr\n"
     ]
    }
   ],
   "source": [
    "print(\"You have sliced:\", my_str[49:41:-1])"
   ]
  },
  {
   "cell_type": "markdown",
   "id": "a672e14f",
   "metadata": {},
   "source": [
    "# Basic operation on string\n",
    "# str1 = 'Learnbay'\n",
    "# str2 = 'Python'\n",
    "\n",
    "#Write the code to get the output,instructions are mentioned below.\n",
    "#Output is: Learnbay Python\n",
    "\n",
    "\n",
    "#Error: TypeError: can only concatenate str (not \"int\") to str\n",
    "\n",
    "\n",
    "#Error: TypeError: can only concatenate str (not \"float\") to str\n",
    "\n",
    "\n",
    "\n",
    "#Find below Output\n",
    "#Output is: LearnbayLearnbayLearnbay\n",
    "\n",
    "\n",
    "#Error: TypeError: can't multiply sequence by non-int of type 'float'\n",
    "\n",
    "\n",
    "#Error: TypeError: can't multiply sequence by non-int of type 'str'\n",
    "\n"
   ]
  },
  {
   "cell_type": "code",
   "execution_count": 56,
   "id": "4bf1836e",
   "metadata": {},
   "outputs": [],
   "source": [
    "str1 = 'Learnbay'\n",
    "str2 = 'Python'"
   ]
  },
  {
   "cell_type": "code",
   "execution_count": 57,
   "id": "a03b6395",
   "metadata": {},
   "outputs": [
    {
     "name": "stdout",
     "output_type": "stream",
     "text": [
      "Learnbay Python\n"
     ]
    }
   ],
   "source": [
    "print(str1 + \" \" + str2)"
   ]
  },
  {
   "cell_type": "code",
   "execution_count": 58,
   "id": "e5c06df7",
   "metadata": {},
   "outputs": [
    {
     "ename": "TypeError",
     "evalue": "can only concatenate str (not \"int\") to str",
     "output_type": "error",
     "traceback": [
      "\u001b[1;31m---------------------------------------------------------------------------\u001b[0m",
      "\u001b[1;31mTypeError\u001b[0m                                 Traceback (most recent call last)",
      "Cell \u001b[1;32mIn[58], line 1\u001b[0m\n\u001b[1;32m----> 1\u001b[0m \u001b[38;5;28mprint\u001b[39m(str1 \u001b[38;5;241m+\u001b[39m \u001b[38;5;241m1\u001b[39m)\n",
      "\u001b[1;31mTypeError\u001b[0m: can only concatenate str (not \"int\") to str"
     ]
    }
   ],
   "source": [
    "print(str1 + 1)"
   ]
  },
  {
   "cell_type": "code",
   "execution_count": 59,
   "id": "05b66728",
   "metadata": {},
   "outputs": [
    {
     "ename": "TypeError",
     "evalue": "can only concatenate str (not \"float\") to str",
     "output_type": "error",
     "traceback": [
      "\u001b[1;31m---------------------------------------------------------------------------\u001b[0m",
      "\u001b[1;31mTypeError\u001b[0m                                 Traceback (most recent call last)",
      "Cell \u001b[1;32mIn[59], line 1\u001b[0m\n\u001b[1;32m----> 1\u001b[0m \u001b[38;5;28mprint\u001b[39m(str1 \u001b[38;5;241m+\u001b[39m \u001b[38;5;241m1.0\u001b[39m)\n",
      "\u001b[1;31mTypeError\u001b[0m: can only concatenate str (not \"float\") to str"
     ]
    }
   ],
   "source": [
    "print(str1 + 1.0)"
   ]
  },
  {
   "cell_type": "code",
   "execution_count": 60,
   "id": "6fbf184f",
   "metadata": {},
   "outputs": [
    {
     "name": "stdout",
     "output_type": "stream",
     "text": [
      "LearnbayLearnbayLearnbay\n"
     ]
    }
   ],
   "source": [
    "print(str1 * 3)"
   ]
  },
  {
   "cell_type": "code",
   "execution_count": 61,
   "id": "c99e95a4",
   "metadata": {},
   "outputs": [
    {
     "ename": "TypeError",
     "evalue": "can't multiply sequence by non-int of type 'float'",
     "output_type": "error",
     "traceback": [
      "\u001b[1;31m---------------------------------------------------------------------------\u001b[0m",
      "\u001b[1;31mTypeError\u001b[0m                                 Traceback (most recent call last)",
      "Cell \u001b[1;32mIn[61], line 1\u001b[0m\n\u001b[1;32m----> 1\u001b[0m \u001b[38;5;28mprint\u001b[39m(str1 \u001b[38;5;241m*\u001b[39m \u001b[38;5;241m3.0\u001b[39m)\n",
      "\u001b[1;31mTypeError\u001b[0m: can't multiply sequence by non-int of type 'float'"
     ]
    }
   ],
   "source": [
    "print(str1 * 3.0)"
   ]
  },
  {
   "cell_type": "code",
   "execution_count": 63,
   "id": "48ea4c18",
   "metadata": {},
   "outputs": [
    {
     "ename": "TypeError",
     "evalue": "can't multiply sequence by non-int of type 'str'",
     "output_type": "error",
     "traceback": [
      "\u001b[1;31m---------------------------------------------------------------------------\u001b[0m",
      "\u001b[1;31mTypeError\u001b[0m                                 Traceback (most recent call last)",
      "Cell \u001b[1;32mIn[63], line 1\u001b[0m\n\u001b[1;32m----> 1\u001b[0m \u001b[38;5;28mprint\u001b[39m(str1 \u001b[38;5;241m*\u001b[39m str2)\n",
      "\u001b[1;31mTypeError\u001b[0m: can't multiply sequence by non-int of type 'str'"
     ]
    }
   ],
   "source": [
    "print(str1 * str2)"
   ]
  },
  {
   "cell_type": "markdown",
   "id": "52ea6fb3",
   "metadata": {},
   "source": [
    "# Find below Output\n",
    "# str1 = 'Python'\n",
    "# str2 = 'Python'\n",
    "# str3 = 'Python$'\n",
    "# str4 = 'Python$'\n",
    "\n",
    "\n",
    "#print True by using identity operator between str1 and str2\n",
    "\n",
    "\n",
    "#print False by using identity operator between str1 and str3\n",
    "\n",
    "\n",
    "#print False by using identity operator between str4 and str3\n",
    "\n",
    "\n",
    "#Check if P is available in str1 and print True by using membership operator\n",
    "\n",
    "\n",
    "#Check if $ is available in str3 and print True by using membership operator\n",
    "\n",
    "\n",
    "#Check if N is available in str3 and print False by using membership operator\n",
    "\n",
    "\n"
   ]
  },
  {
   "cell_type": "code",
   "execution_count": 64,
   "id": "4d80aa63",
   "metadata": {},
   "outputs": [],
   "source": [
    "str1 = 'Python'\n",
    "str2 = 'Python'\n",
    "str3 = 'Python$'\n",
    "str4 = 'Python$'"
   ]
  },
  {
   "cell_type": "code",
   "execution_count": 65,
   "id": "1b46847b",
   "metadata": {},
   "outputs": [
    {
     "name": "stdout",
     "output_type": "stream",
     "text": [
      "True\n"
     ]
    }
   ],
   "source": [
    "print(str1 is str2)"
   ]
  },
  {
   "cell_type": "code",
   "execution_count": 66,
   "id": "8c98f868",
   "metadata": {},
   "outputs": [
    {
     "name": "stdout",
     "output_type": "stream",
     "text": [
      "False\n"
     ]
    }
   ],
   "source": [
    "print(str1 is str3)"
   ]
  },
  {
   "cell_type": "code",
   "execution_count": 67,
   "id": "1eeeb789",
   "metadata": {},
   "outputs": [
    {
     "name": "stdout",
     "output_type": "stream",
     "text": [
      "False\n"
     ]
    }
   ],
   "source": [
    "print(str3 is str4)"
   ]
  },
  {
   "cell_type": "code",
   "execution_count": 68,
   "id": "aab214cb",
   "metadata": {},
   "outputs": [
    {
     "name": "stdout",
     "output_type": "stream",
     "text": [
      "True\n"
     ]
    }
   ],
   "source": [
    "print('P' in str1)"
   ]
  },
  {
   "cell_type": "code",
   "execution_count": 69,
   "id": "a6f13643",
   "metadata": {},
   "outputs": [
    {
     "name": "stdout",
     "output_type": "stream",
     "text": [
      "True\n"
     ]
    }
   ],
   "source": [
    "print('$' in str3)"
   ]
  },
  {
   "cell_type": "code",
   "execution_count": 70,
   "id": "eb6d4815",
   "metadata": {},
   "outputs": [
    {
     "name": "stdout",
     "output_type": "stream",
     "text": [
      "False\n"
     ]
    }
   ],
   "source": [
    "print('N' in str3)"
   ]
  },
  {
   "cell_type": "markdown",
   "id": "c61fb038",
   "metadata": {},
   "source": [
    "# Complete the below code\n",
    "str1 = 'This is Python class'\n",
    "# write the code to replace 'Python' with 'Java' and you should get below error.\n",
    "# TypeError: 'str' object does not support item assignment.\n",
    "\n",
    "\n"
   ]
  },
  {
   "cell_type": "code",
   "execution_count": 71,
   "id": "d200adbb",
   "metadata": {},
   "outputs": [],
   "source": [
    "str1 = 'This is Python class'"
   ]
  },
  {
   "cell_type": "code",
   "execution_count": 72,
   "id": "977518a1",
   "metadata": {},
   "outputs": [],
   "source": [
    "new_str = str1.replace('Python', 'Java')"
   ]
  },
  {
   "cell_type": "code",
   "execution_count": 73,
   "id": "d595239c",
   "metadata": {},
   "outputs": [
    {
     "name": "stdout",
     "output_type": "stream",
     "text": [
      "This is Java class\n"
     ]
    }
   ],
   "source": [
    "print(new_str)"
   ]
  },
  {
   "cell_type": "markdown",
   "id": "45d1c0f6",
   "metadata": {},
   "source": [
    "# str1 = 'A'\n",
    "# str2 = 'A'\n",
    "#Compare str1 and str2 and print True using comparison operator\n",
    "\n",
    "\n",
    "#Compare str1 and str2 and print True using equality operator\n",
    "\n",
    "\n",
    "#Compare str1 and str2 and print False using equality operator\n",
    "\n",
    "\n",
    "#Compare str1 and str2 and print False using comparison operator\n",
    "\n"
   ]
  },
  {
   "cell_type": "code",
   "execution_count": 74,
   "id": "05e6815a",
   "metadata": {},
   "outputs": [],
   "source": [
    "str1 = 'A'\n",
    "str2 = 'A'"
   ]
  },
  {
   "cell_type": "code",
   "execution_count": 75,
   "id": "b769d36c",
   "metadata": {},
   "outputs": [
    {
     "name": "stdout",
     "output_type": "stream",
     "text": [
      "True\n"
     ]
    }
   ],
   "source": [
    "print(str1 <= str2)"
   ]
  },
  {
   "cell_type": "code",
   "execution_count": 76,
   "id": "66f0572b",
   "metadata": {},
   "outputs": [
    {
     "name": "stdout",
     "output_type": "stream",
     "text": [
      "True\n"
     ]
    }
   ],
   "source": [
    "print(str1 == str2)"
   ]
  },
  {
   "cell_type": "code",
   "execution_count": 77,
   "id": "8428f39f",
   "metadata": {},
   "outputs": [
    {
     "name": "stdout",
     "output_type": "stream",
     "text": [
      "False\n"
     ]
    }
   ],
   "source": [
    "print(str1 != str2)"
   ]
  },
  {
   "cell_type": "code",
   "execution_count": 78,
   "id": "e82c4718",
   "metadata": {},
   "outputs": [
    {
     "name": "stdout",
     "output_type": "stream",
     "text": [
      "False\n"
     ]
    }
   ],
   "source": [
    "print(str1 > str2)"
   ]
  },
  {
   "cell_type": "markdown",
   "id": "a3b71c74",
   "metadata": {},
   "source": [
    "# str1 = 'A'\n",
    "# str2 = 'a'\n",
    "#Compare str1 and str2 and print True using comparison operator\n",
    "\n",
    "\n",
    "#Compare str1 and str2 and print True using equality operator\n",
    "\n",
    "\n",
    "#Compare str1 and str2 and print False using equality operator\n",
    "\n",
    "\n",
    "#Compare str1 and str2 and print False using comparison operator\n"
   ]
  },
  {
   "cell_type": "code",
   "execution_count": 79,
   "id": "c06d34c1",
   "metadata": {},
   "outputs": [],
   "source": [
    "str1 = 'A'\n",
    "str2 = 'a'"
   ]
  },
  {
   "cell_type": "code",
   "execution_count": 80,
   "id": "fc8220b2",
   "metadata": {},
   "outputs": [
    {
     "name": "stdout",
     "output_type": "stream",
     "text": [
      "True\n"
     ]
    }
   ],
   "source": [
    "print(str1 < str2)"
   ]
  },
  {
   "cell_type": "code",
   "execution_count": 81,
   "id": "5601d444",
   "metadata": {},
   "outputs": [
    {
     "name": "stdout",
     "output_type": "stream",
     "text": [
      "True\n"
     ]
    }
   ],
   "source": [
    "print(str1 != str2)"
   ]
  },
  {
   "cell_type": "code",
   "execution_count": 83,
   "id": "2903e94d",
   "metadata": {},
   "outputs": [
    {
     "name": "stdout",
     "output_type": "stream",
     "text": [
      "False\n"
     ]
    }
   ],
   "source": [
    "print(str1 == str2)"
   ]
  },
  {
   "cell_type": "code",
   "execution_count": 85,
   "id": "d7a9cf09",
   "metadata": {},
   "outputs": [
    {
     "name": "stdout",
     "output_type": "stream",
     "text": [
      "False\n"
     ]
    }
   ],
   "source": [
    "print(str1 > str2)"
   ]
  },
  {
   "cell_type": "markdown",
   "id": "11920e39",
   "metadata": {},
   "source": [
    "# str1 = 'A'\n",
    "# str2 = '65'\n",
    "# Compare str1 and str2 using comparison operator and it should give below error.\n",
    "# Error: TypeError: '>=' not supported between instances of 'str' and 'int'\n",
    "\n",
    "#Compare str1 and str2 and print True using equality operator\n",
    "\n",
    "\n",
    "#Compare str1 and str2 and print False using equality operator\n"
   ]
  },
  {
   "cell_type": "code",
   "execution_count": 86,
   "id": "824ea789",
   "metadata": {},
   "outputs": [],
   "source": [
    "str1 = 'A'\n",
    "str2 = '65'"
   ]
  },
  {
   "cell_type": "code",
   "execution_count": 95,
   "id": "08ccecf2",
   "metadata": {},
   "outputs": [
    {
     "name": "stdout",
     "output_type": "stream",
     "text": [
      "False\n"
     ]
    }
   ],
   "source": [
    "try:\n",
    "    print(str1 >= str2)\n",
    "except TypeError as e:\n",
    "    print(\"Error:\", e)"
   ]
  },
  {
   "cell_type": "code",
   "execution_count": 96,
   "id": "885a5381",
   "metadata": {},
   "outputs": [
    {
     "name": "stdout",
     "output_type": "stream",
     "text": [
      "False\n"
     ]
    }
   ],
   "source": [
    "print(str1 == str2)"
   ]
  },
  {
   "cell_type": "code",
   "execution_count": 97,
   "id": "3292d3c6",
   "metadata": {},
   "outputs": [
    {
     "name": "stdout",
     "output_type": "stream",
     "text": [
      "True\n"
     ]
    }
   ],
   "source": [
    "print(str1 != str2)"
   ]
  },
  {
   "cell_type": "markdown",
   "id": "a9e034c4",
   "metadata": {},
   "source": [
    "# str1 = 'Python'\n",
    "# str2 = 'Python'\n",
    "#Compare str1 and str2 and print True using comparison operator\n",
    "\n",
    "\n",
    "#Compare str1 and str2 and print True using equality operator\n",
    "\n",
    "\n",
    "#Compare str1 and str2 and print False using equality operator\n",
    "\n",
    "\n",
    "#Compare str1 and str2 and print False using comparison operator\n",
    "\n"
   ]
  },
  {
   "cell_type": "code",
   "execution_count": 98,
   "id": "ee9b253c",
   "metadata": {},
   "outputs": [],
   "source": [
    "str1 = 'Python'\n",
    "str2 = 'Python'"
   ]
  },
  {
   "cell_type": "code",
   "execution_count": 99,
   "id": "78e5c8d6",
   "metadata": {},
   "outputs": [
    {
     "name": "stdout",
     "output_type": "stream",
     "text": [
      "True\n"
     ]
    }
   ],
   "source": [
    "print(str1 <= str2)"
   ]
  },
  {
   "cell_type": "code",
   "execution_count": 100,
   "id": "2a3b08ba",
   "metadata": {},
   "outputs": [
    {
     "name": "stdout",
     "output_type": "stream",
     "text": [
      "True\n"
     ]
    }
   ],
   "source": [
    "print(str1 == str2)"
   ]
  },
  {
   "cell_type": "code",
   "execution_count": 101,
   "id": "ef3b24c4",
   "metadata": {},
   "outputs": [
    {
     "name": "stdout",
     "output_type": "stream",
     "text": [
      "False\n"
     ]
    }
   ],
   "source": [
    "print(str1 != str2)"
   ]
  },
  {
   "cell_type": "code",
   "execution_count": 102,
   "id": "cd033bad",
   "metadata": {},
   "outputs": [
    {
     "name": "stdout",
     "output_type": "stream",
     "text": [
      "False\n"
     ]
    }
   ],
   "source": [
    "print(str1 > str2)"
   ]
  },
  {
   "cell_type": "markdown",
   "id": "473c265a",
   "metadata": {},
   "source": [
    "# a = 'Python'\n",
    "# b = ''\n",
    "\n",
    "# Apply logical opereators (and, or & not) on above string values and observe the output.\n",
    "# print()\n",
    "# print()\n",
    "# print()\n",
    "# print()\n",
    "# print()"
   ]
  },
  {
   "cell_type": "code",
   "execution_count": 103,
   "id": "6f72f78e",
   "metadata": {},
   "outputs": [],
   "source": [
    "a = 'Python'\n",
    "b = ''"
   ]
  },
  {
   "cell_type": "code",
   "execution_count": 104,
   "id": "abac403b",
   "metadata": {},
   "outputs": [
    {
     "name": "stdout",
     "output_type": "stream",
     "text": [
      "a and b: \n"
     ]
    }
   ],
   "source": [
    "print(\"a and b:\", a and b) "
   ]
  },
  {
   "cell_type": "code",
   "execution_count": 105,
   "id": "a7e1ff69",
   "metadata": {},
   "outputs": [
    {
     "name": "stdout",
     "output_type": "stream",
     "text": [
      "a or b: Python\n"
     ]
    }
   ],
   "source": [
    "print(\"a or b:\", a or b)"
   ]
  },
  {
   "cell_type": "code",
   "execution_count": 106,
   "id": "9df2dfd8",
   "metadata": {},
   "outputs": [
    {
     "name": "stdout",
     "output_type": "stream",
     "text": [
      "not a: False\n"
     ]
    }
   ],
   "source": [
    "print(\"not a:\", not a)"
   ]
  },
  {
   "cell_type": "code",
   "execution_count": 107,
   "id": "c15806b1",
   "metadata": {},
   "outputs": [
    {
     "name": "stdout",
     "output_type": "stream",
     "text": [
      "not b: True\n"
     ]
    }
   ],
   "source": [
    "print(\"not b:\", not b)"
   ]
  },
  {
   "cell_type": "markdown",
   "id": "3e4cd02c",
   "metadata": {},
   "source": [
    "# a = 'Python'\n",
    "# b = 'learnbay'\n",
    "\n",
    "# pply logical opereators (and, or & not) on above string values and observe the output.\n",
    "# print()\n",
    "# print()\n",
    "# print()"
   ]
  },
  {
   "cell_type": "code",
   "execution_count": 108,
   "id": "f956faf9",
   "metadata": {},
   "outputs": [],
   "source": [
    "a = 'Python'\n",
    "b = 'learnbay'"
   ]
  },
  {
   "cell_type": "code",
   "execution_count": 109,
   "id": "b4c0fa3d",
   "metadata": {},
   "outputs": [
    {
     "name": "stdout",
     "output_type": "stream",
     "text": [
      "a and b: learnbay\n"
     ]
    }
   ],
   "source": [
    "print(\"a and b:\", a and b)"
   ]
  },
  {
   "cell_type": "code",
   "execution_count": 110,
   "id": "02aa599f",
   "metadata": {},
   "outputs": [
    {
     "name": "stdout",
     "output_type": "stream",
     "text": [
      "a or b: Python\n"
     ]
    }
   ],
   "source": [
    "print(\"a or b:\", a or b)"
   ]
  },
  {
   "cell_type": "code",
   "execution_count": 111,
   "id": "32efc37e",
   "metadata": {},
   "outputs": [
    {
     "name": "stdout",
     "output_type": "stream",
     "text": [
      "not a: False\n"
     ]
    }
   ],
   "source": [
    "print(\"not a:\", not a)"
   ]
  },
  {
   "cell_type": "code",
   "execution_count": 112,
   "id": "fb691c10",
   "metadata": {},
   "outputs": [
    {
     "name": "stdout",
     "output_type": "stream",
     "text": [
      "not b: False\n"
     ]
    }
   ],
   "source": [
    "print(\"not b:\", not b)"
   ]
  },
  {
   "cell_type": "markdown",
   "id": "8d3ce5bf",
   "metadata": {},
   "source": [
    "# my_str = \"Although 8 that way may not be obvious at first unless you're Dutch\"\n",
    "\n",
    "# Write the code to get the total count of 't' in above string. Use find() and index() method.\n",
    "# print()\n",
    "# print()\n",
    "\n",
    "# Write the code to get the index of '8' in my_str. Use find() and index() method.\n",
    "# print()\n",
    "# print()\n",
    "\n",
    "# What will be the output of below code?\n",
    "# print(my_str.find('the'))\n",
    "\n",
    "\n",
    "# print(my_str.index('the'))\n",
    "\n",
    "\n",
    "# print(my_str.find('t', 9, 15))\n",
    "\n",
    "\n",
    "# print(my_str.rfind('u'))\n",
    "\n",
    "\n",
    "# print(my_str.rindex('u'))\n",
    "\n"
   ]
  },
  {
   "cell_type": "code",
   "execution_count": 113,
   "id": "76a3c5d0",
   "metadata": {},
   "outputs": [],
   "source": [
    "my_str = \"Although 8 that way may not be obvious at first unless you're Dutch\""
   ]
  },
  {
   "cell_type": "code",
   "execution_count": 114,
   "id": "289916f1",
   "metadata": {},
   "outputs": [
    {
     "name": "stdout",
     "output_type": "stream",
     "text": [
      "Total count of 't' in my_str (using find()): 7\n"
     ]
    }
   ],
   "source": [
    "print(\"Total count of 't' in my_str (using find()):\", my_str.count('t'))"
   ]
  },
  {
   "cell_type": "code",
   "execution_count": 115,
   "id": "b4a33bd9",
   "metadata": {},
   "outputs": [
    {
     "name": "stdout",
     "output_type": "stream",
     "text": [
      "Total count of 't' in my_str (using index()): 7\n"
     ]
    }
   ],
   "source": [
    "print(\"Total count of 't' in my_str (using index()):\", my_str.count('t'))"
   ]
  },
  {
   "cell_type": "code",
   "execution_count": 117,
   "id": "c72acada",
   "metadata": {},
   "outputs": [
    {
     "name": "stdout",
     "output_type": "stream",
     "text": [
      "Index of '8' in my_str (using find()): 9\n"
     ]
    }
   ],
   "source": [
    "print(\"Index of '8' in my_str (using find()):\", my_str.find('8'))"
   ]
  },
  {
   "cell_type": "code",
   "execution_count": 119,
   "id": "7e6a22d2",
   "metadata": {},
   "outputs": [
    {
     "name": "stdout",
     "output_type": "stream",
     "text": [
      "Index of '8' in my_str (using index()): 9\n"
     ]
    }
   ],
   "source": [
    "print(\"Index of '8' in my_str (using index()):\", my_str.index('8'))"
   ]
  },
  {
   "cell_type": "code",
   "execution_count": 120,
   "id": "5c324667",
   "metadata": {},
   "outputs": [
    {
     "name": "stdout",
     "output_type": "stream",
     "text": [
      "-1\n"
     ]
    }
   ],
   "source": [
    "print(my_str.find('the'))"
   ]
  },
  {
   "cell_type": "code",
   "execution_count": 121,
   "id": "802d22a2",
   "metadata": {},
   "outputs": [
    {
     "ename": "ValueError",
     "evalue": "substring not found",
     "output_type": "error",
     "traceback": [
      "\u001b[1;31m---------------------------------------------------------------------------\u001b[0m",
      "\u001b[1;31mValueError\u001b[0m                                Traceback (most recent call last)",
      "Cell \u001b[1;32mIn[121], line 1\u001b[0m\n\u001b[1;32m----> 1\u001b[0m \u001b[38;5;28mprint\u001b[39m(my_str\u001b[38;5;241m.\u001b[39mindex(\u001b[38;5;124m'\u001b[39m\u001b[38;5;124mthe\u001b[39m\u001b[38;5;124m'\u001b[39m))\n",
      "\u001b[1;31mValueError\u001b[0m: substring not found"
     ]
    }
   ],
   "source": [
    "print(my_str.index('the'))"
   ]
  },
  {
   "cell_type": "code",
   "execution_count": 122,
   "id": "52772025",
   "metadata": {},
   "outputs": [
    {
     "name": "stdout",
     "output_type": "stream",
     "text": [
      "11\n"
     ]
    }
   ],
   "source": [
    "print(my_str.find('t', 9, 15))"
   ]
  },
  {
   "cell_type": "code",
   "execution_count": 123,
   "id": "36794ea3",
   "metadata": {},
   "outputs": [
    {
     "name": "stdout",
     "output_type": "stream",
     "text": [
      "63\n"
     ]
    }
   ],
   "source": [
    "print(my_str.rfind('u'))"
   ]
  },
  {
   "cell_type": "code",
   "execution_count": 124,
   "id": "25a40baa",
   "metadata": {},
   "outputs": [
    {
     "name": "stdout",
     "output_type": "stream",
     "text": [
      "63\n"
     ]
    }
   ],
   "source": [
    "print(my_str.rindex('u'))"
   ]
  },
  {
   "cell_type": "markdown",
   "id": "fe6ad303",
   "metadata": {},
   "source": [
    "# Write the code which takes one string from user and if it starts with small case letter then convert it to corresponding\n",
    "# capital letter otherwise if starts with capital letters then convert first character of every word in that string into capital.\n",
    "\n"
   ]
  },
  {
   "cell_type": "code",
   "execution_count": 131,
   "id": "eb7e8095",
   "metadata": {},
   "outputs": [
    {
     "name": "stdout",
     "output_type": "stream",
     "text": [
      "Enter a string: A\n",
      "Modified string: A\n"
     ]
    }
   ],
   "source": [
    "user_input = input(\"Enter a string: \")\n",
    "\n",
    "if user_input[0].islower():\n",
    "    \n",
    "    modified_string = user_input.capitalize()\n",
    "else:\n",
    "   \n",
    "    modified_string = user_input.title()\n",
    "\n",
    "print(\"Modified string:\", modified_string)\n"
   ]
  },
  {
   "cell_type": "markdown",
   "id": "295b51ea",
   "metadata": {},
   "source": [
    "# Take a string from user and check if it is:-\n",
    "#     1. alphanumeric\n",
    "#     2. alphabets\n",
    "#     3. digit\n",
    "#     4. all letters are in lower case\n",
    "#     5. all letters are in upper case\n",
    "#     6. in title case\n",
    "#     7. a space character\n",
    "#     8. numeric\n",
    "#     9. all number elements in string are decimal\n",
    "\n"
   ]
  },
  {
   "cell_type": "code",
   "execution_count": 133,
   "id": "cedc2fe6",
   "metadata": {},
   "outputs": [
    {
     "name": "stdout",
     "output_type": "stream",
     "text": [
      "Enter a string: 7\n"
     ]
    }
   ],
   "source": [
    "user_input = input(\"Enter a string: \")"
   ]
  },
  {
   "cell_type": "code",
   "execution_count": 134,
   "id": "d503228b",
   "metadata": {},
   "outputs": [
    {
     "name": "stdout",
     "output_type": "stream",
     "text": [
      "Is alphanumeric: True\n"
     ]
    }
   ],
   "source": [
    "print(\"Is alphanumeric:\", user_input.isalnum())"
   ]
  },
  {
   "cell_type": "code",
   "execution_count": 135,
   "id": "f3878143",
   "metadata": {},
   "outputs": [
    {
     "name": "stdout",
     "output_type": "stream",
     "text": [
      "Enter a string: y\n",
      "Is alphanumeric: True\n",
      "Is alphabetic: True\n",
      "Is digit: False\n",
      "Is lowercase: True\n",
      "Is uppercase: False\n",
      "Is in title case: False\n",
      "Is a space character: False\n",
      "Is numeric: False\n",
      "Are all number elements in string decimal: False\n"
     ]
    }
   ],
   "source": [
    "user_input = input(\"Enter a string: \")\n",
    "\n",
    "# Check if the string is alphanumeric\n",
    "print(\"Is alphanumeric:\", user_input.isalnum())\n",
    "\n",
    "# Check if the string contains only alphabetic characters\n",
    "print(\"Is alphabetic:\", user_input.isalpha())\n",
    "\n",
    "# Check if the string contains only digits\n",
    "print(\"Is digit:\", user_input.isdigit())\n",
    "\n",
    "# Check if all letters in the string are lowercase\n",
    "print(\"Is lowercase:\", user_input.islower())\n",
    "\n",
    "# Check if all letters in the string are uppercase\n",
    "print(\"Is uppercase:\", user_input.isupper())\n",
    "\n",
    "# Check if the string is in title case\n",
    "print(\"Is in title case:\", user_input.istitle())\n",
    "\n",
    "# Check if the string is a space character\n",
    "print(\"Is a space character:\", user_input.isspace())\n",
    "\n",
    "# Check if the string is numeric\n",
    "print(\"Is numeric:\", user_input.isnumeric())\n",
    "\n",
    "# Check if all number elements in the string are decimal\n",
    "print(\"Are all number elements in string decimal:\", all(char.isdigit() or char == '.' for char in user_input))\n"
   ]
  },
  {
   "cell_type": "code",
   "execution_count": 136,
   "id": "cd71ea63",
   "metadata": {},
   "outputs": [
    {
     "name": "stdout",
     "output_type": "stream",
     "text": [
      "Enter a string: y\n",
      "Is alphanumeric: True\n",
      "Is alphabetic: True\n",
      "Is digit: False\n",
      "Is lowercase: True\n",
      "Is uppercase: False\n",
      "Is in title case: False\n",
      "Is a space character: False\n",
      "Is numeric: False\n",
      "Are all number elements in string decimal: False\n"
     ]
    }
   ],
   "source": [
    "user_input = input(\"Enter a string: \")\n",
    "\n",
    "# Check if the string is alphanumeric\n",
    "print(\"Is alphanumeric:\", user_input.isalnum())\n",
    "\n",
    "# Check if the string contains only alphabetic characters\n",
    "print(\"Is alphabetic:\", user_input.isalpha())\n",
    "\n",
    "# Check if the string contains only digits\n",
    "print(\"Is digit:\", user_input.isdigit())\n",
    "\n",
    "# Check if all letters in the string are lowercase\n",
    "print(\"Is lowercase:\", user_input.islower())\n",
    "\n",
    "# Check if all letters in the string are uppercase\n",
    "print(\"Is uppercase:\", user_input.isupper())\n",
    "\n",
    "# Check if the string is in title case\n",
    "print(\"Is in title case:\", user_input.istitle())\n",
    "\n",
    "# Check if the string is a space character\n",
    "print(\"Is a space character:\", user_input.isspace())\n",
    "\n",
    "# Check if the string is numeric\n",
    "print(\"Is numeric:\", user_input.isnumeric())\n",
    "\n",
    "# Check if all number elements in the string are decimal\n",
    "print(\"Are all number elements in string decimal:\", all(char.isdigit() or char == '.' for char in user_input))\n"
   ]
  },
  {
   "cell_type": "code",
   "execution_count": null,
   "id": "5e9e8f84",
   "metadata": {},
   "outputs": [],
   "source": []
  },
  {
   "cell_type": "code",
   "execution_count": null,
   "id": "184a24fb",
   "metadata": {},
   "outputs": [],
   "source": []
  },
  {
   "cell_type": "code",
   "execution_count": null,
   "id": "93afef7c",
   "metadata": {},
   "outputs": [],
   "source": []
  },
  {
   "cell_type": "code",
   "execution_count": null,
   "id": "8680e37f",
   "metadata": {},
   "outputs": [],
   "source": []
  },
  {
   "cell_type": "code",
   "execution_count": null,
   "id": "d3077f8b",
   "metadata": {},
   "outputs": [],
   "source": []
  },
  {
   "cell_type": "code",
   "execution_count": null,
   "id": "294f7fb0",
   "metadata": {},
   "outputs": [],
   "source": []
  }
 ],
 "metadata": {
  "kernelspec": {
   "display_name": "Python 3 (ipykernel)",
   "language": "python",
   "name": "python3"
  },
  "language_info": {
   "codemirror_mode": {
    "name": "ipython",
    "version": 3
   },
   "file_extension": ".py",
   "mimetype": "text/x-python",
   "name": "python",
   "nbconvert_exporter": "python",
   "pygments_lexer": "ipython3",
   "version": "3.11.7"
  }
 },
 "nbformat": 4,
 "nbformat_minor": 5
}
