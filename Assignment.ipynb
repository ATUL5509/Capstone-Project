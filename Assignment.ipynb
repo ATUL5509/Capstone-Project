{
 "cells": [
  {
   "cell_type": "code",
   "execution_count": null,
   "id": "840bcb94-7873-4c90-8940-dfc8a2b23ab2",
   "metadata": {},
   "outputs": [],
   "source": [
    "Q. Take one int value between 0 - 256.\n",
    "Assign it to two different variables.\n",
    "Check the id of both the variables. It should come the same."
   ]
  },
  {
   "cell_type": "code",
   "execution_count": null,
   "id": "fabe6636-896b-4536-8e67-a8490cef04d1",
   "metadata": {},
   "outputs": [],
   "source": [
    "ssigning the same integer value to two different variables\n",
    "a = 100\n",
    "b = 100\n",
    "\n",
    "# Checking the IDs of both variables\n",
    "print(\"ID of 'a':\", id(a))\n",
    "print(\"ID of 'b':\", id(b))"
   ]
  },
  {
   "cell_type": "code",
   "execution_count": 3,
   "id": "693d6fc4-fc54-4cae-b956-76571863b959",
   "metadata": {},
   "outputs": [
    {
     "name": "stdout",
     "output_type": "stream",
     "text": [
      "140720999288712\n",
      "140720999288712\n"
     ]
    }
   ],
   "source": [
    "a = 100\n",
    "b = 100 \n",
    "print(id(a))\n",
    "print(id(b))"
   ]
  },
  {
   "cell_type": "code",
   "execution_count": 4,
   "id": "f1938953-525d-499e-b545-42269669da08",
   "metadata": {},
   "outputs": [
    {
     "name": "stdout",
     "output_type": "stream",
     "text": [
      "140720999293672\n",
      "140720999288744\n"
     ]
    }
   ],
   "source": [
    "a = 255\n",
    "b = 101\n",
    "print(id(a))\n",
    "print(id(b))"
   ]
  },
  {
   "cell_type": "code",
   "execution_count": null,
   "id": "95573acc-7e90-487f-8c12-549d46e9d391",
   "metadata": {},
   "outputs": [],
   "source": [
    "Q. Take one int value either less than -5 or greater than 256.\n",
    "Assign it to two different variables.\n",
    "Check the id of both the variables. It should come different.Check"
   ]
  },
  {
   "cell_type": "code",
   "execution_count": null,
   "id": "f225a0cd-5a56-4c77-8520-c1e1abd04160",
   "metadata": {},
   "outputs": [],
   "source": [
    "# When you assign an integer value outside the range -5 to 256 to different variables, Python does not reuse the same object in memory, so the IDs of the variables will be different. Here's the code to demonstrate this behavior:"
   ]
  },
  {
   "cell_type": "code",
   "execution_count": 13,
   "id": "02758b96-b380-44af-a408-f1131dda278e",
   "metadata": {},
   "outputs": [
    {
     "name": "stdout",
     "output_type": "stream",
     "text": [
      "ID of 'x': 1627661429520\n",
      "ID of 'y': 1627661429744\n"
     ]
    }
   ],
   "source": [
    "# Assigning an integer value outside the range -5 to 256 to two different variables\n",
    "x = 300\n",
    "y = 300\n",
    "\n",
    "# Checking the IDs of both variables\n",
    "print(\"ID of 'x':\", id(x))\n",
    "print(\"ID of 'y':\", id(y))"
   ]
  },
  {
   "cell_type": "code",
   "execution_count": 14,
   "id": "356720c8-4228-4a50-be24-b058634fc7b5",
   "metadata": {},
   "outputs": [
    {
     "name": "stdout",
     "output_type": "stream",
     "text": [
      "ID of 'x': 1627661430160\n",
      "ID of 'x': 1627661430352\n"
     ]
    }
   ],
   "source": [
    "x = -10\n",
    "y = 310\n",
    "\n",
    "print(\"ID of 'x':\",id(x))\n",
    "print(\"ID of 'x':\",id(y))"
   ]
  },
  {
   "cell_type": "code",
   "execution_count": null,
   "id": "56a1fce7-4582-47a7-ac36-56e3f5e987e5",
   "metadata": {},
   "outputs": [],
   "source": [
    "Q. Arithmetic Operations on integers\n",
    "Take two different integer values.\n",
    "Store them in two different variables.\n",
    "Do below operations on them:-\n",
    "Find sum of both numbers\n",
    "Find difference between them\n",
    "Find the product of both numbers.\n",
    "Find value after dividing first num with second number\n",
    "Find the remainder after dividing first number with second number\n",
    "Find the quotient after dividing first number with second number\n",
    "Find the result of the first num to the power of the second number."
   ]
  },
  {
   "cell_type": "code",
   "execution_count": 16,
   "id": "75245841-6a0b-4645-a27e-985519791881",
   "metadata": {},
   "outputs": [
    {
     "name": "stdout",
     "output_type": "stream",
     "text": [
      "Sum: 40\n",
      "Difference: 10\n",
      "Product: 375\n",
      "Division: 1.6666666666666667\n",
      "Remainder: 10\n",
      "Quotient: 1\n",
      "Power: 931322574615478515625\n"
     ]
    }
   ],
   "source": [
    "# Define two different integer values and store them in variables\n",
    "num1 = 25\n",
    "num2 = 15\n",
    "\n",
    "# Find sum of both numbers\n",
    "sum_result = num1 + num2\n",
    "\n",
    "# Find difference between them\n",
    "difference_result = num1 - num2\n",
    "\n",
    "# Find the product of both numbers\n",
    "product_result = num1 * num2\n",
    "\n",
    "# Find value after dividing first num with second number\n",
    "division_result = num1 / num2\n",
    "\n",
    "# Find the remainder after dividing first number with second number\n",
    "remainder_result = num1 % num2\n",
    "\n",
    "# Find the quotient after dividing first number with second number\n",
    "quotient_result = num1 // num2\n",
    "\n",
    "# Find the result of the first num to the power of the second number\n",
    "power_result = num1 ** num2\n",
    "\n",
    "# Print results\n",
    "print(\"Sum:\", sum_result)\n",
    "print(\"Difference:\", difference_result)\n",
    "print(\"Product:\", product_result)\n",
    "print(\"Division:\", division_result)\n",
    "print(\"Remainder:\", remainder_result)\n",
    "print(\"Quotient:\", quotient_result)\n",
    "print(\"Power:\", power_result)"
   ]
  },
  {
   "cell_type": "code",
   "execution_count": null,
   "id": "ca2542d8-81c8-4d08-b3bd-7d871e370372",
   "metadata": {},
   "outputs": [],
   "source": [
    "Q. Comparison Operators on integers\n",
    "Take two different integer values.\n",
    "Store them in two different variables.\n",
    "Do below operations on them:-\n",
    "Compare se two numbers with below operator:-\n",
    "Greater than, '>'\n",
    "Smaller than, '<'\n",
    "Greater than or equal to, '>='\n",
    "Less than or equal to, '<='\n",
    "Observe their output(return type should be boolean)"
   ]
  },
  {
   "cell_type": "code",
   "execution_count": 19,
   "id": "85252122-ea23-4aaa-89e1-42eda638cd38",
   "metadata": {},
   "outputs": [
    {
     "name": "stdout",
     "output_type": "stream",
     "text": [
      "Is num1 greater than num2? True\n",
      "Is num1 smaller than num2? False\n",
      "Is num1 greater than or equal to num2? True\n",
      "Is num1 smaller than or equal to num2? False\n"
     ]
    }
   ],
   "source": [
    "# Take two different integer values\n",
    "num1 = 55\n",
    "num2 = 35\n",
    "\n",
    "# Compare the two numbers using comparison operators\n",
    "greater_than = num1 > num2\n",
    "smaller_than = num1 < num2\n",
    "greater_than_equal = num1 >= num2\n",
    "smaller_than_equal = num1 <= num2\n",
    "\n",
    "# Print the results\n",
    "print(f\"Is num1 greater than num2? {greater_than}\")\n",
    "print(f\"Is num1 smaller than num2? {smaller_than}\")\n",
    "print(f\"Is num1 greater than or equal to num2? {greater_than_equal}\")\n",
    "print(f\"Is num1 smaller than or equal to num2? {smaller_than_equal}\")"
   ]
  },
  {
   "cell_type": "code",
   "execution_count": null,
   "id": "a4a3e8d6-d588-472f-b37d-8cd7722b2f72",
   "metadata": {},
   "outputs": [],
   "source": [
    "Q. Equality Operator\n",
    "Take two different integer values.\n",
    "Store them in two different variables.\n",
    "Equate them using equality operators (==, !=)\n",
    "Observe the output(return type should be boolean)"
   ]
  },
  {
   "cell_type": "code",
   "execution_count": 23,
   "id": "07772231-8cd3-4381-a977-0940c339b563",
   "metadata": {},
   "outputs": [
    {
     "name": "stdout",
     "output_type": "stream",
     "text": [
      "Are num1 and num2 equal? False\n",
      "Are num1 and num2 not equal? True\n"
     ]
    }
   ],
   "source": [
    "# Take two different integer values\n",
    "num1 = 74\n",
    "num2 = 35\n",
    "\n",
    "# Equate them using equality operators\n",
    "equal_result = num1 == num2\n",
    "not_equal_result = num1 != num2\n",
    "\n",
    "# Print the results\n",
    "print(f\"Are num1 and num2 equal? {equal_result}\")\n",
    "print(f\"Are num1 and num2 not equal? {not_equal_result}\")"
   ]
  },
  {
   "cell_type": "code",
   "execution_count": null,
   "id": "e77c069c-dd73-4958-8ebd-e7a357e2b5c8",
   "metadata": {},
   "outputs": [],
   "source": [
    "Q Cross-check the output manually\n",
    "print(10 and 20)\n",
    "#----------------------------------------->Output is 20\n",
    "print(0 and 20)\n",
    "#----------------------------------------->Output is 0\n",
    "print(20 and 0)\n",
    "#----------------------------------------->Output is 0\n",
    "print(0 and 0)\n",
    "#----------------------------------------->Output is 0\n",
    "print(10 or 20)\n",
    "#----------------------------------------->Output is 10\n",
    "print(0 or 20)\n",
    "#----------------------------------------->Output is 20\n",
    "print(20 or 0)\n",
    "#----------------------------------------->Output is 20\n",
    "print(0 or 0)\n",
    "#----------------------------------------->Output is 0\n",
    "print(not 10)\n",
    "#----------------------------------------->Output is False\n",
    "print(not 0)\n",
    "#----------------------------------------->Output is True"
   ]
  },
  {
   "cell_type": "code",
   "execution_count": null,
   "id": "49a738bc-c955-4aed-b9da-2ca4bb0e18a8",
   "metadata": {},
   "outputs": [],
   "source": []
  },
  {
   "cell_type": "code",
   "execution_count": 25,
   "id": "db99c79b-e08d-4099-98ac-72ba96539a22",
   "metadata": {},
   "outputs": [
    {
     "name": "stdout",
     "output_type": "stream",
     "text": [
      "20\n"
     ]
    }
   ],
   "source": [
    "a =10\n",
    "b = 20\n",
    "print(10 and 20)"
   ]
  },
  {
   "cell_type": "code",
   "execution_count": 26,
   "id": "e551ef90-21d9-4acc-ac3e-e1f2f4a0ba7f",
   "metadata": {},
   "outputs": [
    {
     "name": "stdout",
     "output_type": "stream",
     "text": [
      "0\n"
     ]
    }
   ],
   "source": [
    "a = 0\n",
    "b = 20\n",
    "print(0 and 20)"
   ]
  },
  {
   "cell_type": "code",
   "execution_count": 27,
   "id": "5710e46d-aa95-4664-bc40-671b7c54d88d",
   "metadata": {},
   "outputs": [
    {
     "name": "stdout",
     "output_type": "stream",
     "text": [
      "0\n"
     ]
    }
   ],
   "source": [
    "a = 20\n",
    "b = 0\n",
    "print(20 and 0)"
   ]
  },
  {
   "cell_type": "code",
   "execution_count": 28,
   "id": "779afc60-ada0-4b74-b83d-0c9dffa74f8f",
   "metadata": {},
   "outputs": [
    {
     "name": "stdout",
     "output_type": "stream",
     "text": [
      "0\n"
     ]
    }
   ],
   "source": [
    "a = 0\n",
    "b = 0\n",
    "print(0 and 0)"
   ]
  },
  {
   "cell_type": "code",
   "execution_count": 29,
   "id": "ff39a9b9-9f74-41b9-b73d-74beca494d1a",
   "metadata": {},
   "outputs": [
    {
     "name": "stdout",
     "output_type": "stream",
     "text": [
      "10\n"
     ]
    }
   ],
   "source": [
    "a = 10\n",
    "b = 20\n",
    "print(10 or 20)"
   ]
  },
  {
   "cell_type": "code",
   "execution_count": 31,
   "id": "05dac0bb-c5e1-472f-8d2b-a216350a80e2",
   "metadata": {},
   "outputs": [
    {
     "name": "stdout",
     "output_type": "stream",
     "text": [
      "20\n"
     ]
    }
   ],
   "source": [
    "a = 0\n",
    "b = 20\n",
    "print(0 or 20)"
   ]
  },
  {
   "cell_type": "code",
   "execution_count": 33,
   "id": "60562b66-bdaf-4ccf-9a8b-3162b40396a5",
   "metadata": {},
   "outputs": [
    {
     "name": "stdout",
     "output_type": "stream",
     "text": [
      "20\n"
     ]
    }
   ],
   "source": [
    "a = 20\n",
    "b = 0\n",
    "print(20 or 0)"
   ]
  },
  {
   "cell_type": "code",
   "execution_count": 34,
   "id": "70d171b4-ebd2-4f53-86ba-80ca64da38f9",
   "metadata": {},
   "outputs": [
    {
     "name": "stdout",
     "output_type": "stream",
     "text": [
      "0\n"
     ]
    }
   ],
   "source": [
    "a = 0\n",
    "b = 0\n",
    "print(0 or 0)\n"
   ]
  },
  {
   "cell_type": "code",
   "execution_count": 35,
   "id": "66121cc4-fc9c-4a56-85d5-5d7a41e545aa",
   "metadata": {},
   "outputs": [
    {
     "name": "stdout",
     "output_type": "stream",
     "text": [
      "False\n"
     ]
    }
   ],
   "source": [
    "a = 10\n",
    "b = 20\n",
    "print(not 10)"
   ]
  },
  {
   "cell_type": "code",
   "execution_count": 36,
   "id": "f3072a79-eaf3-42c4-bf9b-b98c4485e4d5",
   "metadata": {},
   "outputs": [
    {
     "name": "stdout",
     "output_type": "stream",
     "text": [
      "True\n"
     ]
    }
   ],
   "source": [
    "a = 0\n",
    "b = 20\n",
    "print(not 0)"
   ]
  },
  {
   "cell_type": "code",
   "execution_count": 37,
   "id": "a86dd562-baaa-4176-a506-7b660ae0ed1d",
   "metadata": {},
   "outputs": [
    {
     "ename": "SyntaxError",
     "evalue": "invalid syntax (144497285.py, line 1)",
     "output_type": "error",
     "traceback": [
      "\u001b[1;36m  Cell \u001b[1;32mIn[37], line 1\u001b[1;36m\u001b[0m\n\u001b[1;33m    Q. Bitwise Operators\u001b[0m\n\u001b[1;37m               ^\u001b[0m\n\u001b[1;31mSyntaxError\u001b[0m\u001b[1;31m:\u001b[0m invalid syntax\n"
     ]
    }
   ],
   "source": [
    "Q. Bitwise Operators\n",
    "Do below operations on the values provided below:-\n",
    "Bitwise and(&) -----------------------------------------> 10, 20\n",
    "-------> Output is 0\n",
    "Bitwise or(|) -----------------------------------------> 10, 20\n",
    "-------> Output is 30\n",
    "Bitwise(^) -----------------------------------------> 10, 20\n",
    "-------> Output is 30\n",
    "Bitwise negation(~) ------------------------------------> 10\n",
    "-------> Output is -11\n",
    "Bitwise left shift ------------------------------------> 10,2\n",
    "-------> Output is 40\n",
    "Bitwise right shift ------------------------------------> 10,2\n",
    "-------> Output is 2\n",
    "Cross check the output manually"
   ]
  },
  {
   "cell_type": "code",
   "execution_count": null,
   "id": "7feedfb6-8a52-4046-8fe4-d5afdf85b33b",
   "metadata": {},
   "outputs": [],
   "source": [
    "# Bitwise AND (&):\n",
    "Bitwise AND (&) between 10 and 20:\n",
    "Binary representation of 10: 1010\n",
    "Binary representation of 20: 10100\n",
    "Result: 00000 (which is 0 in decimal)"
   ]
  },
  {
   "cell_type": "code",
   "execution_count": 40,
   "id": "8871d45e-4928-4705-bcb1-54037a5c3bde",
   "metadata": {},
   "outputs": [
    {
     "name": "stdout",
     "output_type": "stream",
     "text": [
      "Bitwise AND: 0\n"
     ]
    }
   ],
   "source": [
    "print(\"Bitwise AND:\", 10 & 20)"
   ]
  },
  {
   "cell_type": "code",
   "execution_count": null,
   "id": "a80a2bc5-c104-441e-8fcb-b5114716b8d9",
   "metadata": {},
   "outputs": [],
   "source": [
    "# Bitwise OR (|)\n",
    "Bitwise OR (|) between 10 and 20:\n",
    "Binary representation of 10: 1010\n",
    "Binary representation of 20: 10100\n",
    "Result: 11110 (which is 30 in decimal)\n"
   ]
  },
  {
   "cell_type": "code",
   "execution_count": 41,
   "id": "5d1753c7-4218-4d26-8854-be06eef98677",
   "metadata": {},
   "outputs": [
    {
     "name": "stdout",
     "output_type": "stream",
     "text": [
      "Bitwise OR: 30\n"
     ]
    }
   ],
   "source": [
    "print(\"Bitwise OR:\", 10 | 20)"
   ]
  },
  {
   "cell_type": "code",
   "execution_count": 42,
   "id": "bc1da627-5704-47b8-b541-00701e44ed42",
   "metadata": {},
   "outputs": [
    {
     "ename": "SyntaxError",
     "evalue": "invalid syntax (3436565463.py, line 1)",
     "output_type": "error",
     "traceback": [
      "\u001b[1;36m  Cell \u001b[1;32mIn[42], line 1\u001b[1;36m\u001b[0m\n\u001b[1;33m    Bitwise XOR (^)\u001b[0m\n\u001b[1;37m            ^\u001b[0m\n\u001b[1;31mSyntaxError\u001b[0m\u001b[1;31m:\u001b[0m invalid syntax\n"
     ]
    }
   ],
   "source": [
    "# Bitwise XOR (^)\n",
    "Bitwise XOR (^) between 10 and 20:\n",
    "Binary representation of 10: 1010\n",
    "Binary representation of 20: 10100\n",
    "Result: 11110 (which is 30 in decimal)"
   ]
  },
  {
   "cell_type": "code",
   "execution_count": 43,
   "id": "a63a301a-7a46-4f37-bfe1-3f56cec41d35",
   "metadata": {},
   "outputs": [
    {
     "name": "stdout",
     "output_type": "stream",
     "text": [
      "Bitwise XOR: 30\n"
     ]
    }
   ],
   "source": [
    "print(\"Bitwise XOR:\", 10 ^ 20)"
   ]
  },
  {
   "cell_type": "code",
   "execution_count": null,
   "id": "fd746507-05c7-43ee-905d-582ec7591917",
   "metadata": {},
   "outputs": [],
   "source": [
    "# Bitwise negation (~)\n",
    "Bitwise negation (~) of 10:\n",
    "Binary representation of 10: 00001010\n",
    "Negation: 11110101 (which is -11 in decimal)"
   ]
  },
  {
   "cell_type": "code",
   "execution_count": 46,
   "id": "8297439b-db88-4320-91a1-9903ac95fe10",
   "metadata": {},
   "outputs": [
    {
     "name": "stdout",
     "output_type": "stream",
     "text": [
      "Bitwise negation: -11\n"
     ]
    }
   ],
   "source": [
    "print(\"Bitwise negation:\", ~10)"
   ]
  },
  {
   "cell_type": "code",
   "execution_count": null,
   "id": "b0d1f555-d1cc-403e-bbf2-7b6919bd1404",
   "metadata": {},
   "outputs": [],
   "source": [
    "# Bitwise left shift ('<<')\n",
    "Bitwise left shift (<<) of 10 by 2 positions:\n",
    "Binary representation of 10: 00001010\n",
    "After left shift by 2: 00101000 (which is 40 in decimal)"
   ]
  },
  {
   "cell_type": "code",
   "execution_count": 47,
   "id": "a738a681-89ec-4286-8c45-8e960e7d644e",
   "metadata": {},
   "outputs": [
    {
     "name": "stdout",
     "output_type": "stream",
     "text": [
      "Bitwise left shift: 40\n"
     ]
    }
   ],
   "source": [
    "print(\"Bitwise left shift:\", 10 << 2)"
   ]
  },
  {
   "cell_type": "code",
   "execution_count": null,
   "id": "f90b2bdb-90b7-43a6-a2fd-5ea6791ccb1c",
   "metadata": {},
   "outputs": [],
   "source": [
    "# Bitwise right shift ('>>')\n",
    "Binary representation of 10: 00001010\n",
    "After right shift by 2: 00000010 (which is 2 in decimal)"
   ]
  },
  {
   "cell_type": "code",
   "execution_count": 48,
   "id": "99cf7990-4217-4998-98bb-9711572e95c5",
   "metadata": {},
   "outputs": [
    {
     "name": "stdout",
     "output_type": "stream",
     "text": [
      "Bitwise Right Shift: 2\n"
     ]
    }
   ],
   "source": [
    "print(\"Bitwise Right Shift:\", 10>> 2)"
   ]
  },
  {
   "cell_type": "code",
   "execution_count": null,
   "id": "7d38afd4-345f-4b98-82a7-27ebafe3cfa5",
   "metadata": {},
   "outputs": [],
   "source": [
    "Q. What is the output of expression inside print statement. Cross check\n",
    "before running the program."
   ]
  },
  {
   "cell_type": "code",
   "execution_count": 49,
   "id": "bbaa44ef-c2f7-436e-a060-297e37ae1230",
   "metadata": {},
   "outputs": [
    {
     "name": "stdout",
     "output_type": "stream",
     "text": [
      "True\n"
     ]
    }
   ],
   "source": [
    "a = 10\n",
    "b = 10 \n",
    "print(a is b)"
   ]
  },
  {
   "cell_type": "code",
   "execution_count": 50,
   "id": "ca4a10e8-ed31-4544-a601-c6288ea3afd3",
   "metadata": {},
   "outputs": [
    {
     "name": "stdout",
     "output_type": "stream",
     "text": [
      "False\n"
     ]
    }
   ],
   "source": [
    "a = 10\n",
    "b = 10 \n",
    "print(a is not b)"
   ]
  },
  {
   "cell_type": "code",
   "execution_count": 51,
   "id": "8735f80a-399a-4089-ab71-10bda066f854",
   "metadata": {},
   "outputs": [
    {
     "name": "stdout",
     "output_type": "stream",
     "text": [
      "False\n"
     ]
    }
   ],
   "source": [
    "a = 1000\n",
    "b = 1000\n",
    "print(a is b)\n"
   ]
  },
  {
   "cell_type": "code",
   "execution_count": 52,
   "id": "ef96a681-d301-4005-8baa-7540e61e771f",
   "metadata": {},
   "outputs": [
    {
     "name": "stdout",
     "output_type": "stream",
     "text": [
      "True\n"
     ]
    }
   ],
   "source": [
    "a = 1000\n",
    "b = 1000\n",
    "print(a is not b)"
   ]
  },
  {
   "cell_type": "code",
   "execution_count": null,
   "id": "aaeed3d5-aeb5-4d27-b98c-696b91804420",
   "metadata": {},
   "outputs": [],
   "source": [
    "# 1. For a = 10 and b = 10, since 10 is a small integer, Python will reuse the same object for both a and b. So, a is b will be True, and a is not b will be False.\n",
    "\n",
    "# 2. For a = 1000 and b = 1000, these are larger integers, so Python does not reuse the objects. Thus, a is b will be False, and a is not b will be True."
   ]
  },
  {
   "cell_type": "code",
   "execution_count": null,
   "id": "ade2dd28-04ef-4a7d-9fdf-16d546375c60",
   "metadata": {},
   "outputs": [],
   "source": [
    "Q. What is the output of expression inside print statement. Cross check\n",
    "before running the program.\n",
    "print(10+(10*32)//2**5&20+(~(-10))<<2)"
   ]
  },
  {
   "cell_type": "code",
   "execution_count": 57,
   "id": "79f51eda-a5fb-40de-9537-48ce8ee99840",
   "metadata": {},
   "outputs": [
    {
     "name": "stdout",
     "output_type": "stream",
     "text": [
      "320\n"
     ]
    }
   ],
   "source": [
    "a = 10\n",
    "b = 32\n",
    "print(10 * 32)"
   ]
  },
  {
   "cell_type": "code",
   "execution_count": 58,
   "id": "9e520704-aa92-4fcf-bb5b-dade3fb19669",
   "metadata": {},
   "outputs": [
    {
     "name": "stdout",
     "output_type": "stream",
     "text": [
      "32\n"
     ]
    }
   ],
   "source": [
    "a = 2\n",
    "b = 5\n",
    "print(a ** b)"
   ]
  },
  {
   "cell_type": "code",
   "execution_count": 59,
   "id": "e23c79f6-9d83-4a2d-9502-41a9c78e6d7d",
   "metadata": {},
   "outputs": [
    {
     "name": "stdout",
     "output_type": "stream",
     "text": [
      "10\n"
     ]
    }
   ],
   "source": [
    "a = 320 \n",
    "b = 32\n",
    "print(a // b)"
   ]
  },
  {
   "cell_type": "code",
   "execution_count": null,
   "id": "4485f103-50df-4f16-baf8-40dd7ee05dca",
   "metadata": {},
   "outputs": [],
   "source": [
    "10 + 160 = 170"
   ]
  },
  {
   "cell_type": "code",
   "execution_count": 63,
   "id": "0daac431-93be-458d-83ca-62418581be8a",
   "metadata": {},
   "outputs": [
    {
     "name": "stdout",
     "output_type": "stream",
     "text": [
      "Bitwise negation: 9\n"
     ]
    }
   ],
   "source": [
    "print(\"Bitwise negation:\", ~(-10))"
   ]
  },
  {
   "cell_type": "code",
   "execution_count": 64,
   "id": "a33d1c54-0442-4c48-983a-ff26e7f2a235",
   "metadata": {},
   "outputs": [
    {
     "name": "stdout",
     "output_type": "stream",
     "text": [
      "29\n"
     ]
    }
   ],
   "source": [
    "a = 9 \n",
    "b = 20\n",
    "print(a + b)"
   ]
  },
  {
   "cell_type": "code",
   "execution_count": 65,
   "id": "197afbf4-332b-4b6d-ad4c-d94864f16b74",
   "metadata": {},
   "outputs": [
    {
     "name": "stdout",
     "output_type": "stream",
     "text": [
      "116\n"
     ]
    }
   ],
   "source": [
    "a = 29\n",
    "b = 2 \n",
    "print(a << b)"
   ]
  },
  {
   "cell_type": "code",
   "execution_count": 84,
   "id": "2eefa398-ea84-44d8-ba49-4033784555ce",
   "metadata": {},
   "outputs": [
    {
     "name": "stdout",
     "output_type": "stream",
     "text": [
      "10\n"
     ]
    }
   ],
   "source": [
    "a = 116\n",
    "b = 10\n",
    "print(a and b)"
   ]
  },
  {
   "cell_type": "code",
   "execution_count": 79,
   "id": "632ac567-2e0e-4fb4-bce9-b189ed075e3c",
   "metadata": {},
   "outputs": [
    {
     "name": "stdout",
     "output_type": "stream",
     "text": [
      "20\n"
     ]
    }
   ],
   "source": [
    "a = 10\n",
    "b = 10\n",
    "print(a + b)"
   ]
  },
  {
   "cell_type": "code",
   "execution_count": 80,
   "id": "994b86a4-68b3-4d1f-9f5c-95752ca4d26b",
   "metadata": {},
   "outputs": [
    {
     "name": "stdout",
     "output_type": "stream",
     "text": [
      "20\n"
     ]
    }
   ],
   "source": [
    "print(10+(10*32)//2**5&20+(~(-10))<<2)"
   ]
  },
  {
   "cell_type": "code",
   "execution_count": null,
   "id": "0a3a0ca8-5597-4e27-b9b4-c9100b1567e7",
   "metadata": {},
   "outputs": [],
   "source": [
    "Q. Membership operation\n",
    "in, not in are two membership operators and it returns boolean value\n",
    "print('2' in 'Python2.7.8')\n",
    "print(10 in [10,10.20,10+20j,'Python'])\n",
    "print(10 in (10,10.20,10+20j,'Python'))\n",
    "print(2 in {1,2,3})\n",
    "print(3 in {1:100, 2:200, 3:300})\n",
    "print(10 in range(20))"
   ]
  },
  {
   "cell_type": "code",
   "execution_count": 85,
   "id": "149aa20e-a51a-4034-95d9-dab9df2dd50a",
   "metadata": {},
   "outputs": [
    {
     "name": "stdout",
     "output_type": "stream",
     "text": [
      "True\n"
     ]
    }
   ],
   "source": [
    "print('2' in 'Python2.7.8')"
   ]
  },
  {
   "cell_type": "code",
   "execution_count": null,
   "id": "a80dbcd5-1f90-4281-8ed9-67733c23bbd5",
   "metadata": {},
   "outputs": [],
   "source": [
    "# Output: True (because '2' is present in the string 'Python2.7.8')"
   ]
  },
  {
   "cell_type": "code",
   "execution_count": 86,
   "id": "1dbbe60c-0076-49be-bfc4-9d4654d2e7c5",
   "metadata": {},
   "outputs": [
    {
     "name": "stdout",
     "output_type": "stream",
     "text": [
      "True\n"
     ]
    }
   ],
   "source": [
    "print(10 in [10,10.20,10+20j,'Python'])"
   ]
  },
  {
   "cell_type": "code",
   "execution_count": null,
   "id": "11d39e28-24d7-4831-a1e9-3e69012ba570",
   "metadata": {},
   "outputs": [],
   "source": [
    "# Output: True (because 10 is present in the list [10, 10.20, 10+20j, 'Python'])\n"
   ]
  },
  {
   "cell_type": "code",
   "execution_count": 87,
   "id": "ec162ab7-94d7-4304-bc0e-7658f751bdda",
   "metadata": {},
   "outputs": [
    {
     "name": "stdout",
     "output_type": "stream",
     "text": [
      "True\n"
     ]
    }
   ],
   "source": [
    "print(10 in (10,10.20,10+20j,'Python'))"
   ]
  },
  {
   "cell_type": "code",
   "execution_count": null,
   "id": "f44955fa-eaf9-4914-af44-40eb7582fa71",
   "metadata": {},
   "outputs": [],
   "source": [
    "# Output: True (because 10 is present in the tuple (10, 10.20, 10+20j, 'Python'))"
   ]
  },
  {
   "cell_type": "code",
   "execution_count": 88,
   "id": "2fad1493-96d0-4e99-a506-bd75d4d4345f",
   "metadata": {},
   "outputs": [
    {
     "name": "stdout",
     "output_type": "stream",
     "text": [
      "True\n"
     ]
    }
   ],
   "source": [
    "print(2 in {1,2,3})"
   ]
  },
  {
   "cell_type": "code",
   "execution_count": null,
   "id": "2ece5420-b0d0-43eb-95cb-43e53afe935d",
   "metadata": {},
   "outputs": [],
   "source": [
    "# Output: True (because 2 is present in the set {1, 2, 3})"
   ]
  },
  {
   "cell_type": "code",
   "execution_count": 89,
   "id": "5c611b81-3db8-4fc0-ac42-8e257870a6d2",
   "metadata": {},
   "outputs": [
    {
     "name": "stdout",
     "output_type": "stream",
     "text": [
      "True\n"
     ]
    }
   ],
   "source": [
    "print(3 in {1:100, 2:200, 3:300})"
   ]
  },
  {
   "cell_type": "code",
   "execution_count": null,
   "id": "2155a42c-20e9-4e5c-9ce0-34246912d8ca",
   "metadata": {},
   "outputs": [],
   "source": [
    "# Output: True (because 3 is a key in the dictionary {1: 100, 2: 200, 3: 300})"
   ]
  },
  {
   "cell_type": "code",
   "execution_count": 90,
   "id": "8df9d8c6-a2ec-43c2-8e5b-73b62120e4f8",
   "metadata": {},
   "outputs": [
    {
     "name": "stdout",
     "output_type": "stream",
     "text": [
      "True\n"
     ]
    }
   ],
   "source": [
    "print(10 in range(20))"
   ]
  },
  {
   "cell_type": "code",
   "execution_count": null,
   "id": "2531892b-b09c-48c5-836e-10c66a01f10f",
   "metadata": {},
   "outputs": [],
   "source": [
    "# Output: True (because 10 is present in the range object generated by range(20))"
   ]
  },
  {
   "cell_type": "code",
   "execution_count": null,
   "id": "990a0e8e-ca03-48c3-a85b-6135d6177243",
   "metadata": {},
   "outputs": [],
   "source": [
    "# Q. What will be the output of following:-"
   ]
  },
  {
   "cell_type": "code",
   "execution_count": 1,
   "id": "4fe374c7-2d0b-4164-817c-a3ecf715d5c3",
   "metadata": {},
   "outputs": [
    {
     "name": "stdout",
     "output_type": "stream",
     "text": [
      "80\n"
     ]
    }
   ],
   "source": [
    "a = 0b1010000\n",
    "print(a)"
   ]
  },
  {
   "cell_type": "code",
   "execution_count": 2,
   "id": "f00c5a5a-9a85-4c53-adfe-14b362300a36",
   "metadata": {},
   "outputs": [
    {
     "name": "stdout",
     "output_type": "stream",
     "text": [
      "3870\n"
     ]
    }
   ],
   "source": [
    "b = 0o7436\n",
    "print(b)"
   ]
  },
  {
   "cell_type": "code",
   "execution_count": 3,
   "id": "e70861a7-f44c-4a0b-aa0f-153f22a7d7f6",
   "metadata": {},
   "outputs": [
    {
     "name": "stdout",
     "output_type": "stream",
     "text": [
      "64222\n"
     ]
    }
   ],
   "source": [
    "c = 0xfade\n",
    "print(c)"
   ]
  },
  {
   "cell_type": "code",
   "execution_count": null,
   "id": "ab875417-635a-46be-ab42-d52ff3993e8a",
   "metadata": {},
   "outputs": [],
   "source": []
  },
  {
   "cell_type": "code",
   "execution_count": null,
   "id": "9eebb2bd-feb2-4117-9e57-2791668c6d7d",
   "metadata": {},
   "outputs": [],
   "source": []
  },
  {
   "cell_type": "code",
   "execution_count": null,
   "id": "f279b88d-7caf-40bc-adda-b0e2b1dcaff2",
   "metadata": {},
   "outputs": [],
   "source": []
  },
  {
   "cell_type": "code",
   "execution_count": null,
   "id": "d690ef7c-e2ad-4715-93ae-1ef10cd7de09",
   "metadata": {},
   "outputs": [],
   "source": []
  },
  {
   "cell_type": "code",
   "execution_count": null,
   "id": "5706d7d0-cf2f-451a-8da0-7cd206d92e99",
   "metadata": {},
   "outputs": [],
   "source": []
  },
  {
   "cell_type": "code",
   "execution_count": null,
   "id": "ff4b4a05-f239-4dc1-814c-2122b8c99980",
   "metadata": {},
   "outputs": [],
   "source": []
  },
  {
   "cell_type": "code",
   "execution_count": null,
   "id": "7a656c3b-f99a-444d-b9bb-53e02eb4bb25",
   "metadata": {},
   "outputs": [],
   "source": []
  }
 ],
 "metadata": {
  "kernelspec": {
   "display_name": "Python 3 (ipykernel)",
   "language": "python",
   "name": "python3"
  },
  "language_info": {
   "codemirror_mode": {
    "name": "ipython",
    "version": 3
   },
   "file_extension": ".py",
   "mimetype": "text/x-python",
   "name": "python",
   "nbconvert_exporter": "python",
   "pygments_lexer": "ipython3",
   "version": "3.11.7"
  }
 },
 "nbformat": 4,
 "nbformat_minor": 5
}
